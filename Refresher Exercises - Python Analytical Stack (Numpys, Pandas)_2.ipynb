{
 "cells": [
  {
   "cell_type": "markdown",
   "id": "56200918",
   "metadata": {},
   "source": [
    "# Refresher Exercises - Python Analytical Stack (Numpys, Pandas)_2\n",
    "source: https://github.com/guiwitz/NumpyPandas_course"
   ]
  },
  {
   "cell_type": "markdown",
   "id": "e3085698",
   "metadata": {},
   "source": [
    "## Pandas basics\n",
    "Exands based functionality of numpys to allow more robust operations.\n",
    "Equivalient to R loaded with packages such as data.table, tidyr,et al."
   ]
  },
  {
   "cell_type": "code",
   "execution_count": 1,
   "id": "dcad2b4f",
   "metadata": {},
   "outputs": [],
   "source": [
    "# first we load the necessary packages and data\n",
    "import numpy as np\n",
    "import pandas as pd\n",
    "import seaborn as sns"
   ]
  },
  {
   "cell_type": "markdown",
   "id": "023bed1d",
   "metadata": {},
   "source": [
    "## Importing data\n",
    "This can be done from a local source or directly from a URL"
   ]
  },
  {
   "cell_type": "code",
   "execution_count": 2,
   "id": "f7f0750b",
   "metadata": {},
   "outputs": [],
   "source": [
    "# local import\n",
    "projects = pd.read_csv('Data/P3_GrantExport.csv',sep = ';')"
   ]
  },
  {
   "cell_type": "code",
   "execution_count": null,
   "id": "3fc567de",
   "metadata": {},
   "outputs": [],
   "source": [
    "# import from url\n",
    "#projects = pd.read_csv('http://p3.snf.ch/P3Export/P3_GrantExport.csv',sep = ';')"
   ]
  },
  {
   "cell_type": "code",
   "execution_count": null,
   "id": "cd507f0e",
   "metadata": {},
   "outputs": [],
   "source": [
    "# Note that the same pd.read_csv is valid for both sources (like R)"
   ]
  },
  {
   "cell_type": "code",
   "execution_count": 3,
   "id": "1a4221cf",
   "metadata": {},
   "outputs": [
    {
     "data": {
      "text/html": [
       "<div>\n",
       "<style scoped>\n",
       "    .dataframe tbody tr th:only-of-type {\n",
       "        vertical-align: middle;\n",
       "    }\n",
       "\n",
       "    .dataframe tbody tr th {\n",
       "        vertical-align: top;\n",
       "    }\n",
       "\n",
       "    .dataframe thead th {\n",
       "        text-align: right;\n",
       "    }\n",
       "</style>\n",
       "<table border=\"1\" class=\"dataframe\">\n",
       "  <thead>\n",
       "    <tr style=\"text-align: right;\">\n",
       "      <th></th>\n",
       "      <th>Project Number</th>\n",
       "      <th>Project Number String</th>\n",
       "      <th>Project Title</th>\n",
       "      <th>Project Title English</th>\n",
       "      <th>Responsible Applicant</th>\n",
       "      <th>Funding Instrument</th>\n",
       "      <th>Funding Instrument Hierarchy</th>\n",
       "      <th>Institution</th>\n",
       "      <th>Institution Country</th>\n",
       "      <th>University</th>\n",
       "      <th>Discipline Number</th>\n",
       "      <th>Discipline Name</th>\n",
       "      <th>Discipline Name Hierarchy</th>\n",
       "      <th>All disciplines</th>\n",
       "      <th>Start Date</th>\n",
       "      <th>End Date</th>\n",
       "      <th>Approved Amount</th>\n",
       "      <th>Keywords</th>\n",
       "    </tr>\n",
       "  </thead>\n",
       "  <tbody>\n",
       "    <tr>\n",
       "      <th>0</th>\n",
       "      <td>1</td>\n",
       "      <td>1000-000001</td>\n",
       "      <td>Schlussband (Bd. VI) der Jacob Burckhardt-Biog...</td>\n",
       "      <td>NaN</td>\n",
       "      <td>Kaegi Werner</td>\n",
       "      <td>Project funding (Div. I-III)</td>\n",
       "      <td>Project funding</td>\n",
       "      <td>NaN</td>\n",
       "      <td>NaN</td>\n",
       "      <td>Unassignable - NA</td>\n",
       "      <td>10302</td>\n",
       "      <td>Swiss history</td>\n",
       "      <td>Humanities and Social Sciences;Theology &amp; reli...</td>\n",
       "      <td>10302</td>\n",
       "      <td>01.10.1975</td>\n",
       "      <td>30.09.1976</td>\n",
       "      <td>11619.00</td>\n",
       "      <td>NaN</td>\n",
       "    </tr>\n",
       "    <tr>\n",
       "      <th>1</th>\n",
       "      <td>4</td>\n",
       "      <td>1000-000004</td>\n",
       "      <td>Batterie de tests à l'usage des enseignants po...</td>\n",
       "      <td>NaN</td>\n",
       "      <td>Massarenti Léonard</td>\n",
       "      <td>Project funding (Div. I-III)</td>\n",
       "      <td>Project funding</td>\n",
       "      <td>Faculté de Psychologie et des Sciences de l'Ed...</td>\n",
       "      <td>Switzerland</td>\n",
       "      <td>University of Geneva - GE</td>\n",
       "      <td>10104</td>\n",
       "      <td>Educational science and Pedagogy</td>\n",
       "      <td>Humanities and Social Sciences;Psychology, edu...</td>\n",
       "      <td>10104</td>\n",
       "      <td>01.10.1975</td>\n",
       "      <td>30.09.1976</td>\n",
       "      <td>41022.00</td>\n",
       "      <td>NaN</td>\n",
       "    </tr>\n",
       "    <tr>\n",
       "      <th>2</th>\n",
       "      <td>5</td>\n",
       "      <td>1000-000005</td>\n",
       "      <td>Kritische Erstausgabe der 'Evidentiae contra D...</td>\n",
       "      <td>NaN</td>\n",
       "      <td>Kommission für das Corpus philosophorum medii ...</td>\n",
       "      <td>Project funding (Div. I-III)</td>\n",
       "      <td>Project funding</td>\n",
       "      <td>Kommission für das Corpus philosophorum medii ...</td>\n",
       "      <td>Switzerland</td>\n",
       "      <td>Non-profit organisations (libraries, museums, ...</td>\n",
       "      <td>10101</td>\n",
       "      <td>Philosophy</td>\n",
       "      <td>Humanities and Social Sciences;Linguistics and...</td>\n",
       "      <td>10101</td>\n",
       "      <td>01.03.1976</td>\n",
       "      <td>28.02.1985</td>\n",
       "      <td>79732.00</td>\n",
       "      <td>NaN</td>\n",
       "    </tr>\n",
       "    <tr>\n",
       "      <th>3</th>\n",
       "      <td>6</td>\n",
       "      <td>1000-000006</td>\n",
       "      <td>Katalog der datierten Handschriften in der Sch...</td>\n",
       "      <td>NaN</td>\n",
       "      <td>Burckhardt Max</td>\n",
       "      <td>Project funding (Div. I-III)</td>\n",
       "      <td>Project funding</td>\n",
       "      <td>Abteilung Handschriften und Alte Drucke Univer...</td>\n",
       "      <td>Switzerland</td>\n",
       "      <td>University of Basel - BS</td>\n",
       "      <td>10302</td>\n",
       "      <td>Swiss history</td>\n",
       "      <td>Humanities and Social Sciences;Theology &amp; reli...</td>\n",
       "      <td>10302</td>\n",
       "      <td>01.10.1975</td>\n",
       "      <td>30.09.1976</td>\n",
       "      <td>52627.00</td>\n",
       "      <td>NaN</td>\n",
       "    </tr>\n",
       "    <tr>\n",
       "      <th>4</th>\n",
       "      <td>7</td>\n",
       "      <td>1000-000007</td>\n",
       "      <td>Wissenschaftliche Mitarbeit am Thesaurus Lingu...</td>\n",
       "      <td>NaN</td>\n",
       "      <td>Schweiz. Thesauruskommission</td>\n",
       "      <td>Project funding (Div. I-III)</td>\n",
       "      <td>Project funding</td>\n",
       "      <td>Schweiz. Thesauruskommission</td>\n",
       "      <td>Switzerland</td>\n",
       "      <td>Non-profit organisations (libraries, museums, ...</td>\n",
       "      <td>10303</td>\n",
       "      <td>Ancient history and Classical studies</td>\n",
       "      <td>Humanities and Social Sciences;Theology &amp; reli...</td>\n",
       "      <td>10303</td>\n",
       "      <td>01.01.1976</td>\n",
       "      <td>30.04.1978</td>\n",
       "      <td>120042.00</td>\n",
       "      <td>NaN</td>\n",
       "    </tr>\n",
       "  </tbody>\n",
       "</table>\n",
       "</div>"
      ],
      "text/plain": [
       "   Project Number Project Number String  \\\n",
       "0               1           1000-000001   \n",
       "1               4           1000-000004   \n",
       "2               5           1000-000005   \n",
       "3               6           1000-000006   \n",
       "4               7           1000-000007   \n",
       "\n",
       "                                       Project Title Project Title English  \\\n",
       "0  Schlussband (Bd. VI) der Jacob Burckhardt-Biog...                   NaN   \n",
       "1  Batterie de tests à l'usage des enseignants po...                   NaN   \n",
       "2  Kritische Erstausgabe der 'Evidentiae contra D...                   NaN   \n",
       "3  Katalog der datierten Handschriften in der Sch...                   NaN   \n",
       "4  Wissenschaftliche Mitarbeit am Thesaurus Lingu...                   NaN   \n",
       "\n",
       "                               Responsible Applicant  \\\n",
       "0                                       Kaegi Werner   \n",
       "1                                 Massarenti Léonard   \n",
       "2  Kommission für das Corpus philosophorum medii ...   \n",
       "3                                     Burckhardt Max   \n",
       "4                       Schweiz. Thesauruskommission   \n",
       "\n",
       "             Funding Instrument Funding Instrument Hierarchy  \\\n",
       "0  Project funding (Div. I-III)              Project funding   \n",
       "1  Project funding (Div. I-III)              Project funding   \n",
       "2  Project funding (Div. I-III)              Project funding   \n",
       "3  Project funding (Div. I-III)              Project funding   \n",
       "4  Project funding (Div. I-III)              Project funding   \n",
       "\n",
       "                                         Institution Institution Country  \\\n",
       "0                                                NaN                 NaN   \n",
       "1  Faculté de Psychologie et des Sciences de l'Ed...         Switzerland   \n",
       "2  Kommission für das Corpus philosophorum medii ...         Switzerland   \n",
       "3  Abteilung Handschriften und Alte Drucke Univer...         Switzerland   \n",
       "4                       Schweiz. Thesauruskommission         Switzerland   \n",
       "\n",
       "                                          University  Discipline Number  \\\n",
       "0                                  Unassignable - NA              10302   \n",
       "1                          University of Geneva - GE              10104   \n",
       "2  Non-profit organisations (libraries, museums, ...              10101   \n",
       "3                           University of Basel - BS              10302   \n",
       "4  Non-profit organisations (libraries, museums, ...              10303   \n",
       "\n",
       "                         Discipline Name  \\\n",
       "0                          Swiss history   \n",
       "1       Educational science and Pedagogy   \n",
       "2                             Philosophy   \n",
       "3                          Swiss history   \n",
       "4  Ancient history and Classical studies   \n",
       "\n",
       "                           Discipline Name Hierarchy All disciplines  \\\n",
       "0  Humanities and Social Sciences;Theology & reli...           10302   \n",
       "1  Humanities and Social Sciences;Psychology, edu...           10104   \n",
       "2  Humanities and Social Sciences;Linguistics and...           10101   \n",
       "3  Humanities and Social Sciences;Theology & reli...           10302   \n",
       "4  Humanities and Social Sciences;Theology & reli...           10303   \n",
       "\n",
       "   Start Date    End Date Approved Amount Keywords  \n",
       "0  01.10.1975  30.09.1976        11619.00      NaN  \n",
       "1  01.10.1975  30.09.1976        41022.00      NaN  \n",
       "2  01.03.1976  28.02.1985        79732.00      NaN  \n",
       "3  01.10.1975  30.09.1976        52627.00      NaN  \n",
       "4  01.01.1976  30.04.1978       120042.00      NaN  "
      ]
     },
     "execution_count": 3,
     "metadata": {},
     "output_type": "execute_result"
    }
   ],
   "source": [
    "# And now for a brief look at the imported data using head (like R)\n",
    "projects.head(5)"
   ]
  },
  {
   "cell_type": "markdown",
   "id": "001f66c2",
   "metadata": {},
   "source": [
    "## Exploring data\n",
    "Pandas offers many of the same tools found in data.table and tidyR.\n",
    "As with prior examples, in Python, this is done using object methods."
   ]
  },
  {
   "cell_type": "code",
   "execution_count": 4,
   "id": "c1feec7f",
   "metadata": {},
   "outputs": [
    {
     "data": {
      "text/plain": [
       "Institution abroad - IACH      13348\n",
       "University of Zurich - ZH       8170\n",
       "University of Geneva - GE       7385\n",
       "ETH Zurich - ETHZ               7278\n",
       "University of Berne - BE        6445\n",
       "University of Basel - BS        5560\n",
       "EPF Lausanne - EPFL             5174\n",
       "University of Lausanne - LA     4944\n",
       "Unassignable - NA               2642\n",
       "University of Fribourg - FR     2535\n",
       "Name: University, dtype: int64"
      ]
     },
     "execution_count": 4,
     "metadata": {},
     "output_type": "execute_result"
    }
   ],
   "source": [
    "# For example, value counts are done using the value_counts() method\n",
    "projects['University'].value_counts().head(10)"
   ]
  },
  {
   "cell_type": "code",
   "execution_count": 5,
   "id": "b82123d2",
   "metadata": {},
   "outputs": [
    {
     "data": {
      "text/plain": [
       "<AxesSubplot:>"
      ]
     },
     "execution_count": 5,
     "metadata": {},
     "output_type": "execute_result"
    },
    {
     "data": {
      "image/png": "[encoded data removed]",
      "text/plain": [
       "<Figure size 432x288 with 1 Axes>"
      ]
     },
     "metadata": {
      "needs_background": "light"
     },
     "output_type": "display_data"
    }
   ],
   "source": [
    "# This can be plotted using similar syntax. Note matplotlib is used.\n",
    "projects['University'].value_counts().head(10).plot(kind='bar')"
   ]
  },
  {
   "cell_type": "markdown",
   "id": "43fbdde8",
   "metadata": {},
   "source": [
    "## Handling different data types\n",
    "Unlike Numpy arrays, Pandas data.frames can have different data types."
   ]
  },
  {
   "cell_type": "code",
   "execution_count": null,
   "id": "9a49b2c3",
   "metadata": {},
   "outputs": [],
   "source": [
    "# For example, dates are presented in the data.\n",
    "# However, they must first be converted from strings (ala R).\n",
    "# Here, we extract data to a new column and then then the year."
   ]
  },
  {
   "cell_type": "code",
   "execution_count": 7,
   "id": "cc4e7458",
   "metadata": {},
   "outputs": [
    {
     "data": {
      "text/plain": [
       "Timestamp('1975-01-10 00:00:00')"
      ]
     },
     "execution_count": 7,
     "metadata": {},
     "output_type": "execute_result"
    }
   ],
   "source": [
    "# First, we create a new column and apply the to_datetime method to it\n",
    "projects['start'] = pd.to_datetime(projects['Start Date'])\n",
    "projects.loc[0].start"
   ]
  },
  {
   "cell_type": "code",
   "execution_count": 8,
   "id": "03aaf02a",
   "metadata": {},
   "outputs": [
    {
     "data": {
      "text/plain": [
       "1975.0"
      ]
     },
     "execution_count": 8,
     "metadata": {},
     "output_type": "execute_result"
    }
   ],
   "source": [
    "# Next, we create another column and extract the year\n",
    "projects['year'] = projects.start.apply(lambda x: x.year)\n",
    "projects.loc[0].start\n",
    "projects.loc[0].year"
   ]
  },
  {
   "cell_type": "markdown",
   "id": "68f18dc6",
   "metadata": {},
   "source": [
    "## Data wrangling, aggregation and statistics\n",
    "Data wrangling is done in a fashion similar to R"
   ]
  },
  {
   "cell_type": "code",
   "execution_count": 9,
   "id": "55603536",
   "metadata": {},
   "outputs": [
    {
     "ename": "ValueError",
     "evalue": "Unable to parse string \"data not included in P3\" at position 9210",
     "output_type": "error",
     "traceback": [
      "\u001b[0;31m---------------------------------------------------------------------------\u001b[0m",
      "\u001b[0;31mValueError\u001b[0m                                Traceback (most recent call last)",
      "\u001b[0;32m/usr/local/anaconda3/lib/python3.9/site-packages/pandas/_libs/lib.pyx\u001b[0m in \u001b[0;36mpandas._libs.lib.maybe_convert_numeric\u001b[0;34m()\u001b[0m\n",
      "\u001b[0;31mValueError\u001b[0m: Unable to parse string \"data not included in P3\"",
      "\nDuring handling of the above exception, another exception occurred:\n",
      "\u001b[0;31mValueError\u001b[0m                                Traceback (most recent call last)",
      "\u001b[0;32m/var/folders/l9/zf8fhrds2nd_sfhd808zjdd80000gn/T/ipykernel_45801/2851061094.py\u001b[0m in \u001b[0;36m<module>\u001b[0;34m\u001b[0m\n\u001b[1;32m      1\u001b[0m \u001b[0;31m# For example, first we convert Approved Amount to a numeric value.\u001b[0m\u001b[0;34m\u001b[0m\u001b[0;34m\u001b[0m\u001b[0m\n\u001b[1;32m      2\u001b[0m \u001b[0;31m# We do this, because it was loaded as text dt \"NA\" strings in some rows.\u001b[0m\u001b[0;34m\u001b[0m\u001b[0;34m\u001b[0m\u001b[0m\n\u001b[0;32m----> 3\u001b[0;31m \u001b[0mprojects\u001b[0m\u001b[0;34m[\u001b[0m\u001b[0;34m'Approved Amount'\u001b[0m\u001b[0;34m]\u001b[0m \u001b[0;34m=\u001b[0m \u001b[0mpd\u001b[0m\u001b[0;34m.\u001b[0m\u001b[0mto_numeric\u001b[0m\u001b[0;34m(\u001b[0m\u001b[0mprojects\u001b[0m\u001b[0;34m[\u001b[0m\u001b[0;34m'Approved Amount'\u001b[0m\u001b[0;34m]\u001b[0m\u001b[0;34m)\u001b[0m\u001b[0;34m\u001b[0m\u001b[0;34m\u001b[0m\u001b[0m\n\u001b[0m",
      "\u001b[0;32m/usr/local/anaconda3/lib/python3.9/site-packages/pandas/core/tools/numeric.py\u001b[0m in \u001b[0;36mto_numeric\u001b[0;34m(arg, errors, downcast)\u001b[0m\n\u001b[1;32m    181\u001b[0m         \u001b[0mcoerce_numeric\u001b[0m \u001b[0;34m=\u001b[0m \u001b[0merrors\u001b[0m \u001b[0;32mnot\u001b[0m \u001b[0;32min\u001b[0m \u001b[0;34m(\u001b[0m\u001b[0;34m\"ignore\"\u001b[0m\u001b[0;34m,\u001b[0m \u001b[0;34m\"raise\"\u001b[0m\u001b[0;34m)\u001b[0m\u001b[0;34m\u001b[0m\u001b[0;34m\u001b[0m\u001b[0m\n\u001b[1;32m    182\u001b[0m         \u001b[0;32mtry\u001b[0m\u001b[0;34m:\u001b[0m\u001b[0;34m\u001b[0m\u001b[0;34m\u001b[0m\u001b[0m\n\u001b[0;32m--> 183\u001b[0;31m             values, _ = lib.maybe_convert_numeric(\n\u001b[0m\u001b[1;32m    184\u001b[0m                 \u001b[0mvalues\u001b[0m\u001b[0;34m,\u001b[0m \u001b[0mset\u001b[0m\u001b[0;34m(\u001b[0m\u001b[0;34m)\u001b[0m\u001b[0;34m,\u001b[0m \u001b[0mcoerce_numeric\u001b[0m\u001b[0;34m=\u001b[0m\u001b[0mcoerce_numeric\u001b[0m\u001b[0;34m\u001b[0m\u001b[0;34m\u001b[0m\u001b[0m\n\u001b[1;32m    185\u001b[0m             )\n",
      "\u001b[0;32m/usr/local/anaconda3/lib/python3.9/site-packages/pandas/_libs/lib.pyx\u001b[0m in \u001b[0;36mpandas._libs.lib.maybe_convert_numeric\u001b[0;34m()\u001b[0m\n",
      "\u001b[0;31mValueError\u001b[0m: Unable to parse string \"data not included in P3\" at position 9210"
     ]
    }
   ],
   "source": [
    "# For example, first we convert Approved Amount to a numeric value.\n",
    "# We do this, because it was loaded as text dt \"NA\" strings in some rows.\n",
    "projects['Approved Amount'] = pd.to_numeric(projects['Approved Amount'])\n"
   ]
  },
  {
   "cell_type": "code",
   "execution_count": null,
   "id": "8cfff7a6",
   "metadata": {},
   "outputs": [],
   "source": [
    "# However, we get an error for not coercing strings to numeric"
   ]
  },
  {
   "cell_type": "code",
   "execution_count": 11,
   "id": "8ee37a35",
   "metadata": {},
   "outputs": [],
   "source": [
    "# We fix that by adding \"coerce\" as the error parameter\n",
    "projects['Approved Amount'] = pd.to_numeric(projects['Approved Amount'], errors = 'coerce')"
   ]
  },
  {
   "cell_type": "code",
   "execution_count": 16,
   "id": "d2ca7b1d",
   "metadata": {},
   "outputs": [],
   "source": [
    "# We then maybe wish to extract the fields from subfields hierarchy.\n",
    "# This is to allow for cleaner tabulation tabulation and visualization."
   ]
  },
  {
   "cell_type": "code",
   "execution_count": 17,
   "id": "78d344e0",
   "metadata": {},
   "outputs": [],
   "source": [
    "# First, we specify the field names to be extracted and save.\n",
    "science_types = ['Humanities', 'Mathematics','Biology']"
   ]
  },
  {
   "cell_type": "code",
   "execution_count": 18,
   "id": "937659ab",
   "metadata": {},
   "outputs": [],
   "source": [
    "# We then write a function that adds a label according to the match.\n",
    "projects['Field'] = projects['Discipline Name Hierarchy'].apply(\n",
    "    lambda el: next((y for y in [x for x in science_types if x in el] if y is not None),None) if not pd.isna(el) else el)"
   ]
  },
  {
   "cell_type": "code",
   "execution_count": 19,
   "id": "4e8d5559",
   "metadata": {},
   "outputs": [],
   "source": [
    "# We then group the data by the extracted fields and year\n",
    "aggregated = projects.groupby(['Institution Country', 'year','Field'], as_index=False).mean()"
   ]
  },
  {
   "cell_type": "code",
   "execution_count": 20,
   "id": "2516ab66",
   "metadata": {
    "scrolled": true
   },
   "outputs": [
    {
     "data": {
      "image/png": "[encoded data removed]",
      "text/plain": [
       "<Figure size 432x288 with 1 Axes>"
      ]
     },
     "metadata": {
      "needs_background": "light"
     },
     "output_type": "display_data"
    }
   ],
   "source": [
    "# Finally, we plot the means and variances (done via Seaborn library)\n",
    "sns.lineplot(data = aggregated, x = 'year', y='Approved Amount', hue='Field');"
   ]
  },
  {
   "cell_type": "code",
   "execution_count": null,
   "id": "a4089d42",
   "metadata": {},
   "outputs": [],
   "source": [
    "# Note that Seaborn adds all the labels and data (means/error) automat"
   ]
  },
  {
   "cell_type": "code",
   "execution_count": null,
   "id": "da67fb33",
   "metadata": {},
   "outputs": [],
   "source": [
    "# In terms of analysis, we not a large increase after 2010.\n",
    "# In order to understand this better, will look at funding targets."
   ]
  },
  {
   "cell_type": "code",
   "execution_count": 21,
   "id": "24b0d185",
   "metadata": {},
   "outputs": [
    {
     "data": {
      "text/html": [
       "<div>\n",
       "<style scoped>\n",
       "    .dataframe tbody tr th:only-of-type {\n",
       "        vertical-align: middle;\n",
       "    }\n",
       "\n",
       "    .dataframe tbody tr th {\n",
       "        vertical-align: top;\n",
       "    }\n",
       "\n",
       "    .dataframe thead th {\n",
       "        text-align: right;\n",
       "    }\n",
       "</style>\n",
       "<table border=\"1\" class=\"dataframe\">\n",
       "  <thead>\n",
       "    <tr style=\"text-align: right;\">\n",
       "      <th></th>\n",
       "      <th>year</th>\n",
       "      <th>Funding Instrument Hierarchy</th>\n",
       "      <th>total_sum</th>\n",
       "    </tr>\n",
       "  </thead>\n",
       "  <tbody>\n",
       "    <tr>\n",
       "      <th>0</th>\n",
       "      <td>1975.0</td>\n",
       "      <td>Project funding</td>\n",
       "      <td>32124534.0</td>\n",
       "    </tr>\n",
       "    <tr>\n",
       "      <th>1</th>\n",
       "      <td>1975.0</td>\n",
       "      <td>Science communication</td>\n",
       "      <td>44600.0</td>\n",
       "    </tr>\n",
       "    <tr>\n",
       "      <th>2</th>\n",
       "      <td>1976.0</td>\n",
       "      <td>Programmes;National Research Programmes (NRPs)</td>\n",
       "      <td>268812.0</td>\n",
       "    </tr>\n",
       "    <tr>\n",
       "      <th>3</th>\n",
       "      <td>1976.0</td>\n",
       "      <td>Project funding</td>\n",
       "      <td>96620284.0</td>\n",
       "    </tr>\n",
       "    <tr>\n",
       "      <th>4</th>\n",
       "      <td>1976.0</td>\n",
       "      <td>Science communication</td>\n",
       "      <td>126939.0</td>\n",
       "    </tr>\n",
       "    <tr>\n",
       "      <th>...</th>\n",
       "      <td>...</td>\n",
       "      <td>...</td>\n",
       "      <td>...</td>\n",
       "    </tr>\n",
       "    <tr>\n",
       "      <th>378</th>\n",
       "      <td>2020.0</td>\n",
       "      <td>Programmes;r4d (Swiss Programme for Research o...</td>\n",
       "      <td>195910.0</td>\n",
       "    </tr>\n",
       "    <tr>\n",
       "      <th>379</th>\n",
       "      <td>2020.0</td>\n",
       "      <td>Project funding</td>\n",
       "      <td>193568294.0</td>\n",
       "    </tr>\n",
       "    <tr>\n",
       "      <th>380</th>\n",
       "      <td>2020.0</td>\n",
       "      <td>Project funding;Project funding (special)</td>\n",
       "      <td>19239681.0</td>\n",
       "    </tr>\n",
       "    <tr>\n",
       "      <th>381</th>\n",
       "      <td>2020.0</td>\n",
       "      <td>Science communication</td>\n",
       "      <td>3451740.0</td>\n",
       "    </tr>\n",
       "    <tr>\n",
       "      <th>382</th>\n",
       "      <td>2021.0</td>\n",
       "      <td>Science communication</td>\n",
       "      <td>55200.0</td>\n",
       "    </tr>\n",
       "  </tbody>\n",
       "</table>\n",
       "<p>383 rows × 3 columns</p>\n",
       "</div>"
      ],
      "text/plain": [
       "       year                       Funding Instrument Hierarchy    total_sum\n",
       "0    1975.0                                    Project funding   32124534.0\n",
       "1    1975.0                              Science communication      44600.0\n",
       "2    1976.0     Programmes;National Research Programmes (NRPs)     268812.0\n",
       "3    1976.0                                    Project funding   96620284.0\n",
       "4    1976.0                              Science communication     126939.0\n",
       "..      ...                                                ...          ...\n",
       "378  2020.0  Programmes;r4d (Swiss Programme for Research o...     195910.0\n",
       "379  2020.0                                    Project funding  193568294.0\n",
       "380  2020.0          Project funding;Project funding (special)   19239681.0\n",
       "381  2020.0                              Science communication    3451740.0\n",
       "382  2021.0                              Science communication      55200.0\n",
       "\n",
       "[383 rows x 3 columns]"
      ]
     },
     "execution_count": 21,
     "metadata": {},
     "output_type": "execute_result"
    }
   ],
   "source": [
    "# First, lets group by year and funding type and calculate the total:\n",
    "grouped = projects.groupby(['year','Funding Instrument Hierarchy']).agg(\n",
    "    total_sum=pd.NamedAgg(column='Approved Amount', aggfunc='sum')).reset_index()\n",
    "grouped"
   ]
  },
  {
   "cell_type": "code",
   "execution_count": null,
   "id": "3a72a01f",
   "metadata": {},
   "outputs": [],
   "source": [
    "# Now, for each year we keep only the 5 largest funding types and plot:"
   ]
  },
  {
   "cell_type": "code",
   "execution_count": 24,
   "id": "464af8e8",
   "metadata": {},
   "outputs": [],
   "source": [
    "# First, we create the groups:\n",
    "group_sorted = grouped.groupby('year',as_index=False).apply(lambda x: (x.groupby('Funding Instrument Hierarchy')\n",
    "                                      .sum()\n",
    "                                      .sort_values('total_sum', ascending=False))\n",
    "                                     .head(5)).reset_index()"
   ]
  },
  {
   "cell_type": "code",
   "execution_count": 25,
   "id": "92573504",
   "metadata": {},
   "outputs": [],
   "source": [
    "# Next, we filter years < 2000 for analytical clarity\n",
    "instruments_by_year = group_sorted[(group_sorted.year > 2005) & (group_sorted.year < 2012)]"
   ]
  },
  {
   "cell_type": "code",
   "execution_count": null,
   "id": "a6b33efb",
   "metadata": {},
   "outputs": [],
   "source": [
    "# Now, we plot using matplotlib:\n",
    "import matplotlib.pyplot as plt\n",
    "plt.figure(figsize=(10,10))\n",
    "sns.barplot(data=instruments_by_year,\n",
    "            x='year', y='total_sum', hue='Funding Instrument Hierarchy')"
   ]
  },
  {
   "cell_type": "code",
   "execution_count": null,
   "id": "2e2196b0",
   "metadata": {},
   "outputs": [],
   "source": [
    "# From this, we see that projecting funding has increased dramatically."
   ]
  },
  {
   "cell_type": "markdown",
   "id": "e202422e",
   "metadata": {},
   "source": [
    "## Pandas structures\n",
    "Pandas offers a variety of data structures & operations for large data\n",
    "Here, we will focus on the two main structures: series and dataframes"
   ]
  },
  {
   "cell_type": "markdown",
   "id": "03f88568",
   "metadata": {},
   "source": [
    "### Series\n",
    "Series are the Pandas version of 1D Numpy arrays"
   ]
  },
  {
   "cell_type": "code",
   "execution_count": 27,
   "id": "2c2042f0",
   "metadata": {},
   "outputs": [
    {
     "data": {
      "text/plain": [
       "0     4\n",
       "1     8\n",
       "2    38\n",
       "3     1\n",
       "4     6\n",
       "dtype: int64"
      ]
     },
     "execution_count": 27,
     "metadata": {},
     "output_type": "execute_result"
    }
   ],
   "source": [
    "# Pandas structures are usually created from simply structures, eg:\n",
    "# create Numpys arrays\n",
    "numpy_array = np.array([4,8,38,1,6])\n",
    "# now, convert to Pandas series using pd.Series()\n",
    "pd_series = pd.Series(numpy_array)\n",
    "pd_series"
   ]
  },
  {
   "cell_type": "code",
   "execution_count": 28,
   "id": "ccc38884",
   "metadata": {},
   "outputs": [
    {
     "data": {
      "text/plain": [
       "array([ 4,  8, 38,  1,  6])"
      ]
     },
     "execution_count": 28,
     "metadata": {},
     "output_type": "execute_result"
    }
   ],
   "source": [
    "# The underlying structure can be recovered with the .values attribute:\n",
    "pd_series.values\n",
    "    "
   ]
  },
  {
   "cell_type": "code",
   "execution_count": 29,
   "id": "849b4e1c",
   "metadata": {},
   "outputs": [
    {
     "data": {
      "text/plain": [
       "8"
      ]
     },
     "execution_count": 29,
     "metadata": {},
     "output_type": "execute_result"
    }
   ],
   "source": [
    "# Otherwise, indexing works identical to Numpy regular arrays\n",
    "pd_series[1]"
   ]
  },
  {
   "cell_type": "markdown",
   "id": "bea7f2f2",
   "metadata": {},
   "source": [
    "### Indexing\n",
    "Similar to R, Pandas series can be assigned and accessed by name"
   ]
  },
  {
   "cell_type": "code",
   "execution_count": 31,
   "id": "ca95ae76",
   "metadata": {},
   "outputs": [
    {
     "data": {
      "text/plain": [
       "a     4\n",
       "b     8\n",
       "c    38\n",
       "d     1\n",
       "e     6\n",
       "dtype: int64"
      ]
     },
     "execution_count": 31,
     "metadata": {},
     "output_type": "execute_result"
    }
   ],
   "source": [
    "# Here, we define and index for our Pandas series\n",
    "pd_series2 = pd.Series(numpy_array, index=['a', 'b', 'c', 'd','e'])\n",
    "pd_series2"
   ]
  },
  {
   "cell_type": "code",
   "execution_count": 32,
   "id": "4e7c37c7",
   "metadata": {},
   "outputs": [
    {
     "data": {
      "text/plain": [
       "8"
      ]
     },
     "execution_count": 32,
     "metadata": {},
     "output_type": "execute_result"
    }
   ],
   "source": [
    "# Now, an element can be access via index:\n",
    "pd_series2[1]"
   ]
  },
  {
   "cell_type": "code",
   "execution_count": 33,
   "id": "e1275955",
   "metadata": {},
   "outputs": [
    {
     "data": {
      "text/plain": [
       "8"
      ]
     },
     "execution_count": 33,
     "metadata": {},
     "output_type": "execute_result"
    }
   ],
   "source": [
    "# Or, it can be access by its assigned namme:\n",
    "pd_series2['b']"
   ]
  },
  {
   "cell_type": "code",
   "execution_count": null,
   "id": "30dc9f43",
   "metadata": {},
   "outputs": [],
   "source": [
    "# A more direct way to create named series is to transform a dictionary"
   ]
  },
  {
   "cell_type": "code",
   "execution_count": 34,
   "id": "df929e2f",
   "metadata": {},
   "outputs": [],
   "source": [
    "# Here, we specify a dictionary array\n",
    "composer_birth = {'Mahler': 1860, 'Beethoven': 1770, 'Puccini': 1858, 'Shostakovich': 1906}"
   ]
  },
  {
   "cell_type": "code",
   "execution_count": 35,
   "id": "3cf0f6f0",
   "metadata": {},
   "outputs": [
    {
     "data": {
      "text/plain": [
       "Mahler          1860\n",
       "Beethoven       1770\n",
       "Puccini         1858\n",
       "Shostakovich    1906\n",
       "dtype: int64"
      ]
     },
     "execution_count": 35,
     "metadata": {},
     "output_type": "execute_result"
    }
   ],
   "source": [
    "# Then, we convert it to a series:\n",
    "pd_composer_birth = pd.Series(composer_birth)\n",
    "pd_composer_birth"
   ]
  },
  {
   "cell_type": "code",
   "execution_count": 36,
   "id": "8f90306e",
   "metadata": {},
   "outputs": [
    {
     "data": {
      "text/plain": [
       "1858"
      ]
     },
     "execution_count": 36,
     "metadata": {},
     "output_type": "execute_result"
    }
   ],
   "source": [
    "# And as before, we can access it directly via its name\n",
    "pd_composer_birth['Puccini']"
   ]
  },
  {
   "cell_type": "markdown",
   "id": "ae95497f",
   "metadata": {},
   "source": [
    "## Dataframes\n",
    "In Pandas, dataframes are a collection of Series with a common index"
   ]
  },
  {
   "cell_type": "code",
   "execution_count": 37,
   "id": "d98ceb0d",
   "metadata": {},
   "outputs": [],
   "source": [
    "# To create such a dataframe, lets first define a few more Series\n",
    "composer_death = pd.Series({'Mahler': 1911, 'Beethoven': 1827, 'Puccini': 1924, 'Shostakovich': 1975})\n",
    "composer_city_birth = pd.Series({'Mahler': 'Kaliste', 'Beethoven': 'Bonn', 'Puccini': 'Lucques', 'Shostakovich': 'Saint-Petersburg'})"
   ]
  },
  {
   "cell_type": "code",
   "execution_count": null,
   "id": "11ba77c9",
   "metadata": {},
   "outputs": [],
   "source": [
    "# Note that each Series has common data name-indices (composer name)"
   ]
  },
  {
   "cell_type": "code",
   "execution_count": 38,
   "id": "c2d914c7",
   "metadata": {},
   "outputs": [
    {
     "data": {
      "text/html": [
       "<div>\n",
       "<style scoped>\n",
       "    .dataframe tbody tr th:only-of-type {\n",
       "        vertical-align: middle;\n",
       "    }\n",
       "\n",
       "    .dataframe tbody tr th {\n",
       "        vertical-align: top;\n",
       "    }\n",
       "\n",
       "    .dataframe thead th {\n",
       "        text-align: right;\n",
       "    }\n",
       "</style>\n",
       "<table border=\"1\" class=\"dataframe\">\n",
       "  <thead>\n",
       "    <tr style=\"text-align: right;\">\n",
       "      <th></th>\n",
       "      <th>birth</th>\n",
       "      <th>death</th>\n",
       "      <th>city</th>\n",
       "    </tr>\n",
       "  </thead>\n",
       "  <tbody>\n",
       "    <tr>\n",
       "      <th>Mahler</th>\n",
       "      <td>1860</td>\n",
       "      <td>1911</td>\n",
       "      <td>Kaliste</td>\n",
       "    </tr>\n",
       "    <tr>\n",
       "      <th>Beethoven</th>\n",
       "      <td>1770</td>\n",
       "      <td>1827</td>\n",
       "      <td>Bonn</td>\n",
       "    </tr>\n",
       "    <tr>\n",
       "      <th>Puccini</th>\n",
       "      <td>1858</td>\n",
       "      <td>1924</td>\n",
       "      <td>Lucques</td>\n",
       "    </tr>\n",
       "    <tr>\n",
       "      <th>Shostakovich</th>\n",
       "      <td>1906</td>\n",
       "      <td>1975</td>\n",
       "      <td>Saint-Petersburg</td>\n",
       "    </tr>\n",
       "  </tbody>\n",
       "</table>\n",
       "</div>"
      ],
      "text/plain": [
       "              birth  death              city\n",
       "Mahler         1860   1911           Kaliste\n",
       "Beethoven      1770   1827              Bonn\n",
       "Puccini        1858   1924           Lucques\n",
       "Shostakovich   1906   1975  Saint-Petersburg"
      ]
     },
     "execution_count": 38,
     "metadata": {},
     "output_type": "execute_result"
    }
   ],
   "source": [
    "# Now, we combine into a single Dataframe and assing names for each\n",
    "composers_df = pd.DataFrame({'birth': pd_composer_birth, 'death': composer_death, 'city': composer_city_birth})\n",
    "composers_df"
   ]
  },
  {
   "cell_type": "code",
   "execution_count": null,
   "id": "428cd27f",
   "metadata": {},
   "outputs": [],
   "source": [
    "# Note that the pd.DataFrame syntax specifies a series of series"
   ]
  },
  {
   "cell_type": "code",
   "execution_count": 39,
   "id": "05ea2e34",
   "metadata": {},
   "outputs": [],
   "source": [
    "# A more common way of creating a dataframe is to directly specify\n",
    "dict_of_list = {'birth': [1860, 1770, 1858, 1906], 'death':[1911, 1827, 1924, 1975], \n",
    " 'city':['Kaliste', 'Bonn', 'Lucques', 'Saint-Petersburg']}"
   ]
  },
  {
   "cell_type": "code",
   "execution_count": 40,
   "id": "5669cbfe",
   "metadata": {},
   "outputs": [
    {
     "data": {
      "text/html": [
       "<div>\n",
       "<style scoped>\n",
       "    .dataframe tbody tr th:only-of-type {\n",
       "        vertical-align: middle;\n",
       "    }\n",
       "\n",
       "    .dataframe tbody tr th {\n",
       "        vertical-align: top;\n",
       "    }\n",
       "\n",
       "    .dataframe thead th {\n",
       "        text-align: right;\n",
       "    }\n",
       "</style>\n",
       "<table border=\"1\" class=\"dataframe\">\n",
       "  <thead>\n",
       "    <tr style=\"text-align: right;\">\n",
       "      <th></th>\n",
       "      <th>birth</th>\n",
       "      <th>death</th>\n",
       "      <th>city</th>\n",
       "    </tr>\n",
       "  </thead>\n",
       "  <tbody>\n",
       "    <tr>\n",
       "      <th>0</th>\n",
       "      <td>1860</td>\n",
       "      <td>1911</td>\n",
       "      <td>Kaliste</td>\n",
       "    </tr>\n",
       "    <tr>\n",
       "      <th>1</th>\n",
       "      <td>1770</td>\n",
       "      <td>1827</td>\n",
       "      <td>Bonn</td>\n",
       "    </tr>\n",
       "    <tr>\n",
       "      <th>2</th>\n",
       "      <td>1858</td>\n",
       "      <td>1924</td>\n",
       "      <td>Lucques</td>\n",
       "    </tr>\n",
       "    <tr>\n",
       "      <th>3</th>\n",
       "      <td>1906</td>\n",
       "      <td>1975</td>\n",
       "      <td>Saint-Petersburg</td>\n",
       "    </tr>\n",
       "  </tbody>\n",
       "</table>\n",
       "</div>"
      ],
      "text/plain": [
       "   birth  death              city\n",
       "0   1860   1911           Kaliste\n",
       "1   1770   1827              Bonn\n",
       "2   1858   1924           Lucques\n",
       "3   1906   1975  Saint-Petersburg"
      ]
     },
     "execution_count": 40,
     "metadata": {},
     "output_type": "execute_result"
    }
   ],
   "source": [
    "# We then convert the dictionary of lists into a dataframe.\n",
    "pd.DataFrame(dict_of_list)\n"
   ]
  },
  {
   "cell_type": "code",
   "execution_count": null,
   "id": "85b76699",
   "metadata": {},
   "outputs": [],
   "source": [
    "# However, note that composer names have yet to be added"
   ]
  },
  {
   "cell_type": "code",
   "execution_count": 41,
   "id": "075a69f5",
   "metadata": {},
   "outputs": [
    {
     "data": {
      "text/html": [
       "<div>\n",
       "<style scoped>\n",
       "    .dataframe tbody tr th:only-of-type {\n",
       "        vertical-align: middle;\n",
       "    }\n",
       "\n",
       "    .dataframe tbody tr th {\n",
       "        vertical-align: top;\n",
       "    }\n",
       "\n",
       "    .dataframe thead th {\n",
       "        text-align: right;\n",
       "    }\n",
       "</style>\n",
       "<table border=\"1\" class=\"dataframe\">\n",
       "  <thead>\n",
       "    <tr style=\"text-align: right;\">\n",
       "      <th></th>\n",
       "      <th>birth</th>\n",
       "      <th>death</th>\n",
       "      <th>city</th>\n",
       "    </tr>\n",
       "  </thead>\n",
       "  <tbody>\n",
       "    <tr>\n",
       "      <th>Mahler</th>\n",
       "      <td>1860</td>\n",
       "      <td>1911</td>\n",
       "      <td>Kaliste</td>\n",
       "    </tr>\n",
       "    <tr>\n",
       "      <th>Beethoven</th>\n",
       "      <td>1770</td>\n",
       "      <td>1827</td>\n",
       "      <td>Bonn</td>\n",
       "    </tr>\n",
       "    <tr>\n",
       "      <th>Puccini</th>\n",
       "      <td>1858</td>\n",
       "      <td>1924</td>\n",
       "      <td>Lucques</td>\n",
       "    </tr>\n",
       "    <tr>\n",
       "      <th>Shostakovich</th>\n",
       "      <td>1906</td>\n",
       "      <td>1975</td>\n",
       "      <td>Saint-Petersburg</td>\n",
       "    </tr>\n",
       "  </tbody>\n",
       "</table>\n",
       "</div>"
      ],
      "text/plain": [
       "              birth  death              city\n",
       "Mahler         1860   1911           Kaliste\n",
       "Beethoven      1770   1827              Bonn\n",
       "Puccini        1858   1924           Lucques\n",
       "Shostakovich   1906   1975  Saint-Petersburg"
      ]
     },
     "execution_count": 41,
     "metadata": {},
     "output_type": "execute_result"
    }
   ],
   "source": [
    "# We can do this as was done before with series, via an list of names\n",
    "pd.DataFrame(dict_of_list, index=['Mahler', 'Beethoven', 'Puccini', 'Shostakovich'])\n"
   ]
  },
  {
   "cell_type": "markdown",
   "id": "0f6cac41",
   "metadata": {},
   "source": [
    "### Accessing values"
   ]
  },
  {
   "cell_type": "code",
   "execution_count": 42,
   "id": "07c5d297",
   "metadata": {},
   "outputs": [
    {
     "data": {
      "text/plain": [
       "Mahler                   Kaliste\n",
       "Beethoven                   Bonn\n",
       "Puccini                  Lucques\n",
       "Shostakovich    Saint-Petersburg\n",
       "Name: city, dtype: object"
      ]
     },
     "execution_count": 42,
     "metadata": {},
     "output_type": "execute_result"
    }
   ],
   "source": [
    "# Unlike Series, a bracket gives access to a column (not an index), eg:\n",
    "composers_df['city']"
   ]
  },
  {
   "cell_type": "code",
   "execution_count": 43,
   "id": "ac071dbc",
   "metadata": {},
   "outputs": [
    {
     "data": {
      "text/plain": [
       "Mahler                   Kaliste\n",
       "Beethoven                   Bonn\n",
       "Puccini                  Lucques\n",
       "Shostakovich    Saint-Petersburg\n",
       "Name: city, dtype: object"
      ]
     },
     "execution_count": 43,
     "metadata": {},
     "output_type": "execute_result"
    }
   ],
   "source": [
    "# Alternatively, one can use the object-attributes syntax to access\n",
    "composers_df.city"
   ]
  },
  {
   "cell_type": "code",
   "execution_count": null,
   "id": "8f30be0b",
   "metadata": {},
   "outputs": [],
   "source": [
    "# Note: the attributes syntax has limitations wrt characters.\n",
    "# So, its recommended to use the brackets notation by default."
   ]
  },
  {
   "cell_type": "code",
   "execution_count": 44,
   "id": "61ae668f",
   "metadata": {},
   "outputs": [
    {
     "data": {
      "text/html": [
       "<div>\n",
       "<style scoped>\n",
       "    .dataframe tbody tr th:only-of-type {\n",
       "        vertical-align: middle;\n",
       "    }\n",
       "\n",
       "    .dataframe tbody tr th {\n",
       "        vertical-align: top;\n",
       "    }\n",
       "\n",
       "    .dataframe thead th {\n",
       "        text-align: right;\n",
       "    }\n",
       "</style>\n",
       "<table border=\"1\" class=\"dataframe\">\n",
       "  <thead>\n",
       "    <tr style=\"text-align: right;\">\n",
       "      <th></th>\n",
       "      <th>city</th>\n",
       "      <th>birth</th>\n",
       "    </tr>\n",
       "  </thead>\n",
       "  <tbody>\n",
       "    <tr>\n",
       "      <th>Mahler</th>\n",
       "      <td>Kaliste</td>\n",
       "      <td>1860</td>\n",
       "    </tr>\n",
       "    <tr>\n",
       "      <th>Beethoven</th>\n",
       "      <td>Bonn</td>\n",
       "      <td>1770</td>\n",
       "    </tr>\n",
       "    <tr>\n",
       "      <th>Puccini</th>\n",
       "      <td>Lucques</td>\n",
       "      <td>1858</td>\n",
       "    </tr>\n",
       "    <tr>\n",
       "      <th>Shostakovich</th>\n",
       "      <td>Saint-Petersburg</td>\n",
       "      <td>1906</td>\n",
       "    </tr>\n",
       "  </tbody>\n",
       "</table>\n",
       "</div>"
      ],
      "text/plain": [
       "                          city  birth\n",
       "Mahler                 Kaliste   1860\n",
       "Beethoven                 Bonn   1770\n",
       "Puccini                Lucques   1858\n",
       "Shostakovich  Saint-Petersburg   1906"
      ]
     },
     "execution_count": 44,
     "metadata": {},
     "output_type": "execute_result"
    }
   ],
   "source": [
    "# And when specifying multiple columns, a dataframe is returned.\n",
    "composers_df[['city', 'birth']]"
   ]
  },
  {
   "cell_type": "code",
   "execution_count": null,
   "id": "0c4e4f16",
   "metadata": {},
   "outputs": [],
   "source": [
    "# One important difference wrt Numpys is indexing requires a method\n",
    "# ...either .iloc[] (for the index) or the .loc[] (for the name)"
   ]
  },
  {
   "cell_type": "code",
   "execution_count": 46,
   "id": "3ec837c7",
   "metadata": {},
   "outputs": [
    {
     "data": {
      "text/plain": [
       "1911"
      ]
     },
     "execution_count": 46,
     "metadata": {},
     "output_type": "execute_result"
    }
   ],
   "source": [
    "# For example,,,\n",
    "composers_df.iloc[0,1]"
   ]
  },
  {
   "cell_type": "code",
   "execution_count": 47,
   "id": "9ad2bb13",
   "metadata": {},
   "outputs": [
    {
     "data": {
      "text/plain": [
       "1911"
      ]
     },
     "execution_count": 47,
     "metadata": {},
     "output_type": "execute_result"
    }
   ],
   "source": [
    "# Or via the explicit index (name):\n",
    "composers_df.loc['Mahler','death']"
   ]
  },
  {
   "cell_type": "code",
   "execution_count": null,
   "id": "3f2597e3",
   "metadata": {},
   "outputs": [],
   "source": [
    "# Note: loc and ``ìloc``` use brackets [] and not parenthesis ()."
   ]
  },
  {
   "cell_type": "code",
   "execution_count": 48,
   "id": "8cc1d2cb",
   "metadata": {},
   "outputs": [
    {
     "data": {
      "text/html": [
       "<div>\n",
       "<style scoped>\n",
       "    .dataframe tbody tr th:only-of-type {\n",
       "        vertical-align: middle;\n",
       "    }\n",
       "\n",
       "    .dataframe tbody tr th {\n",
       "        vertical-align: top;\n",
       "    }\n",
       "\n",
       "    .dataframe thead th {\n",
       "        text-align: right;\n",
       "    }\n",
       "</style>\n",
       "<table border=\"1\" class=\"dataframe\">\n",
       "  <thead>\n",
       "    <tr style=\"text-align: right;\">\n",
       "      <th></th>\n",
       "      <th>birth</th>\n",
       "      <th>death</th>\n",
       "      <th>city</th>\n",
       "    </tr>\n",
       "  </thead>\n",
       "  <tbody>\n",
       "    <tr>\n",
       "      <th>Beethoven</th>\n",
       "      <td>1770</td>\n",
       "      <td>1827</td>\n",
       "      <td>Bonn</td>\n",
       "    </tr>\n",
       "    <tr>\n",
       "      <th>Puccini</th>\n",
       "      <td>1858</td>\n",
       "      <td>1924</td>\n",
       "      <td>Lucques</td>\n",
       "    </tr>\n",
       "  </tbody>\n",
       "</table>\n",
       "</div>"
      ],
      "text/plain": [
       "           birth  death     city\n",
       "Beethoven   1770   1827     Bonn\n",
       "Puccini     1858   1924  Lucques"
      ]
     },
     "execution_count": 48,
     "metadata": {},
     "output_type": "execute_result"
    }
   ],
   "source": [
    "# And numpys-style indexing works here too:\n",
    "composers_df.iloc[1:3,:]"
   ]
  },
  {
   "cell_type": "code",
   "execution_count": 49,
   "id": "08879068",
   "metadata": {},
   "outputs": [
    {
     "data": {
      "text/plain": [
       "Index(['birth', 'death', 'city'], dtype='object')"
      ]
     },
     "execution_count": 49,
     "metadata": {},
     "output_type": "execute_result"
    }
   ],
   "source": [
    "# You can also retrieve a list of all the columns:\n",
    "composers_df.keys()"
   ]
  },
  {
   "cell_type": "markdown",
   "id": "9caf801d",
   "metadata": {},
   "source": [
    "### Adding columns"
   ]
  },
  {
   "cell_type": "code",
   "execution_count": 51,
   "id": "d6108617",
   "metadata": {},
   "outputs": [],
   "source": [
    "# Columns can be added simply by create a default of dummy value:\n",
    "composers_df['country'] = 'default'"
   ]
  },
  {
   "cell_type": "code",
   "execution_count": 52,
   "id": "f2b8367d",
   "metadata": {},
   "outputs": [
    {
     "data": {
      "text/html": [
       "<div>\n",
       "<style scoped>\n",
       "    .dataframe tbody tr th:only-of-type {\n",
       "        vertical-align: middle;\n",
       "    }\n",
       "\n",
       "    .dataframe tbody tr th {\n",
       "        vertical-align: top;\n",
       "    }\n",
       "\n",
       "    .dataframe thead th {\n",
       "        text-align: right;\n",
       "    }\n",
       "</style>\n",
       "<table border=\"1\" class=\"dataframe\">\n",
       "  <thead>\n",
       "    <tr style=\"text-align: right;\">\n",
       "      <th></th>\n",
       "      <th>birth</th>\n",
       "      <th>death</th>\n",
       "      <th>city</th>\n",
       "      <th>country</th>\n",
       "      <th>country2</th>\n",
       "    </tr>\n",
       "  </thead>\n",
       "  <tbody>\n",
       "    <tr>\n",
       "      <th>Mahler</th>\n",
       "      <td>1860</td>\n",
       "      <td>1911</td>\n",
       "      <td>Kaliste</td>\n",
       "      <td>default</td>\n",
       "      <td>Austria</td>\n",
       "    </tr>\n",
       "    <tr>\n",
       "      <th>Beethoven</th>\n",
       "      <td>1770</td>\n",
       "      <td>1827</td>\n",
       "      <td>Bonn</td>\n",
       "      <td>default</td>\n",
       "      <td>Germany</td>\n",
       "    </tr>\n",
       "    <tr>\n",
       "      <th>Puccini</th>\n",
       "      <td>1858</td>\n",
       "      <td>1924</td>\n",
       "      <td>Lucques</td>\n",
       "      <td>default</td>\n",
       "      <td>Italy</td>\n",
       "    </tr>\n",
       "    <tr>\n",
       "      <th>Shostakovich</th>\n",
       "      <td>1906</td>\n",
       "      <td>1975</td>\n",
       "      <td>Saint-Petersburg</td>\n",
       "      <td>default</td>\n",
       "      <td>Russia</td>\n",
       "    </tr>\n",
       "  </tbody>\n",
       "</table>\n",
       "</div>"
      ],
      "text/plain": [
       "              birth  death              city  country country2\n",
       "Mahler         1860   1911           Kaliste  default  Austria\n",
       "Beethoven      1770   1827              Bonn  default  Germany\n",
       "Puccini        1858   1924           Lucques  default    Italy\n",
       "Shostakovich   1906   1975  Saint-Petersburg  default   Russia"
      ]
     },
     "execution_count": 52,
     "metadata": {},
     "output_type": "execute_result"
    }
   ],
   "source": [
    "# Or an existing list can be created and added direction to the df:\n",
    "country = ['Austria','Germany','Italy','Russia']\n",
    "composers_df['country2'] = country\n",
    "composers_df"
   ]
  },
  {
   "cell_type": "markdown",
   "id": "7b2021f2",
   "metadata": {},
   "source": [
    "## Importing/export, basic plotting"
   ]
  },
  {
   "cell_type": "markdown",
   "id": "00fce00d",
   "metadata": {},
   "source": [
    "### Importing data to Pandas\n",
    "Another ways of creating dataframes is to import from CSV or Excel."
   ]
  },
  {
   "cell_type": "code",
   "execution_count": 53,
   "id": "0d85f521",
   "metadata": {},
   "outputs": [
    {
     "data": {
      "text/html": [
       "<div>\n",
       "<style scoped>\n",
       "    .dataframe tbody tr th:only-of-type {\n",
       "        vertical-align: middle;\n",
       "    }\n",
       "\n",
       "    .dataframe tbody tr th {\n",
       "        vertical-align: top;\n",
       "    }\n",
       "\n",
       "    .dataframe thead th {\n",
       "        text-align: right;\n",
       "    }\n",
       "</style>\n",
       "<table border=\"1\" class=\"dataframe\">\n",
       "  <thead>\n",
       "    <tr style=\"text-align: right;\">\n",
       "      <th></th>\n",
       "      <th>composer</th>\n",
       "      <th>birth</th>\n",
       "      <th>death</th>\n",
       "      <th>city</th>\n",
       "    </tr>\n",
       "  </thead>\n",
       "  <tbody>\n",
       "    <tr>\n",
       "      <th>0</th>\n",
       "      <td>Mahler</td>\n",
       "      <td>1860</td>\n",
       "      <td>1911</td>\n",
       "      <td>Kaliste</td>\n",
       "    </tr>\n",
       "    <tr>\n",
       "      <th>1</th>\n",
       "      <td>Beethoven</td>\n",
       "      <td>1770</td>\n",
       "      <td>1827</td>\n",
       "      <td>Bonn</td>\n",
       "    </tr>\n",
       "    <tr>\n",
       "      <th>2</th>\n",
       "      <td>Puccini</td>\n",
       "      <td>1858</td>\n",
       "      <td>1924</td>\n",
       "      <td>Lucques</td>\n",
       "    </tr>\n",
       "    <tr>\n",
       "      <th>3</th>\n",
       "      <td>Shostakovich</td>\n",
       "      <td>1906</td>\n",
       "      <td>1975</td>\n",
       "      <td>Saint-Petersburg</td>\n",
       "    </tr>\n",
       "  </tbody>\n",
       "</table>\n",
       "</div>"
      ],
      "text/plain": [
       "       composer  birth  death              city\n",
       "0        Mahler   1860   1911           Kaliste\n",
       "1     Beethoven   1770   1827              Bonn\n",
       "2       Puccini   1858   1924           Lucques\n",
       "3  Shostakovich   1906   1975  Saint-Petersburg"
      ]
     },
     "execution_count": 53,
     "metadata": {},
     "output_type": "execute_result"
    }
   ],
   "source": [
    "# Excel files can be read in using the read_excel function (ala R)\n",
    "pd.read_excel('Data/composers.xlsx')\n"
   ]
  },
  {
   "cell_type": "code",
   "execution_count": null,
   "id": "1d4c8bc4",
   "metadata": {},
   "outputs": [],
   "source": [
    "# Note that read_excel automatically recognizes the excel headers\n",
    "# However, numbered row indices were added automatically"
   ]
  },
  {
   "cell_type": "code",
   "execution_count": 56,
   "id": "66048537",
   "metadata": {},
   "outputs": [],
   "source": [
    "# To specify row indices, we can make explicit the column to use:\n",
    "specific_sheet = pd.read_excel('Data/composers.xlsx', index_col = 'composer')\n"
   ]
  },
  {
   "cell_type": "code",
   "execution_count": 57,
   "id": "be59cf19",
   "metadata": {},
   "outputs": [
    {
     "data": {
      "text/html": [
       "<div>\n",
       "<style scoped>\n",
       "    .dataframe tbody tr th:only-of-type {\n",
       "        vertical-align: middle;\n",
       "    }\n",
       "\n",
       "    .dataframe tbody tr th {\n",
       "        vertical-align: top;\n",
       "    }\n",
       "\n",
       "    .dataframe thead th {\n",
       "        text-align: right;\n",
       "    }\n",
       "</style>\n",
       "<table border=\"1\" class=\"dataframe\">\n",
       "  <thead>\n",
       "    <tr style=\"text-align: right;\">\n",
       "      <th></th>\n",
       "      <th>birth</th>\n",
       "      <th>death</th>\n",
       "      <th>city</th>\n",
       "    </tr>\n",
       "    <tr>\n",
       "      <th>composer</th>\n",
       "      <th></th>\n",
       "      <th></th>\n",
       "      <th></th>\n",
       "    </tr>\n",
       "  </thead>\n",
       "  <tbody>\n",
       "    <tr>\n",
       "      <th>Mahler</th>\n",
       "      <td>1860</td>\n",
       "      <td>1911</td>\n",
       "      <td>Kaliste</td>\n",
       "    </tr>\n",
       "    <tr>\n",
       "      <th>Beethoven</th>\n",
       "      <td>1770</td>\n",
       "      <td>1827</td>\n",
       "      <td>Bonn</td>\n",
       "    </tr>\n",
       "    <tr>\n",
       "      <th>Puccini</th>\n",
       "      <td>1858</td>\n",
       "      <td>1924</td>\n",
       "      <td>Lucques</td>\n",
       "    </tr>\n",
       "    <tr>\n",
       "      <th>Shostakovich</th>\n",
       "      <td>1906</td>\n",
       "      <td>1975</td>\n",
       "      <td>Saint-Petersburg</td>\n",
       "    </tr>\n",
       "  </tbody>\n",
       "</table>\n",
       "</div>"
      ],
      "text/plain": [
       "              birth  death              city\n",
       "composer                                    \n",
       "Mahler         1860   1911           Kaliste\n",
       "Beethoven      1770   1827              Bonn\n",
       "Puccini        1858   1924           Lucques\n",
       "Shostakovich   1906   1975  Saint-Petersburg"
      ]
     },
     "execution_count": 57,
     "metadata": {},
     "output_type": "execute_result"
    }
   ],
   "source": [
    "specific_sheet"
   ]
  },
  {
   "cell_type": "code",
   "execution_count": null,
   "id": "fb2519a1",
   "metadata": {},
   "outputs": [],
   "source": [
    "### Handling unknown values"
   ]
  },
  {
   "cell_type": "code",
   "execution_count": null,
   "id": "3c9f1a00",
   "metadata": {},
   "outputs": [],
   "source": [
    "# In Pandas, NaN is recognized as missing\n",
    "# If anything else is used, we need to be handle it explicitly"
   ]
  },
  {
   "cell_type": "code",
   "execution_count": 58,
   "id": "4a6f8aa8",
   "metadata": {},
   "outputs": [
    {
     "data": {
      "text/html": [
       "<div>\n",
       "<style scoped>\n",
       "    .dataframe tbody tr th:only-of-type {\n",
       "        vertical-align: middle;\n",
       "    }\n",
       "\n",
       "    .dataframe tbody tr th {\n",
       "        vertical-align: top;\n",
       "    }\n",
       "\n",
       "    .dataframe thead th {\n",
       "        text-align: right;\n",
       "    }\n",
       "</style>\n",
       "<table border=\"1\" class=\"dataframe\">\n",
       "  <thead>\n",
       "    <tr style=\"text-align: right;\">\n",
       "      <th></th>\n",
       "      <th>birth</th>\n",
       "      <th>death</th>\n",
       "      <th>city</th>\n",
       "    </tr>\n",
       "    <tr>\n",
       "      <th>composer</th>\n",
       "      <th></th>\n",
       "      <th></th>\n",
       "      <th></th>\n",
       "    </tr>\n",
       "  </thead>\n",
       "  <tbody>\n",
       "    <tr>\n",
       "      <th>Mahler</th>\n",
       "      <td>1860.0</td>\n",
       "      <td>1911</td>\n",
       "      <td>Kaliste</td>\n",
       "    </tr>\n",
       "    <tr>\n",
       "      <th>Beethoven</th>\n",
       "      <td>1770.0</td>\n",
       "      <td>1827</td>\n",
       "      <td>Bonn</td>\n",
       "    </tr>\n",
       "    <tr>\n",
       "      <th>Puccini</th>\n",
       "      <td>1858.0</td>\n",
       "      <td>1924</td>\n",
       "      <td>Lucques</td>\n",
       "    </tr>\n",
       "    <tr>\n",
       "      <th>Shostakovich</th>\n",
       "      <td>1906.0</td>\n",
       "      <td>1975</td>\n",
       "      <td>Saint-Petersburg</td>\n",
       "    </tr>\n",
       "    <tr>\n",
       "      <th>Sibelius</th>\n",
       "      <td>10.0</td>\n",
       "      <td>unknown</td>\n",
       "      <td>unknown</td>\n",
       "    </tr>\n",
       "    <tr>\n",
       "      <th>Haydn</th>\n",
       "      <td>NaN</td>\n",
       "      <td>NaN</td>\n",
       "      <td>Röhrau</td>\n",
       "    </tr>\n",
       "  </tbody>\n",
       "</table>\n",
       "</div>"
      ],
      "text/plain": [
       "               birth    death              city\n",
       "composer                                       \n",
       "Mahler        1860.0     1911           Kaliste\n",
       "Beethoven     1770.0     1827              Bonn\n",
       "Puccini       1858.0     1924           Lucques\n",
       "Shostakovich  1906.0     1975  Saint-Petersburg\n",
       "Sibelius        10.0  unknown           unknown\n",
       "Haydn            NaN      NaN            Röhrau"
      ]
     },
     "execution_count": 58,
     "metadata": {},
     "output_type": "execute_result"
    }
   ],
   "source": [
    "# First, let's do a regular import\n",
    "import1 = pd.read_excel('Data/composers.xlsx', index_col = 'composer',sheet_name='Sheet2')\n",
    "import1"
   ]
  },
  {
   "cell_type": "code",
   "execution_count": null,
   "id": "e2921d2a",
   "metadata": {},
   "outputs": [],
   "source": [
    "# We can look at the columns and note data types have been assigned"
   ]
  },
  {
   "cell_type": "code",
   "execution_count": 59,
   "id": "2a6e333b",
   "metadata": {},
   "outputs": [
    {
     "data": {
      "text/plain": [
       "composer\n",
       "Mahler          1860.0\n",
       "Beethoven       1770.0\n",
       "Puccini         1858.0\n",
       "Shostakovich    1906.0\n",
       "Sibelius          10.0\n",
       "Haydn              NaN\n",
       "Name: birth, dtype: float64"
      ]
     },
     "execution_count": 59,
     "metadata": {},
     "output_type": "execute_result"
    }
   ],
   "source": [
    "# For example...\n",
    "import1.birth"
   ]
  },
  {
   "cell_type": "code",
   "execution_count": 60,
   "id": "e6e34195",
   "metadata": {},
   "outputs": [
    {
     "data": {
      "text/plain": [
       "composer\n",
       "Mahler             1911\n",
       "Beethoven          1827\n",
       "Puccini            1924\n",
       "Shostakovich       1975\n",
       "Sibelius        unknown\n",
       "Haydn               NaN\n",
       "Name: death, dtype: object"
      ]
     },
     "execution_count": 60,
     "metadata": {},
     "output_type": "execute_result"
    }
   ],
   "source": [
    "# Or...\n",
    "import1.death"
   ]
  },
  {
   "cell_type": "code",
   "execution_count": null,
   "id": "7fccae46",
   "metadata": {},
   "outputs": [],
   "source": [
    "# Note that the death column has been imported as a string\n",
    "# This is problematic from the perspective of conducting analyses"
   ]
  },
  {
   "cell_type": "code",
   "execution_count": 61,
   "id": "3bcf53c1",
   "metadata": {},
   "outputs": [
    {
     "data": {
      "text/html": [
       "<div>\n",
       "<style scoped>\n",
       "    .dataframe tbody tr th:only-of-type {\n",
       "        vertical-align: middle;\n",
       "    }\n",
       "\n",
       "    .dataframe tbody tr th {\n",
       "        vertical-align: top;\n",
       "    }\n",
       "\n",
       "    .dataframe thead th {\n",
       "        text-align: right;\n",
       "    }\n",
       "</style>\n",
       "<table border=\"1\" class=\"dataframe\">\n",
       "  <thead>\n",
       "    <tr style=\"text-align: right;\">\n",
       "      <th></th>\n",
       "      <th>birth</th>\n",
       "    </tr>\n",
       "  </thead>\n",
       "  <tbody>\n",
       "    <tr>\n",
       "      <th>count</th>\n",
       "      <td>5.000000</td>\n",
       "    </tr>\n",
       "    <tr>\n",
       "      <th>mean</th>\n",
       "      <td>1480.800000</td>\n",
       "    </tr>\n",
       "    <tr>\n",
       "      <th>std</th>\n",
       "      <td>823.674207</td>\n",
       "    </tr>\n",
       "    <tr>\n",
       "      <th>min</th>\n",
       "      <td>10.000000</td>\n",
       "    </tr>\n",
       "    <tr>\n",
       "      <th>25%</th>\n",
       "      <td>1770.000000</td>\n",
       "    </tr>\n",
       "    <tr>\n",
       "      <th>50%</th>\n",
       "      <td>1858.000000</td>\n",
       "    </tr>\n",
       "    <tr>\n",
       "      <th>75%</th>\n",
       "      <td>1860.000000</td>\n",
       "    </tr>\n",
       "    <tr>\n",
       "      <th>max</th>\n",
       "      <td>1906.000000</td>\n",
       "    </tr>\n",
       "  </tbody>\n",
       "</table>\n",
       "</div>"
      ],
      "text/plain": [
       "             birth\n",
       "count     5.000000\n",
       "mean   1480.800000\n",
       "std     823.674207\n",
       "min      10.000000\n",
       "25%    1770.000000\n",
       "50%    1858.000000\n",
       "75%    1860.000000\n",
       "max    1906.000000"
      ]
     },
     "execution_count": 61,
     "metadata": {},
     "output_type": "execute_result"
    }
   ],
   "source": [
    "# For example, the describe function simply skips non-numerics:\n",
    "import1.describe()"
   ]
  },
  {
   "cell_type": "code",
   "execution_count": null,
   "id": "1a26d72f",
   "metadata": {},
   "outputs": [],
   "source": [
    "# Note that the death column is missing."
   ]
  },
  {
   "cell_type": "code",
   "execution_count": 62,
   "id": "ea67f1bf",
   "metadata": {},
   "outputs": [
    {
     "data": {
      "text/html": [
       "<div>\n",
       "<style scoped>\n",
       "    .dataframe tbody tr th:only-of-type {\n",
       "        vertical-align: middle;\n",
       "    }\n",
       "\n",
       "    .dataframe tbody tr th {\n",
       "        vertical-align: top;\n",
       "    }\n",
       "\n",
       "    .dataframe thead th {\n",
       "        text-align: right;\n",
       "    }\n",
       "</style>\n",
       "<table border=\"1\" class=\"dataframe\">\n",
       "  <thead>\n",
       "    <tr style=\"text-align: right;\">\n",
       "      <th></th>\n",
       "      <th>birth</th>\n",
       "      <th>death</th>\n",
       "      <th>city</th>\n",
       "    </tr>\n",
       "    <tr>\n",
       "      <th>composer</th>\n",
       "      <th></th>\n",
       "      <th></th>\n",
       "      <th></th>\n",
       "    </tr>\n",
       "  </thead>\n",
       "  <tbody>\n",
       "    <tr>\n",
       "      <th>Mahler</th>\n",
       "      <td>1860.0</td>\n",
       "      <td>1911.0</td>\n",
       "      <td>Kaliste</td>\n",
       "    </tr>\n",
       "    <tr>\n",
       "      <th>Beethoven</th>\n",
       "      <td>1770.0</td>\n",
       "      <td>1827.0</td>\n",
       "      <td>Bonn</td>\n",
       "    </tr>\n",
       "    <tr>\n",
       "      <th>Puccini</th>\n",
       "      <td>1858.0</td>\n",
       "      <td>1924.0</td>\n",
       "      <td>Lucques</td>\n",
       "    </tr>\n",
       "    <tr>\n",
       "      <th>Shostakovich</th>\n",
       "      <td>1906.0</td>\n",
       "      <td>1975.0</td>\n",
       "      <td>Saint-Petersburg</td>\n",
       "    </tr>\n",
       "    <tr>\n",
       "      <th>Sibelius</th>\n",
       "      <td>10.0</td>\n",
       "      <td>NaN</td>\n",
       "      <td>NaN</td>\n",
       "    </tr>\n",
       "    <tr>\n",
       "      <th>Haydn</th>\n",
       "      <td>NaN</td>\n",
       "      <td>NaN</td>\n",
       "      <td>Röhrau</td>\n",
       "    </tr>\n",
       "  </tbody>\n",
       "</table>\n",
       "</div>"
      ],
      "text/plain": [
       "               birth   death              city\n",
       "composer                                      \n",
       "Mahler        1860.0  1911.0           Kaliste\n",
       "Beethoven     1770.0  1827.0              Bonn\n",
       "Puccini       1858.0  1924.0           Lucques\n",
       "Shostakovich  1906.0  1975.0  Saint-Petersburg\n",
       "Sibelius        10.0     NaN               NaN\n",
       "Haydn            NaN     NaN            Röhrau"
      ]
     },
     "execution_count": 62,
     "metadata": {},
     "output_type": "execute_result"
    }
   ],
   "source": [
    "# Here, we specify that 'unknown' should be NaN (missing):\n",
    "import2 = pd.read_excel('Data/composers.xlsx', index_col = 'composer',\n",
    "                        sheet_name='Sheet2', na_values=['unknown'])\n",
    "import2"
   ]
  },
  {
   "cell_type": "code",
   "execution_count": 63,
   "id": "47d1f209",
   "metadata": {},
   "outputs": [
    {
     "data": {
      "text/html": [
       "<div>\n",
       "<style scoped>\n",
       "    .dataframe tbody tr th:only-of-type {\n",
       "        vertical-align: middle;\n",
       "    }\n",
       "\n",
       "    .dataframe tbody tr th {\n",
       "        vertical-align: top;\n",
       "    }\n",
       "\n",
       "    .dataframe thead th {\n",
       "        text-align: right;\n",
       "    }\n",
       "</style>\n",
       "<table border=\"1\" class=\"dataframe\">\n",
       "  <thead>\n",
       "    <tr style=\"text-align: right;\">\n",
       "      <th></th>\n",
       "      <th>birth</th>\n",
       "      <th>death</th>\n",
       "    </tr>\n",
       "  </thead>\n",
       "  <tbody>\n",
       "    <tr>\n",
       "      <th>count</th>\n",
       "      <td>5.000000</td>\n",
       "      <td>4.000000</td>\n",
       "    </tr>\n",
       "    <tr>\n",
       "      <th>mean</th>\n",
       "      <td>1480.800000</td>\n",
       "      <td>1909.250000</td>\n",
       "    </tr>\n",
       "    <tr>\n",
       "      <th>std</th>\n",
       "      <td>823.674207</td>\n",
       "      <td>61.396933</td>\n",
       "    </tr>\n",
       "    <tr>\n",
       "      <th>min</th>\n",
       "      <td>10.000000</td>\n",
       "      <td>1827.000000</td>\n",
       "    </tr>\n",
       "    <tr>\n",
       "      <th>25%</th>\n",
       "      <td>1770.000000</td>\n",
       "      <td>1890.000000</td>\n",
       "    </tr>\n",
       "    <tr>\n",
       "      <th>50%</th>\n",
       "      <td>1858.000000</td>\n",
       "      <td>1917.500000</td>\n",
       "    </tr>\n",
       "    <tr>\n",
       "      <th>75%</th>\n",
       "      <td>1860.000000</td>\n",
       "      <td>1936.750000</td>\n",
       "    </tr>\n",
       "    <tr>\n",
       "      <th>max</th>\n",
       "      <td>1906.000000</td>\n",
       "      <td>1975.000000</td>\n",
       "    </tr>\n",
       "  </tbody>\n",
       "</table>\n",
       "</div>"
      ],
      "text/plain": [
       "             birth        death\n",
       "count     5.000000     4.000000\n",
       "mean   1480.800000  1909.250000\n",
       "std     823.674207    61.396933\n",
       "min      10.000000  1827.000000\n",
       "25%    1770.000000  1890.000000\n",
       "50%    1858.000000  1917.500000\n",
       "75%    1860.000000  1936.750000\n",
       "max    1906.000000  1975.000000"
      ]
     },
     "execution_count": 63,
     "metadata": {},
     "output_type": "execute_result"
    }
   ],
   "source": [
    "# Now, computations using the death column are possible:\n",
    "import2.describe()"
   ]
  },
  {
   "cell_type": "markdown",
   "id": "bd8fdb16",
   "metadata": {},
   "source": [
    "### Columns types\n",
    "Column types can be specified using the dtype option and a dictionary."
   ]
  },
  {
   "cell_type": "code",
   "execution_count": null,
   "id": "4049bd43",
   "metadata": {},
   "outputs": [],
   "source": [
    "# For example, we know classified is an integer not a float"
   ]
  },
  {
   "cell_type": "code",
   "execution_count": 65,
   "id": "3b154fa2",
   "metadata": {},
   "outputs": [],
   "source": [
    "# And here, we can make all data types explicit on import:\n",
    "import2 = pd.read_excel('Data/composers.xlsx', index_col = 'composer',sheet_name='Sheet1', na_values=['unknown'],\n",
    "                       dtype={'composer':str,'birth':np.int32,'death':np.int32,'city':str})"
   ]
  },
  {
   "cell_type": "code",
   "execution_count": 66,
   "id": "3d213bfc",
   "metadata": {},
   "outputs": [
    {
     "data": {
      "text/plain": [
       "composer\n",
       "Mahler          1860\n",
       "Beethoven       1770\n",
       "Puccini         1858\n",
       "Shostakovich    1906\n",
       "Name: birth, dtype: int32"
      ]
     },
     "execution_count": 66,
     "metadata": {},
     "output_type": "execute_result"
    }
   ],
   "source": [
    "# For example, lets check birth\n",
    "import2.birth"
   ]
  },
  {
   "cell_type": "markdown",
   "id": "2aa94a68",
   "metadata": {},
   "source": [
    "### Modifications after import\n",
    "We can also do a default import and correct what needs to be after."
   ]
  },
  {
   "cell_type": "code",
   "execution_count": 67,
   "id": "6b749114",
   "metadata": {},
   "outputs": [
    {
     "data": {
      "text/plain": [
       "composer\n",
       "Mahler          1860.0\n",
       "Beethoven       1770.0\n",
       "Puccini         1858.0\n",
       "Shostakovich    1906.0\n",
       "Sibelius          10.0\n",
       "Haydn              NaN\n",
       "Name: birth, dtype: float64"
      ]
     },
     "execution_count": 67,
     "metadata": {},
     "output_type": "execute_result"
    }
   ],
   "source": [
    "# To replace values, we can use the replace() function; for example:\n",
    "import_nans = import1.replace('unknown', np.nan)\n",
    "import_nans.birth"
   ]
  },
  {
   "cell_type": "code",
   "execution_count": null,
   "id": "f125895f",
   "metadata": {},
   "outputs": [],
   "source": [
    "# Note that when we replace the values, Pandas adjusts column the type"
   ]
  },
  {
   "cell_type": "code",
   "execution_count": 68,
   "id": "76f27ebe",
   "metadata": {},
   "outputs": [
    {
     "data": {
      "text/plain": [
       "dtype('O')"
      ]
     },
     "execution_count": 68,
     "metadata": {},
     "output_type": "execute_result"
    }
   ],
   "source": [
    "# For example,,,\n",
    "import1.death.dtype"
   ]
  },
  {
   "cell_type": "code",
   "execution_count": 69,
   "id": "06ab1275",
   "metadata": {},
   "outputs": [
    {
     "data": {
      "text/plain": [
       "dtype('float64')"
      ]
     },
     "execution_count": 69,
     "metadata": {},
     "output_type": "execute_result"
    }
   ],
   "source": [
    "# And...\n",
    "import_nans.death.dtype"
   ]
  },
  {
   "cell_type": "code",
   "execution_count": null,
   "id": "9ac6993e",
   "metadata": {},
   "outputs": [],
   "source": [
    "# We can change also change column type using same syntax from Numpys"
   ]
  },
  {
   "cell_type": "code",
   "execution_count": 70,
   "id": "937486d1",
   "metadata": {},
   "outputs": [
    {
     "data": {
      "text/plain": [
       "composer\n",
       "Mahler          1860\n",
       "Beethoven       1770\n",
       "Puccini         1858\n",
       "Shostakovich    1906\n",
       "Name: birth, dtype: int32"
      ]
     },
     "execution_count": 70,
     "metadata": {},
     "output_type": "execute_result"
    }
   ],
   "source": [
    "# For example,,,\n",
    "import2.birth"
   ]
  },
  {
   "cell_type": "code",
   "execution_count": 71,
   "id": "7003e834",
   "metadata": {},
   "outputs": [
    {
     "data": {
      "text/plain": [
       "composer\n",
       "Mahler          1860.0\n",
       "Beethoven       1770.0\n",
       "Puccini         1858.0\n",
       "Shostakovich    1906.0\n",
       "Name: birth, dtype: float64"
      ]
     },
     "execution_count": 71,
     "metadata": {},
     "output_type": "execute_result"
    }
   ],
   "source": [
    "# And now...\n",
    "import2.birth.astype('float')"
   ]
  },
  {
   "cell_type": "code",
   "execution_count": null,
   "id": "d398bc58",
   "metadata": {},
   "outputs": [],
   "source": [
    "# But if we look at import2 again, we note the type did not change\n",
    "# For dataframes, changes are only effective if we reassign the column"
   ]
  },
  {
   "cell_type": "code",
   "execution_count": 72,
   "id": "8ae028cb",
   "metadata": {},
   "outputs": [
    {
     "data": {
      "text/plain": [
       "composer\n",
       "Mahler          1860.0\n",
       "Beethoven       1770.0\n",
       "Puccini         1858.0\n",
       "Shostakovich    1906.0\n",
       "Name: birth, dtype: float64"
      ]
     },
     "execution_count": 72,
     "metadata": {},
     "output_type": "execute_result"
    }
   ],
   "source": [
    "# Reassignment is done using the same logic from R\n",
    "import2.birth = import2.birth.astype('float')\n",
    "import2.birth"
   ]
  },
  {
   "cell_type": "markdown",
   "id": "0e101c5d",
   "metadata": {},
   "source": [
    "### Exporting"
   ]
  },
  {
   "cell_type": "code",
   "execution_count": 73,
   "id": "db4bb7ef",
   "metadata": {},
   "outputs": [],
   "source": [
    "# To export a dataframe to csv, the following command is used:\n",
    "import2.to_csv('mydataframe.csv')"
   ]
  },
  {
   "cell_type": "code",
   "execution_count": null,
   "id": "b2624c36",
   "metadata": {},
   "outputs": [],
   "source": [
    "# lets confirms its been saved..."
   ]
  },
  {
   "cell_type": "code",
   "execution_count": 74,
   "id": "cc7b320e",
   "metadata": {},
   "outputs": [
    {
     "name": "stdout",
     "output_type": "stream",
     "text": [
      "mydataframe.csv\r\n"
     ]
    }
   ],
   "source": [
    "ls 'mydataframe.csv'"
   ]
  },
  {
   "cell_type": "code",
   "execution_count": 78,
   "id": "202a60b9",
   "metadata": {},
   "outputs": [],
   "source": [
    "# More complex data objects can be saved to a \"pickle\" format\n",
    "# Pickle is a Panda native format that is better wrt nested lists, etc\n",
    "import2.to_pickle('my_dataframe.pkl')"
   ]
  },
  {
   "cell_type": "code",
   "execution_count": 81,
   "id": "8d394b8f",
   "metadata": {},
   "outputs": [
    {
     "data": {
      "text/html": [
       "<div>\n",
       "<style scoped>\n",
       "    .dataframe tbody tr th:only-of-type {\n",
       "        vertical-align: middle;\n",
       "    }\n",
       "\n",
       "    .dataframe tbody tr th {\n",
       "        vertical-align: top;\n",
       "    }\n",
       "\n",
       "    .dataframe thead th {\n",
       "        text-align: right;\n",
       "    }\n",
       "</style>\n",
       "<table border=\"1\" class=\"dataframe\">\n",
       "  <thead>\n",
       "    <tr style=\"text-align: right;\">\n",
       "      <th></th>\n",
       "      <th>birth</th>\n",
       "      <th>death</th>\n",
       "      <th>city</th>\n",
       "    </tr>\n",
       "    <tr>\n",
       "      <th>composer</th>\n",
       "      <th></th>\n",
       "      <th></th>\n",
       "      <th></th>\n",
       "    </tr>\n",
       "  </thead>\n",
       "  <tbody>\n",
       "    <tr>\n",
       "      <th>Mahler</th>\n",
       "      <td>1860.0</td>\n",
       "      <td>1911</td>\n",
       "      <td>Kaliste</td>\n",
       "    </tr>\n",
       "    <tr>\n",
       "      <th>Beethoven</th>\n",
       "      <td>1770.0</td>\n",
       "      <td>1827</td>\n",
       "      <td>Bonn</td>\n",
       "    </tr>\n",
       "    <tr>\n",
       "      <th>Puccini</th>\n",
       "      <td>1858.0</td>\n",
       "      <td>1924</td>\n",
       "      <td>Lucques</td>\n",
       "    </tr>\n",
       "    <tr>\n",
       "      <th>Shostakovich</th>\n",
       "      <td>1906.0</td>\n",
       "      <td>1975</td>\n",
       "      <td>Saint-Petersburg</td>\n",
       "    </tr>\n",
       "  </tbody>\n",
       "</table>\n",
       "</div>"
      ],
      "text/plain": [
       "               birth  death              city\n",
       "composer                                     \n",
       "Mahler        1860.0   1911           Kaliste\n",
       "Beethoven     1770.0   1827              Bonn\n",
       "Puccini       1858.0   1924           Lucques\n",
       "Shostakovich  1906.0   1975  Saint-Petersburg"
      ]
     },
     "execution_count": 81,
     "metadata": {},
     "output_type": "execute_result"
    }
   ],
   "source": [
    "# And it can be releaded using the Pandas function pd.read_pickle()\n",
    "import3 = pd.read_pickle('Data/my_dataframe.pkl')\n",
    "import3"
   ]
  },
  {
   "cell_type": "markdown",
   "id": "b2893a19",
   "metadata": {},
   "source": [
    "### Plotting\n",
    "Pandas improves the output of native plots by using the df information"
   ]
  },
  {
   "cell_type": "code",
   "execution_count": 82,
   "id": "33c63f23",
   "metadata": {},
   "outputs": [],
   "source": [
    "# Lets explore via a simple dataset\n",
    "composers = pd.read_excel('Data/composers.xlsx', sheet_name='Sheet5')\n"
   ]
  },
  {
   "cell_type": "code",
   "execution_count": 83,
   "id": "76967fe2",
   "metadata": {},
   "outputs": [
    {
     "data": {
      "image/png": "[encoded data removed]",
      "text/plain": [
       "<Figure size 432x288 with 1 Axes>"
      ]
     },
     "metadata": {
      "needs_background": "light"
     },
     "output_type": "display_data"
    }
   ],
   "source": [
    "# Series can be used directly by Matplotlib; e.g. default scatter plot\n",
    "plt.plot(composers.birth, composers.death, 'o')\n",
    "plt.show()\n"
   ]
  },
  {
   "cell_type": "code",
   "execution_count": null,
   "id": "023f9efa",
   "metadata": {},
   "outputs": [],
   "source": [
    "# Note that different plots can be specified using the \"kind\" option\n",
    "# The variables to plot are column names rather than whole series"
   ]
  },
  {
   "cell_type": "code",
   "execution_count": 84,
   "id": "01ac6d7f",
   "metadata": {},
   "outputs": [
    {
     "data": {
      "image/png": "[encoded data removed]",
      "text/plain": [
       "<Figure size 432x288 with 1 Axes>"
      ]
     },
     "metadata": {
      "needs_background": "light"
     },
     "output_type": "display_data"
    }
   ],
   "source": [
    "# For example...\n",
    "composers.plot(x = 'birth', y = 'death', kind = 'scatter')\n",
    "plt.show()"
   ]
  },
  {
   "cell_type": "code",
   "execution_count": null,
   "id": "7cee18b2",
   "metadata": {},
   "outputs": [],
   "source": [
    "# We note that the plot automatically gets axis labels"
   ]
  },
  {
   "cell_type": "code",
   "execution_count": 85,
   "id": "bd503790",
   "metadata": {},
   "outputs": [
    {
     "data": {
      "image/png": "[encoded data removed]",
      "text/plain": [
       "<Figure size 432x288 with 1 Axes>"
      ]
     },
     "metadata": {
      "needs_background": "light"
     },
     "output_type": "display_data"
    }
   ],
   "source": [
    "# We can also directly specify labels and axis titles\n",
    "composers.plot(x = 'birth', y = 'death', kind = 'scatter',\n",
    "               title = 'Composer birth and death', grid = True, fontsize = 15)\n",
    "plt.show()"
   ]
  },
  {
   "cell_type": "code",
   "execution_count": 86,
   "id": "dfd93d6e",
   "metadata": {},
   "outputs": [
    {
     "data": {
      "image/png": "[encoded data removed]",
      "text/plain": [
       "<Figure size 432x288 with 2 Axes>"
      ]
     },
     "metadata": {
      "needs_background": "light"
     },
     "output_type": "display_data"
    }
   ],
   "source": [
    "# We can also add additional formatting, for example:\n",
    "composers.plot(x = 'birth', y = 'death',kind = 'scatter',\n",
    "               c = composers.period.astype('category').cat.codes, colormap = 'Reds', title = 'Composer birth and death', grid = True, fontsize = 15)\n",
    "plt.show()"
   ]
  },
  {
   "cell_type": "code",
   "execution_count": 87,
   "id": "ec403a0c",
   "metadata": {},
   "outputs": [
    {
     "data": {
      "image/png": "[encoded data removed]",
      "text/plain": [
       "<Figure size 432x288 with 1 Axes>"
      ]
     },
     "metadata": {
      "needs_background": "light"
     },
     "output_type": "display_data"
    }
   ],
   "source": [
    "# Seaborn provides for a smoother plotting experience; for example:\n",
    "sns.scatterplot(data = composers, x = 'birth', y = 'death', hue = 'period')\n",
    "plt.show()"
   ]
  },
  {
   "cell_type": "code",
   "execution_count": null,
   "id": "5bd074f2",
   "metadata": {},
   "outputs": [],
   "source": [
    "# Some additional options are available in the plot module..."
   ]
  },
  {
   "cell_type": "code",
   "execution_count": 88,
   "id": "a4248218",
   "metadata": {},
   "outputs": [
    {
     "data": {
      "image/png": "[encoded data removed]",
      "text/plain": [
       "<Figure size 432x288 with 1 Axes>"
      ]
     },
     "metadata": {
      "needs_background": "light"
     },
     "output_type": "display_data"
    }
   ],
   "source": [
    "# For example, histograms...\n",
    "composers.plot.hist(alpha = 0.5)\n",
    "plt.show()"
   ]
  },
  {
   "cell_type": "code",
   "execution_count": null,
   "id": "838f71a5",
   "metadata": {},
   "outputs": [],
   "source": [
    "# We can also use styles with plots; for example..."
   ]
  },
  {
   "cell_type": "code",
   "execution_count": 90,
   "id": "8dca1ee4",
   "metadata": {},
   "outputs": [],
   "source": [
    "# First, specify style\n",
    "plt.style.use('ggplot')"
   ]
  },
  {
   "cell_type": "code",
   "execution_count": 91,
   "id": "e5145887",
   "metadata": {},
   "outputs": [
    {
     "data": {
      "image/png": "[encoded data removed]",
      "text/plain": [
       "<Figure size 432x288 with 1 Axes>"
      ]
     },
     "metadata": {},
     "output_type": "display_data"
    }
   ],
   "source": [
    "# Then...\n",
    "composers.plot.hist(alpha = 0.5)\n",
    "plt.show()"
   ]
  },
  {
   "cell_type": "markdown",
   "id": "ffb2d114",
   "metadata": {},
   "source": [
    "## Operations with Pandas objects\n",
    "Here we practice analysis of tabular data using Pandas with Numpys"
   ]
  },
  {
   "cell_type": "code",
   "execution_count": 92,
   "id": "bb1fabb0",
   "metadata": {},
   "outputs": [],
   "source": [
    "# First, load our libraries\n",
    "import pandas as pd\n",
    "import numpy as np"
   ]
  },
  {
   "cell_type": "code",
   "execution_count": 93,
   "id": "eec9e258",
   "metadata": {},
   "outputs": [
    {
     "data": {
      "text/html": [
       "<div>\n",
       "<style scoped>\n",
       "    .dataframe tbody tr th:only-of-type {\n",
       "        vertical-align: middle;\n",
       "    }\n",
       "\n",
       "    .dataframe tbody tr th {\n",
       "        vertical-align: top;\n",
       "    }\n",
       "\n",
       "    .dataframe thead th {\n",
       "        text-align: right;\n",
       "    }\n",
       "</style>\n",
       "<table border=\"1\" class=\"dataframe\">\n",
       "  <thead>\n",
       "    <tr style=\"text-align: right;\">\n",
       "      <th></th>\n",
       "      <th>composer</th>\n",
       "      <th>birth</th>\n",
       "      <th>death</th>\n",
       "      <th>city</th>\n",
       "    </tr>\n",
       "  </thead>\n",
       "  <tbody>\n",
       "    <tr>\n",
       "      <th>0</th>\n",
       "      <td>Mahler</td>\n",
       "      <td>1860</td>\n",
       "      <td>1911</td>\n",
       "      <td>Kaliste</td>\n",
       "    </tr>\n",
       "    <tr>\n",
       "      <th>1</th>\n",
       "      <td>Beethoven</td>\n",
       "      <td>1770</td>\n",
       "      <td>1827</td>\n",
       "      <td>Bonn</td>\n",
       "    </tr>\n",
       "    <tr>\n",
       "      <th>2</th>\n",
       "      <td>Puccini</td>\n",
       "      <td>1858</td>\n",
       "      <td>1924</td>\n",
       "      <td>Lucques</td>\n",
       "    </tr>\n",
       "    <tr>\n",
       "      <th>3</th>\n",
       "      <td>Shostakovich</td>\n",
       "      <td>1906</td>\n",
       "      <td>1975</td>\n",
       "      <td>Saint-Petersburg</td>\n",
       "    </tr>\n",
       "  </tbody>\n",
       "</table>\n",
       "</div>"
      ],
      "text/plain": [
       "       composer  birth  death              city\n",
       "0        Mahler   1860   1911           Kaliste\n",
       "1     Beethoven   1770   1827              Bonn\n",
       "2       Puccini   1858   1924           Lucques\n",
       "3  Shostakovich   1906   1975  Saint-Petersburg"
      ]
     },
     "execution_count": 93,
     "metadata": {},
     "output_type": "execute_result"
    }
   ],
   "source": [
    "# Next, we load our data\n",
    "compo_pd = pd.read_excel('Data/composers.xlsx')\n",
    "compo_pd"
   ]
  },
  {
   "cell_type": "code",
   "execution_count": 95,
   "id": "eefc5dec",
   "metadata": {},
   "outputs": [],
   "source": [
    "# Now, mathematical operations work against entire columns as in R"
   ]
  },
  {
   "cell_type": "code",
   "execution_count": 96,
   "id": "3b26becd",
   "metadata": {},
   "outputs": [
    {
     "data": {
      "text/plain": [
       "0    3720\n",
       "1    3540\n",
       "2    3716\n",
       "3    3812\n",
       "Name: birth, dtype: int64"
      ]
     },
     "execution_count": 96,
     "metadata": {},
     "output_type": "execute_result"
    }
   ],
   "source": [
    "# For example, multiplication\n",
    "compo_pd['birth']*2"
   ]
  },
  {
   "cell_type": "code",
   "execution_count": 97,
   "id": "76b1af1d",
   "metadata": {},
   "outputs": [
    {
     "data": {
      "text/plain": [
       "0    7.528332\n",
       "1    7.478735\n",
       "2    7.527256\n",
       "3    7.552762\n",
       "Name: birth, dtype: float64"
      ]
     },
     "execution_count": 97,
     "metadata": {},
     "output_type": "execute_result"
    }
   ],
   "source": [
    "# Or logarithms\n",
    "np.log(compo_pd['birth'])"
   ]
  },
  {
   "cell_type": "code",
   "execution_count": 98,
   "id": "764fd1e3",
   "metadata": {},
   "outputs": [
    {
     "data": {
      "text/html": [
       "<div>\n",
       "<style scoped>\n",
       "    .dataframe tbody tr th:only-of-type {\n",
       "        vertical-align: middle;\n",
       "    }\n",
       "\n",
       "    .dataframe tbody tr th {\n",
       "        vertical-align: top;\n",
       "    }\n",
       "\n",
       "    .dataframe thead th {\n",
       "        text-align: right;\n",
       "    }\n",
       "</style>\n",
       "<table border=\"1\" class=\"dataframe\">\n",
       "  <thead>\n",
       "    <tr style=\"text-align: right;\">\n",
       "      <th></th>\n",
       "      <th>birth</th>\n",
       "      <th>death</th>\n",
       "    </tr>\n",
       "  </thead>\n",
       "  <tbody>\n",
       "    <tr>\n",
       "      <th>0</th>\n",
       "      <td>3720</td>\n",
       "      <td>3822</td>\n",
       "    </tr>\n",
       "    <tr>\n",
       "      <th>1</th>\n",
       "      <td>3540</td>\n",
       "      <td>3654</td>\n",
       "    </tr>\n",
       "    <tr>\n",
       "      <th>2</th>\n",
       "      <td>3716</td>\n",
       "      <td>3848</td>\n",
       "    </tr>\n",
       "    <tr>\n",
       "      <th>3</th>\n",
       "      <td>3812</td>\n",
       "      <td>3950</td>\n",
       "    </tr>\n",
       "  </tbody>\n",
       "</table>\n",
       "</div>"
      ],
      "text/plain": [
       "   birth  death\n",
       "0   3720   3822\n",
       "1   3540   3654\n",
       "2   3716   3848\n",
       "3   3812   3950"
      ]
     },
     "execution_count": 98,
     "metadata": {},
     "output_type": "execute_result"
    }
   ],
   "source": [
    "# We can also apply operations to multiple columns\n",
    "compo_pd[['birth','death']]*2\n"
   ]
  },
  {
   "cell_type": "markdown",
   "id": "3263a7ff",
   "metadata": {},
   "source": [
    "### Column operations\n",
    "Summary functions are avialable, that work on entire dataframes"
   ]
  },
  {
   "cell_type": "code",
   "execution_count": 99,
   "id": "a2b5f2cc",
   "metadata": {},
   "outputs": [
    {
     "name": "stderr",
     "output_type": "stream",
     "text": [
      "/usr/local/anaconda3/lib/python3.9/site-packages/numpy/core/fromnumeric.py:3417: FutureWarning: Dropping of nuisance columns in DataFrame reductions (with 'numeric_only=None') is deprecated; in a future version this will raise TypeError.  Select only valid columns before calling the reduction.\n",
      "  return mean(axis=axis, dtype=dtype, out=out, **kwargs)\n"
     ]
    },
    {
     "data": {
      "text/plain": [
       "birth    1848.50\n",
       "death    1909.25\n",
       "dtype: float64"
      ]
     },
     "execution_count": 99,
     "metadata": {},
     "output_type": "execute_result"
    }
   ],
   "source": [
    "# For example, the mean\n",
    "np.mean(compo_pd)"
   ]
  },
  {
   "cell_type": "code",
   "execution_count": null,
   "id": "18ac07f3",
   "metadata": {},
   "outputs": [],
   "source": [
    "# Or, standard deviation"
   ]
  },
  {
   "cell_type": "code",
   "execution_count": 100,
   "id": "bff4be3c",
   "metadata": {},
   "outputs": [
    {
     "name": "stderr",
     "output_type": "stream",
     "text": [
      "/var/folders/l9/zf8fhrds2nd_sfhd808zjdd80000gn/T/ipykernel_45801/237597691.py:1: FutureWarning: Dropping of nuisance columns in DataFrame reductions (with 'numeric_only=None') is deprecated; in a future version this will raise TypeError.  Select only valid columns before calling the reduction.\n",
      "  compo_pd.std()\n"
     ]
    },
    {
     "data": {
      "text/plain": [
       "birth    56.836021\n",
       "death    61.396933\n",
       "dtype: float64"
      ]
     },
     "execution_count": 100,
     "metadata": {},
     "output_type": "execute_result"
    }
   ],
   "source": [
    "compo_pd.std()"
   ]
  },
  {
   "cell_type": "code",
   "execution_count": null,
   "id": "f1cf80b4",
   "metadata": {},
   "outputs": [],
   "source": [
    "# Note that these function complain about non-numerics"
   ]
  },
  {
   "cell_type": "code",
   "execution_count": 101,
   "id": "d4d00f76",
   "metadata": {},
   "outputs": [
    {
     "data": {
      "text/html": [
       "<div>\n",
       "<style scoped>\n",
       "    .dataframe tbody tr th:only-of-type {\n",
       "        vertical-align: middle;\n",
       "    }\n",
       "\n",
       "    .dataframe tbody tr th {\n",
       "        vertical-align: top;\n",
       "    }\n",
       "\n",
       "    .dataframe thead th {\n",
       "        text-align: right;\n",
       "    }\n",
       "</style>\n",
       "<table border=\"1\" class=\"dataframe\">\n",
       "  <thead>\n",
       "    <tr style=\"text-align: right;\">\n",
       "      <th></th>\n",
       "      <th>birth</th>\n",
       "      <th>death</th>\n",
       "    </tr>\n",
       "  </thead>\n",
       "  <tbody>\n",
       "    <tr>\n",
       "      <th>count</th>\n",
       "      <td>4.000000</td>\n",
       "      <td>4.000000</td>\n",
       "    </tr>\n",
       "    <tr>\n",
       "      <th>mean</th>\n",
       "      <td>1848.500000</td>\n",
       "      <td>1909.250000</td>\n",
       "    </tr>\n",
       "    <tr>\n",
       "      <th>std</th>\n",
       "      <td>56.836021</td>\n",
       "      <td>61.396933</td>\n",
       "    </tr>\n",
       "    <tr>\n",
       "      <th>min</th>\n",
       "      <td>1770.000000</td>\n",
       "      <td>1827.000000</td>\n",
       "    </tr>\n",
       "    <tr>\n",
       "      <th>25%</th>\n",
       "      <td>1836.000000</td>\n",
       "      <td>1890.000000</td>\n",
       "    </tr>\n",
       "    <tr>\n",
       "      <th>50%</th>\n",
       "      <td>1859.000000</td>\n",
       "      <td>1917.500000</td>\n",
       "    </tr>\n",
       "    <tr>\n",
       "      <th>75%</th>\n",
       "      <td>1871.500000</td>\n",
       "      <td>1936.750000</td>\n",
       "    </tr>\n",
       "    <tr>\n",
       "      <th>max</th>\n",
       "      <td>1906.000000</td>\n",
       "      <td>1975.000000</td>\n",
       "    </tr>\n",
       "  </tbody>\n",
       "</table>\n",
       "</div>"
      ],
      "text/plain": [
       "             birth        death\n",
       "count     4.000000     4.000000\n",
       "mean   1848.500000  1909.250000\n",
       "std      56.836021    61.396933\n",
       "min    1770.000000  1827.000000\n",
       "25%    1836.000000  1890.000000\n",
       "50%    1859.000000  1917.500000\n",
       "75%    1871.500000  1936.750000\n",
       "max    1906.000000  1975.000000"
      ]
     },
     "execution_count": 101,
     "metadata": {},
     "output_type": "execute_result"
    }
   ],
   "source": [
    "# A function to provide common discriptics is also available:\n",
    "compo_pd.describe()"
   ]
  },
  {
   "cell_type": "code",
   "execution_count": 102,
   "id": "ab5bf2ad",
   "metadata": {},
   "outputs": [
    {
     "data": {
      "text/plain": [
       "1848.5"
      ]
     },
     "execution_count": 102,
     "metadata": {},
     "output_type": "execute_result"
    }
   ],
   "source": [
    "# We can also call summary stats directly from a single column\n",
    "compo_pd.birth.mean()"
   ]
  },
  {
   "cell_type": "markdown",
   "id": "76d03677",
   "metadata": {},
   "source": [
    "### Operations between Series\n",
    "We can also do computations with multiple series, as with Numpy arrays"
   ]
  },
  {
   "cell_type": "code",
   "execution_count": 103,
   "id": "c685b586",
   "metadata": {},
   "outputs": [
    {
     "data": {
      "text/plain": [
       "0    51\n",
       "1    57\n",
       "2    66\n",
       "3    69\n",
       "dtype: int64"
      ]
     },
     "execution_count": 103,
     "metadata": {},
     "output_type": "execute_result"
    }
   ],
   "source": [
    "# For example, subtraction\n",
    "compo_pd['death']-compo_pd['birth']"
   ]
  },
  {
   "cell_type": "code",
   "execution_count": null,
   "id": "3ca2b28d",
   "metadata": {},
   "outputs": [],
   "source": [
    "# We can also add results to new dataframe columns; for example"
   ]
  },
  {
   "cell_type": "code",
   "execution_count": 104,
   "id": "5bd89a8c",
   "metadata": {},
   "outputs": [
    {
     "data": {
      "text/html": [
       "<div>\n",
       "<style scoped>\n",
       "    .dataframe tbody tr th:only-of-type {\n",
       "        vertical-align: middle;\n",
       "    }\n",
       "\n",
       "    .dataframe tbody tr th {\n",
       "        vertical-align: top;\n",
       "    }\n",
       "\n",
       "    .dataframe thead th {\n",
       "        text-align: right;\n",
       "    }\n",
       "</style>\n",
       "<table border=\"1\" class=\"dataframe\">\n",
       "  <thead>\n",
       "    <tr style=\"text-align: right;\">\n",
       "      <th></th>\n",
       "      <th>composer</th>\n",
       "      <th>birth</th>\n",
       "      <th>death</th>\n",
       "      <th>city</th>\n",
       "      <th>age</th>\n",
       "    </tr>\n",
       "  </thead>\n",
       "  <tbody>\n",
       "    <tr>\n",
       "      <th>0</th>\n",
       "      <td>Mahler</td>\n",
       "      <td>1860</td>\n",
       "      <td>1911</td>\n",
       "      <td>Kaliste</td>\n",
       "      <td>51</td>\n",
       "    </tr>\n",
       "    <tr>\n",
       "      <th>1</th>\n",
       "      <td>Beethoven</td>\n",
       "      <td>1770</td>\n",
       "      <td>1827</td>\n",
       "      <td>Bonn</td>\n",
       "      <td>57</td>\n",
       "    </tr>\n",
       "    <tr>\n",
       "      <th>2</th>\n",
       "      <td>Puccini</td>\n",
       "      <td>1858</td>\n",
       "      <td>1924</td>\n",
       "      <td>Lucques</td>\n",
       "      <td>66</td>\n",
       "    </tr>\n",
       "    <tr>\n",
       "      <th>3</th>\n",
       "      <td>Shostakovich</td>\n",
       "      <td>1906</td>\n",
       "      <td>1975</td>\n",
       "      <td>Saint-Petersburg</td>\n",
       "      <td>69</td>\n",
       "    </tr>\n",
       "  </tbody>\n",
       "</table>\n",
       "</div>"
      ],
      "text/plain": [
       "       composer  birth  death              city  age\n",
       "0        Mahler   1860   1911           Kaliste   51\n",
       "1     Beethoven   1770   1827              Bonn   57\n",
       "2       Puccini   1858   1924           Lucques   66\n",
       "3  Shostakovich   1906   1975  Saint-Petersburg   69"
      ]
     },
     "execution_count": 104,
     "metadata": {},
     "output_type": "execute_result"
    }
   ],
   "source": [
    "# Here, we create a derived age column:\n",
    "compo_pd['age'] = compo_pd['death']-compo_pd['birth']\n",
    "compo_pd"
   ]
  },
  {
   "cell_type": "markdown",
   "id": "f5a46ab3",
   "metadata": {},
   "source": [
    "### Other functions\n",
    "Pandas offers apply methods to apply custom functions to dataframes"
   ]
  },
  {
   "cell_type": "code",
   "execution_count": null,
   "id": "544b53e7",
   "metadata": {},
   "outputs": [],
   "source": [
    "#For example, to define the the age >60 as 'old' and <60 as 'young'. "
   ]
  },
  {
   "cell_type": "code",
   "execution_count": 105,
   "id": "586f01bb",
   "metadata": {},
   "outputs": [],
   "source": [
    "# First, we create the function:\n",
    "def define_age(x):\n",
    "    if x>60:\n",
    "        return 'old'\n",
    "    else:\n",
    "        return 'young'"
   ]
  },
  {
   "cell_type": "code",
   "execution_count": 106,
   "id": "008d9684",
   "metadata": {},
   "outputs": [
    {
     "data": {
      "text/plain": [
       "'young'"
      ]
     },
     "execution_count": 106,
     "metadata": {},
     "output_type": "execute_result"
    }
   ],
   "source": [
    "# Here, we test it:\n",
    "define_age(30)"
   ]
  },
  {
   "cell_type": "code",
   "execution_count": 107,
   "id": "0e507a0d",
   "metadata": {},
   "outputs": [
    {
     "data": {
      "text/plain": [
       "'old'"
      ]
     },
     "execution_count": 107,
     "metadata": {},
     "output_type": "execute_result"
    }
   ],
   "source": [
    "# And again\n",
    "define_age(70)"
   ]
  },
  {
   "cell_type": "code",
   "execution_count": null,
   "id": "a2e25f5c",
   "metadata": {},
   "outputs": [],
   "source": [
    "# Good. Seems ok."
   ]
  },
  {
   "cell_type": "code",
   "execution_count": 108,
   "id": "8566a036",
   "metadata": {},
   "outputs": [
    {
     "data": {
      "text/plain": [
       "0    young\n",
       "1    young\n",
       "2      old\n",
       "3      old\n",
       "Name: age, dtype: object"
      ]
     },
     "execution_count": 108,
     "metadata": {},
     "output_type": "execute_result"
    }
   ],
   "source": [
    "# We can now apply to an entire Series.\n",
    "compo_pd.age.apply(define_age)"
   ]
  },
  {
   "cell_type": "code",
   "execution_count": 109,
   "id": "53dee845",
   "metadata": {},
   "outputs": [
    {
     "data": {
      "text/html": [
       "<div>\n",
       "<style scoped>\n",
       "    .dataframe tbody tr th:only-of-type {\n",
       "        vertical-align: middle;\n",
       "    }\n",
       "\n",
       "    .dataframe tbody tr th {\n",
       "        vertical-align: top;\n",
       "    }\n",
       "\n",
       "    .dataframe thead th {\n",
       "        text-align: right;\n",
       "    }\n",
       "</style>\n",
       "<table border=\"1\" class=\"dataframe\">\n",
       "  <thead>\n",
       "    <tr style=\"text-align: right;\">\n",
       "      <th></th>\n",
       "      <th>composer</th>\n",
       "      <th>birth</th>\n",
       "      <th>death</th>\n",
       "      <th>city</th>\n",
       "      <th>age</th>\n",
       "      <th>age_def</th>\n",
       "    </tr>\n",
       "  </thead>\n",
       "  <tbody>\n",
       "    <tr>\n",
       "      <th>0</th>\n",
       "      <td>Mahler</td>\n",
       "      <td>1860</td>\n",
       "      <td>1911</td>\n",
       "      <td>Kaliste</td>\n",
       "      <td>51</td>\n",
       "      <td>young</td>\n",
       "    </tr>\n",
       "    <tr>\n",
       "      <th>1</th>\n",
       "      <td>Beethoven</td>\n",
       "      <td>1770</td>\n",
       "      <td>1827</td>\n",
       "      <td>Bonn</td>\n",
       "      <td>57</td>\n",
       "      <td>young</td>\n",
       "    </tr>\n",
       "    <tr>\n",
       "      <th>2</th>\n",
       "      <td>Puccini</td>\n",
       "      <td>1858</td>\n",
       "      <td>1924</td>\n",
       "      <td>Lucques</td>\n",
       "      <td>66</td>\n",
       "      <td>old</td>\n",
       "    </tr>\n",
       "    <tr>\n",
       "      <th>3</th>\n",
       "      <td>Shostakovich</td>\n",
       "      <td>1906</td>\n",
       "      <td>1975</td>\n",
       "      <td>Saint-Petersburg</td>\n",
       "      <td>69</td>\n",
       "      <td>old</td>\n",
       "    </tr>\n",
       "  </tbody>\n",
       "</table>\n",
       "</div>"
      ],
      "text/plain": [
       "       composer  birth  death              city  age age_def\n",
       "0        Mahler   1860   1911           Kaliste   51   young\n",
       "1     Beethoven   1770   1827              Bonn   57   young\n",
       "2       Puccini   1858   1924           Lucques   66     old\n",
       "3  Shostakovich   1906   1975  Saint-Petersburg   69     old"
      ]
     },
     "execution_count": 109,
     "metadata": {},
     "output_type": "execute_result"
    }
   ],
   "source": [
    "# And again, we can directly add this output to a new column:\n",
    "compo_pd['age_def'] = compo_pd.age.apply(define_age)\n",
    "compo_pd"
   ]
  },
  {
   "cell_type": "code",
   "execution_count": null,
   "id": "1bc6c561",
   "metadata": {},
   "outputs": [],
   "source": [
    "# We can also apply a function to an entire DataFrame. \n",
    "# For example, how many composers have birth and death dates within the XIXth century:"
   ]
  },
  {
   "cell_type": "code",
   "execution_count": 110,
   "id": "2d61ddfd",
   "metadata": {},
   "outputs": [],
   "source": [
    "# Here, we define the function:\n",
    "def nineteen_century_count(x):\n",
    "    return np.sum((x>=1800)&(x<1900))"
   ]
  },
  {
   "cell_type": "code",
   "execution_count": 111,
   "id": "c5b955d8",
   "metadata": {},
   "outputs": [
    {
     "data": {
      "text/plain": [
       "birth    2\n",
       "death    1\n",
       "dtype: int64"
      ]
     },
     "execution_count": 111,
     "metadata": {},
     "output_type": "execute_result"
    }
   ],
   "source": [
    "# Then we execute...\n",
    "compo_pd[['birth','death']].apply(nineteen_century_count)\n"
   ]
  },
  {
   "cell_type": "code",
   "execution_count": null,
   "id": "8ada803f",
   "metadata": {},
   "outputs": [],
   "source": [
    "# The function is applied column-wise and returns a number for each"
   ]
  },
  {
   "cell_type": "code",
   "execution_count": 112,
   "id": "da30a199",
   "metadata": {},
   "outputs": [
    {
     "data": {
      "text/html": [
       "<div>\n",
       "<style scoped>\n",
       "    .dataframe tbody tr th:only-of-type {\n",
       "        vertical-align: middle;\n",
       "    }\n",
       "\n",
       "    .dataframe tbody tr th {\n",
       "        vertical-align: top;\n",
       "    }\n",
       "\n",
       "    .dataframe thead th {\n",
       "        text-align: right;\n",
       "    }\n",
       "</style>\n",
       "<table border=\"1\" class=\"dataframe\">\n",
       "  <thead>\n",
       "    <tr style=\"text-align: right;\">\n",
       "      <th></th>\n",
       "      <th>birth</th>\n",
       "      <th>death</th>\n",
       "    </tr>\n",
       "  </thead>\n",
       "  <tbody>\n",
       "    <tr>\n",
       "      <th>0</th>\n",
       "      <td>True</td>\n",
       "      <td>False</td>\n",
       "    </tr>\n",
       "    <tr>\n",
       "      <th>1</th>\n",
       "      <td>False</td>\n",
       "      <td>True</td>\n",
       "    </tr>\n",
       "    <tr>\n",
       "      <th>2</th>\n",
       "      <td>True</td>\n",
       "      <td>False</td>\n",
       "    </tr>\n",
       "    <tr>\n",
       "      <th>3</th>\n",
       "      <td>False</td>\n",
       "      <td>False</td>\n",
       "    </tr>\n",
       "  </tbody>\n",
       "</table>\n",
       "</div>"
      ],
      "text/plain": [
       "   birth  death\n",
       "0   True  False\n",
       "1  False   True\n",
       "2   True  False\n",
       "3  False  False"
      ]
     },
     "execution_count": 112,
     "metadata": {},
     "output_type": "execute_result"
    }
   ],
   "source": [
    "# Or, we can just directly return the boolean...\n",
    "# define function\n",
    "def nineteen_century_true(x):\n",
    "    return (x>=1800)&(x<1900)\n",
    "# execute\n",
    "compo_pd[['birth','death']].apply(nineteen_century_true)"
   ]
  },
  {
   "cell_type": "code",
   "execution_count": null,
   "id": "4c446820",
   "metadata": {},
   "outputs": [],
   "source": [
    "# Like Numpys, dataframes can also be selected via logical indices"
   ]
  },
  {
   "cell_type": "code",
   "execution_count": 113,
   "id": "9dd0a39b",
   "metadata": {},
   "outputs": [
    {
     "data": {
      "text/plain": [
       "0     True\n",
       "1    False\n",
       "2    False\n",
       "3     True\n",
       "Name: birth, dtype: bool"
      ]
     },
     "execution_count": 113,
     "metadata": {},
     "output_type": "execute_result"
    }
   ],
   "source": [
    "# So, if we use a logical comparison it yields a logical series\n",
    "compo_pd['birth'] > 1859"
   ]
  },
  {
   "cell_type": "code",
   "execution_count": null,
   "id": "33d3a2cc",
   "metadata": {},
   "outputs": [],
   "source": [
    "# And we can use this series directly to index a dataframe (like R)"
   ]
  },
  {
   "cell_type": "code",
   "execution_count": 114,
   "id": "639e84fd",
   "metadata": {},
   "outputs": [
    {
     "data": {
      "text/plain": [
       "0     True\n",
       "1    False\n",
       "2    False\n",
       "3     True\n",
       "Name: birth, dtype: bool"
      ]
     },
     "execution_count": 114,
     "metadata": {},
     "output_type": "execute_result"
    }
   ],
   "source": [
    "# First, we create the index\n",
    "log_indexer = compo_pd['birth'] > 1859\n",
    "log_indexer"
   ]
  },
  {
   "cell_type": "code",
   "execution_count": 115,
   "id": "9cc930b2",
   "metadata": {},
   "outputs": [
    {
     "data": {
      "text/html": [
       "<div>\n",
       "<style scoped>\n",
       "    .dataframe tbody tr th:only-of-type {\n",
       "        vertical-align: middle;\n",
       "    }\n",
       "\n",
       "    .dataframe tbody tr th {\n",
       "        vertical-align: top;\n",
       "    }\n",
       "\n",
       "    .dataframe thead th {\n",
       "        text-align: right;\n",
       "    }\n",
       "</style>\n",
       "<table border=\"1\" class=\"dataframe\">\n",
       "  <thead>\n",
       "    <tr style=\"text-align: right;\">\n",
       "      <th></th>\n",
       "      <th>composer</th>\n",
       "      <th>birth</th>\n",
       "      <th>death</th>\n",
       "      <th>city</th>\n",
       "      <th>age</th>\n",
       "      <th>age_def</th>\n",
       "    </tr>\n",
       "  </thead>\n",
       "  <tbody>\n",
       "    <tr>\n",
       "      <th>0</th>\n",
       "      <td>Mahler</td>\n",
       "      <td>1860</td>\n",
       "      <td>1911</td>\n",
       "      <td>Kaliste</td>\n",
       "      <td>51</td>\n",
       "      <td>young</td>\n",
       "    </tr>\n",
       "    <tr>\n",
       "      <th>3</th>\n",
       "      <td>Shostakovich</td>\n",
       "      <td>1906</td>\n",
       "      <td>1975</td>\n",
       "      <td>Saint-Petersburg</td>\n",
       "      <td>69</td>\n",
       "      <td>old</td>\n",
       "    </tr>\n",
       "  </tbody>\n",
       "</table>\n",
       "</div>"
      ],
      "text/plain": [
       "       composer  birth  death              city  age age_def\n",
       "0        Mahler   1860   1911           Kaliste   51   young\n",
       "3  Shostakovich   1906   1975  Saint-Petersburg   69     old"
      ]
     },
     "execution_count": 115,
     "metadata": {},
     "output_type": "execute_result"
    }
   ],
   "source": [
    "# Then we use in direclty in our data frame\n",
    "compo_pd[log_indexer]"
   ]
  },
  {
   "cell_type": "code",
   "execution_count": null,
   "id": "70721422",
   "metadata": {},
   "outputs": [],
   "source": [
    "# And we can also create more complex logical indices"
   ]
  },
  {
   "cell_type": "code",
   "execution_count": 116,
   "id": "142af5bf",
   "metadata": {},
   "outputs": [
    {
     "data": {
      "text/plain": [
       "0    False\n",
       "1    False\n",
       "2    False\n",
       "3     True\n",
       "dtype: bool"
      ]
     },
     "execution_count": 116,
     "metadata": {},
     "output_type": "execute_result"
    }
   ],
   "source": [
    "# First we test\n",
    "(compo_pd['birth'] > 1859)&(compo_pd['age']>60)"
   ]
  },
  {
   "cell_type": "code",
   "execution_count": null,
   "id": "10085e66",
   "metadata": {},
   "outputs": [],
   "source": [
    "# Note the parentheses..."
   ]
  },
  {
   "cell_type": "code",
   "execution_count": 117,
   "id": "06128450",
   "metadata": {},
   "outputs": [
    {
     "data": {
      "text/html": [
       "<div>\n",
       "<style scoped>\n",
       "    .dataframe tbody tr th:only-of-type {\n",
       "        vertical-align: middle;\n",
       "    }\n",
       "\n",
       "    .dataframe tbody tr th {\n",
       "        vertical-align: top;\n",
       "    }\n",
       "\n",
       "    .dataframe thead th {\n",
       "        text-align: right;\n",
       "    }\n",
       "</style>\n",
       "<table border=\"1\" class=\"dataframe\">\n",
       "  <thead>\n",
       "    <tr style=\"text-align: right;\">\n",
       "      <th></th>\n",
       "      <th>composer</th>\n",
       "      <th>birth</th>\n",
       "      <th>death</th>\n",
       "      <th>city</th>\n",
       "      <th>age</th>\n",
       "      <th>age_def</th>\n",
       "    </tr>\n",
       "  </thead>\n",
       "  <tbody>\n",
       "    <tr>\n",
       "      <th>3</th>\n",
       "      <td>Shostakovich</td>\n",
       "      <td>1906</td>\n",
       "      <td>1975</td>\n",
       "      <td>Saint-Petersburg</td>\n",
       "      <td>69</td>\n",
       "      <td>old</td>\n",
       "    </tr>\n",
       "  </tbody>\n",
       "</table>\n",
       "</div>"
      ],
      "text/plain": [
       "       composer  birth  death              city  age age_def\n",
       "3  Shostakovich   1906   1975  Saint-Petersburg   69     old"
      ]
     },
     "execution_count": 117,
     "metadata": {},
     "output_type": "execute_result"
    }
   ],
   "source": [
    "# Now we use in our dataframe\n",
    "compo_pd[(compo_pd['birth'] > 1859)&(compo_pd['age']>60)]"
   ]
  },
  {
   "cell_type": "code",
   "execution_count": 118,
   "id": "de2d956d",
   "metadata": {},
   "outputs": [
    {
     "data": {
      "text/html": [
       "<div>\n",
       "<style scoped>\n",
       "    .dataframe tbody tr th:only-of-type {\n",
       "        vertical-align: middle;\n",
       "    }\n",
       "\n",
       "    .dataframe tbody tr th {\n",
       "        vertical-align: top;\n",
       "    }\n",
       "\n",
       "    .dataframe thead th {\n",
       "        text-align: right;\n",
       "    }\n",
       "</style>\n",
       "<table border=\"1\" class=\"dataframe\">\n",
       "  <thead>\n",
       "    <tr style=\"text-align: right;\">\n",
       "      <th></th>\n",
       "      <th>composer</th>\n",
       "      <th>birth</th>\n",
       "      <th>death</th>\n",
       "      <th>city</th>\n",
       "      <th>age</th>\n",
       "      <th>age_def</th>\n",
       "    </tr>\n",
       "  </thead>\n",
       "  <tbody>\n",
       "    <tr>\n",
       "      <th>0</th>\n",
       "      <td>Mahler</td>\n",
       "      <td>1860</td>\n",
       "      <td>1911</td>\n",
       "      <td>Kaliste</td>\n",
       "      <td>51</td>\n",
       "      <td>young</td>\n",
       "    </tr>\n",
       "    <tr>\n",
       "      <th>3</th>\n",
       "      <td>Shostakovich</td>\n",
       "      <td>1906</td>\n",
       "      <td>1975</td>\n",
       "      <td>Saint-Petersburg</td>\n",
       "      <td>69</td>\n",
       "      <td>old</td>\n",
       "    </tr>\n",
       "  </tbody>\n",
       "</table>\n",
       "</div>"
      ],
      "text/plain": [
       "       composer  birth  death              city  age age_def\n",
       "0        Mahler   1860   1911           Kaliste   51   young\n",
       "3  Shostakovich   1906   1975  Saint-Petersburg   69     old"
      ]
     },
     "execution_count": 118,
     "metadata": {},
     "output_type": "execute_result"
    }
   ],
   "source": [
    "# And we can create new arrays containing these subselections\n",
    "compos_sub = compo_pd[compo_pd['birth'] > 1859]\n",
    "compos_sub"
   ]
  },
  {
   "cell_type": "code",
   "execution_count": 119,
   "id": "8b32daa9",
   "metadata": {},
   "outputs": [
    {
     "name": "stderr",
     "output_type": "stream",
     "text": [
      "/usr/local/anaconda3/lib/python3.9/site-packages/pandas/core/indexing.py:1817: SettingWithCopyWarning: \n",
      "A value is trying to be set on a copy of a slice from a DataFrame.\n",
      "Try using .loc[row_indexer,col_indexer] = value instead\n",
      "\n",
      "See the caveats in the documentation: https://pandas.pydata.org/pandas-docs/stable/user_guide/indexing.html#returning-a-view-versus-a-copy\n",
      "  self._setitem_single_column(loc, value, pi)\n"
     ]
    }
   ],
   "source": [
    "# We can then directly modify the new array\n",
    "compos_sub.loc[0,'birth'] = 3000"
   ]
  },
  {
   "cell_type": "code",
   "execution_count": null,
   "id": "4b46bb80",
   "metadata": {},
   "outputs": [],
   "source": [
    "# Note Pandas provides a warning referring to the set via copy issue"
   ]
  },
  {
   "cell_type": "code",
   "execution_count": 121,
   "id": "683de2ec",
   "metadata": {},
   "outputs": [
    {
     "data": {
      "text/html": [
       "<div>\n",
       "<style scoped>\n",
       "    .dataframe tbody tr th:only-of-type {\n",
       "        vertical-align: middle;\n",
       "    }\n",
       "\n",
       "    .dataframe tbody tr th {\n",
       "        vertical-align: top;\n",
       "    }\n",
       "\n",
       "    .dataframe thead th {\n",
       "        text-align: right;\n",
       "    }\n",
       "</style>\n",
       "<table border=\"1\" class=\"dataframe\">\n",
       "  <thead>\n",
       "    <tr style=\"text-align: right;\">\n",
       "      <th></th>\n",
       "      <th>composer</th>\n",
       "      <th>birth</th>\n",
       "      <th>death</th>\n",
       "      <th>city</th>\n",
       "      <th>age</th>\n",
       "      <th>age_def</th>\n",
       "    </tr>\n",
       "  </thead>\n",
       "  <tbody>\n",
       "    <tr>\n",
       "      <th>0</th>\n",
       "      <td>Mahler</td>\n",
       "      <td>3000</td>\n",
       "      <td>1911</td>\n",
       "      <td>Kaliste</td>\n",
       "      <td>51</td>\n",
       "      <td>young</td>\n",
       "    </tr>\n",
       "    <tr>\n",
       "      <th>3</th>\n",
       "      <td>Shostakovich</td>\n",
       "      <td>1906</td>\n",
       "      <td>1975</td>\n",
       "      <td>Saint-Petersburg</td>\n",
       "      <td>69</td>\n",
       "      <td>old</td>\n",
       "    </tr>\n",
       "  </tbody>\n",
       "</table>\n",
       "</div>"
      ],
      "text/plain": [
       "       composer  birth  death              city  age age_def\n",
       "0        Mahler   3000   1911           Kaliste   51   young\n",
       "3  Shostakovich   1906   1975  Saint-Petersburg   69     old"
      ]
     },
     "execution_count": 121,
     "metadata": {},
     "output_type": "execute_result"
    }
   ],
   "source": [
    "# We avoid this by using the copy() method, as with Numpys\n",
    "compos_sub2 = compo_pd[compo_pd['birth'] > 1859].copy()\n",
    "compos_sub2.loc[0,'birth'] = 3000\n",
    "compos_sub2"
   ]
  },
  {
   "cell_type": "markdown",
   "id": "ad40a772",
   "metadata": {},
   "source": [
    "## Combining information in Pandas"
   ]
  },
  {
   "cell_type": "markdown",
   "id": "57936295",
   "metadata": {},
   "source": [
    "### Concatenation"
   ]
  },
  {
   "cell_type": "code",
   "execution_count": 123,
   "id": "351e9e85",
   "metadata": {},
   "outputs": [],
   "source": [
    "# We can paste dataframes together via concatenation"
   ]
  },
  {
   "cell_type": "code",
   "execution_count": 124,
   "id": "0581d77b",
   "metadata": {},
   "outputs": [
    {
     "data": {
      "text/html": [
       "<div>\n",
       "<style scoped>\n",
       "    .dataframe tbody tr th:only-of-type {\n",
       "        vertical-align: middle;\n",
       "    }\n",
       "\n",
       "    .dataframe tbody tr th {\n",
       "        vertical-align: top;\n",
       "    }\n",
       "\n",
       "    .dataframe thead th {\n",
       "        text-align: right;\n",
       "    }\n",
       "</style>\n",
       "<table border=\"1\" class=\"dataframe\">\n",
       "  <thead>\n",
       "    <tr style=\"text-align: right;\">\n",
       "      <th></th>\n",
       "      <th>birth</th>\n",
       "      <th>death</th>\n",
       "      <th>city</th>\n",
       "    </tr>\n",
       "    <tr>\n",
       "      <th>composer</th>\n",
       "      <th></th>\n",
       "      <th></th>\n",
       "      <th></th>\n",
       "    </tr>\n",
       "  </thead>\n",
       "  <tbody>\n",
       "    <tr>\n",
       "      <th>Mahler</th>\n",
       "      <td>1860</td>\n",
       "      <td>1911</td>\n",
       "      <td>Kaliste</td>\n",
       "    </tr>\n",
       "    <tr>\n",
       "      <th>Beethoven</th>\n",
       "      <td>1770</td>\n",
       "      <td>1827</td>\n",
       "      <td>Bonn</td>\n",
       "    </tr>\n",
       "    <tr>\n",
       "      <th>Puccini</th>\n",
       "      <td>1858</td>\n",
       "      <td>1924</td>\n",
       "      <td>Lucques</td>\n",
       "    </tr>\n",
       "    <tr>\n",
       "      <th>Shostakovich</th>\n",
       "      <td>1906</td>\n",
       "      <td>1975</td>\n",
       "      <td>Saint-Petersburg</td>\n",
       "    </tr>\n",
       "  </tbody>\n",
       "</table>\n",
       "</div>"
      ],
      "text/plain": [
       "              birth  death              city\n",
       "composer                                    \n",
       "Mahler         1860   1911           Kaliste\n",
       "Beethoven      1770   1827              Bonn\n",
       "Puccini        1858   1924           Lucques\n",
       "Shostakovich   1906   1975  Saint-Petersburg"
      ]
     },
     "execution_count": 124,
     "metadata": {},
     "output_type": "execute_result"
    }
   ],
   "source": [
    "# Let's create our first dataframe\n",
    "composers1 = pd.read_excel('Data/composers.xlsx', index_col='composer',sheet_name='Sheet1')\n",
    "composers1"
   ]
  },
  {
   "cell_type": "code",
   "execution_count": 125,
   "id": "d698686c",
   "metadata": {},
   "outputs": [
    {
     "data": {
      "text/html": [
       "<div>\n",
       "<style scoped>\n",
       "    .dataframe tbody tr th:only-of-type {\n",
       "        vertical-align: middle;\n",
       "    }\n",
       "\n",
       "    .dataframe tbody tr th {\n",
       "        vertical-align: top;\n",
       "    }\n",
       "\n",
       "    .dataframe thead th {\n",
       "        text-align: right;\n",
       "    }\n",
       "</style>\n",
       "<table border=\"1\" class=\"dataframe\">\n",
       "  <thead>\n",
       "    <tr style=\"text-align: right;\">\n",
       "      <th></th>\n",
       "      <th>birth</th>\n",
       "      <th>death</th>\n",
       "      <th>city</th>\n",
       "    </tr>\n",
       "    <tr>\n",
       "      <th>composer</th>\n",
       "      <th></th>\n",
       "      <th></th>\n",
       "      <th></th>\n",
       "    </tr>\n",
       "  </thead>\n",
       "  <tbody>\n",
       "    <tr>\n",
       "      <th>Verdi</th>\n",
       "      <td>1813</td>\n",
       "      <td>1901</td>\n",
       "      <td>Roncole</td>\n",
       "    </tr>\n",
       "    <tr>\n",
       "      <th>Dvorak</th>\n",
       "      <td>1841</td>\n",
       "      <td>1904</td>\n",
       "      <td>Nelahozeves</td>\n",
       "    </tr>\n",
       "    <tr>\n",
       "      <th>Schumann</th>\n",
       "      <td>1810</td>\n",
       "      <td>1856</td>\n",
       "      <td>Zwickau</td>\n",
       "    </tr>\n",
       "    <tr>\n",
       "      <th>Stravinsky</th>\n",
       "      <td>1882</td>\n",
       "      <td>1971</td>\n",
       "      <td>Oranienbaum</td>\n",
       "    </tr>\n",
       "    <tr>\n",
       "      <th>Mahler</th>\n",
       "      <td>1860</td>\n",
       "      <td>1911</td>\n",
       "      <td>Kaliste</td>\n",
       "    </tr>\n",
       "  </tbody>\n",
       "</table>\n",
       "</div>"
      ],
      "text/plain": [
       "            birth  death         city\n",
       "composer                             \n",
       "Verdi        1813   1901      Roncole\n",
       "Dvorak       1841   1904  Nelahozeves\n",
       "Schumann     1810   1856      Zwickau\n",
       "Stravinsky   1882   1971  Oranienbaum\n",
       "Mahler       1860   1911      Kaliste"
      ]
     },
     "execution_count": 125,
     "metadata": {},
     "output_type": "execute_result"
    }
   ],
   "source": [
    "# And then now our second\n",
    "composers2 = pd.read_excel('Data/composers.xlsx', index_col='composer',sheet_name='Sheet3')\n",
    "composers2"
   ]
  },
  {
   "cell_type": "code",
   "execution_count": 127,
   "id": "40d46d95",
   "metadata": {},
   "outputs": [
    {
     "data": {
      "text/html": [
       "<div>\n",
       "<style scoped>\n",
       "    .dataframe tbody tr th:only-of-type {\n",
       "        vertical-align: middle;\n",
       "    }\n",
       "\n",
       "    .dataframe tbody tr th {\n",
       "        vertical-align: top;\n",
       "    }\n",
       "\n",
       "    .dataframe thead th {\n",
       "        text-align: right;\n",
       "    }\n",
       "</style>\n",
       "<table border=\"1\" class=\"dataframe\">\n",
       "  <thead>\n",
       "    <tr style=\"text-align: right;\">\n",
       "      <th></th>\n",
       "      <th>birth</th>\n",
       "      <th>death</th>\n",
       "      <th>city</th>\n",
       "    </tr>\n",
       "    <tr>\n",
       "      <th>composer</th>\n",
       "      <th></th>\n",
       "      <th></th>\n",
       "      <th></th>\n",
       "    </tr>\n",
       "  </thead>\n",
       "  <tbody>\n",
       "    <tr>\n",
       "      <th>Mahler</th>\n",
       "      <td>1860</td>\n",
       "      <td>1911</td>\n",
       "      <td>Kaliste</td>\n",
       "    </tr>\n",
       "    <tr>\n",
       "      <th>Beethoven</th>\n",
       "      <td>1770</td>\n",
       "      <td>1827</td>\n",
       "      <td>Bonn</td>\n",
       "    </tr>\n",
       "    <tr>\n",
       "      <th>Puccini</th>\n",
       "      <td>1858</td>\n",
       "      <td>1924</td>\n",
       "      <td>Lucques</td>\n",
       "    </tr>\n",
       "    <tr>\n",
       "      <th>Shostakovich</th>\n",
       "      <td>1906</td>\n",
       "      <td>1975</td>\n",
       "      <td>Saint-Petersburg</td>\n",
       "    </tr>\n",
       "    <tr>\n",
       "      <th>Verdi</th>\n",
       "      <td>1813</td>\n",
       "      <td>1901</td>\n",
       "      <td>Roncole</td>\n",
       "    </tr>\n",
       "    <tr>\n",
       "      <th>Dvorak</th>\n",
       "      <td>1841</td>\n",
       "      <td>1904</td>\n",
       "      <td>Nelahozeves</td>\n",
       "    </tr>\n",
       "    <tr>\n",
       "      <th>Schumann</th>\n",
       "      <td>1810</td>\n",
       "      <td>1856</td>\n",
       "      <td>Zwickau</td>\n",
       "    </tr>\n",
       "    <tr>\n",
       "      <th>Stravinsky</th>\n",
       "      <td>1882</td>\n",
       "      <td>1971</td>\n",
       "      <td>Oranienbaum</td>\n",
       "    </tr>\n",
       "    <tr>\n",
       "      <th>Mahler</th>\n",
       "      <td>1860</td>\n",
       "      <td>1911</td>\n",
       "      <td>Kaliste</td>\n",
       "    </tr>\n",
       "  </tbody>\n",
       "</table>\n",
       "</div>"
      ],
      "text/plain": [
       "              birth  death              city\n",
       "composer                                    \n",
       "Mahler         1860   1911           Kaliste\n",
       "Beethoven      1770   1827              Bonn\n",
       "Puccini        1858   1924           Lucques\n",
       "Shostakovich   1906   1975  Saint-Petersburg\n",
       "Verdi          1813   1901           Roncole\n",
       "Dvorak         1841   1904       Nelahozeves\n",
       "Schumann       1810   1856           Zwickau\n",
       "Stravinsky     1882   1971       Oranienbaum\n",
       "Mahler         1860   1911           Kaliste"
      ]
     },
     "execution_count": 127,
     "metadata": {},
     "output_type": "execute_result"
    }
   ],
   "source": [
    "# We concatenate by providing the dataframes as a list to pd.concat\n",
    "all_composers = pd.concat([composers1,composers2])\n",
    "all_composers"
   ]
  },
  {
   "cell_type": "code",
   "execution_count": null,
   "id": "23a12928",
   "metadata": {},
   "outputs": [],
   "source": [
    "# If tables have overlapping info, we can use duplicated()"
   ]
  },
  {
   "cell_type": "code",
   "execution_count": 128,
   "id": "81241ce5",
   "metadata": {},
   "outputs": [
    {
     "data": {
      "text/plain": [
       "composer\n",
       "Mahler          False\n",
       "Beethoven       False\n",
       "Puccini         False\n",
       "Shostakovich    False\n",
       "Verdi           False\n",
       "Dvorak          False\n",
       "Schumann        False\n",
       "Stravinsky      False\n",
       "Mahler           True\n",
       "dtype: bool"
      ]
     },
     "execution_count": 128,
     "metadata": {},
     "output_type": "execute_result"
    }
   ],
   "source": [
    "# First, we get indices for duplicates\n",
    "all_composers.duplicated()"
   ]
  },
  {
   "cell_type": "code",
   "execution_count": 129,
   "id": "aabd7320",
   "metadata": {},
   "outputs": [
    {
     "data": {
      "text/html": [
       "<div>\n",
       "<style scoped>\n",
       "    .dataframe tbody tr th:only-of-type {\n",
       "        vertical-align: middle;\n",
       "    }\n",
       "\n",
       "    .dataframe tbody tr th {\n",
       "        vertical-align: top;\n",
       "    }\n",
       "\n",
       "    .dataframe thead th {\n",
       "        text-align: right;\n",
       "    }\n",
       "</style>\n",
       "<table border=\"1\" class=\"dataframe\">\n",
       "  <thead>\n",
       "    <tr style=\"text-align: right;\">\n",
       "      <th></th>\n",
       "      <th>birth</th>\n",
       "      <th>death</th>\n",
       "      <th>city</th>\n",
       "    </tr>\n",
       "    <tr>\n",
       "      <th>composer</th>\n",
       "      <th></th>\n",
       "      <th></th>\n",
       "      <th></th>\n",
       "    </tr>\n",
       "  </thead>\n",
       "  <tbody>\n",
       "    <tr>\n",
       "      <th>Mahler</th>\n",
       "      <td>1860</td>\n",
       "      <td>1911</td>\n",
       "      <td>Kaliste</td>\n",
       "    </tr>\n",
       "    <tr>\n",
       "      <th>Beethoven</th>\n",
       "      <td>1770</td>\n",
       "      <td>1827</td>\n",
       "      <td>Bonn</td>\n",
       "    </tr>\n",
       "    <tr>\n",
       "      <th>Puccini</th>\n",
       "      <td>1858</td>\n",
       "      <td>1924</td>\n",
       "      <td>Lucques</td>\n",
       "    </tr>\n",
       "    <tr>\n",
       "      <th>Shostakovich</th>\n",
       "      <td>1906</td>\n",
       "      <td>1975</td>\n",
       "      <td>Saint-Petersburg</td>\n",
       "    </tr>\n",
       "    <tr>\n",
       "      <th>Verdi</th>\n",
       "      <td>1813</td>\n",
       "      <td>1901</td>\n",
       "      <td>Roncole</td>\n",
       "    </tr>\n",
       "    <tr>\n",
       "      <th>Dvorak</th>\n",
       "      <td>1841</td>\n",
       "      <td>1904</td>\n",
       "      <td>Nelahozeves</td>\n",
       "    </tr>\n",
       "    <tr>\n",
       "      <th>Schumann</th>\n",
       "      <td>1810</td>\n",
       "      <td>1856</td>\n",
       "      <td>Zwickau</td>\n",
       "    </tr>\n",
       "    <tr>\n",
       "      <th>Stravinsky</th>\n",
       "      <td>1882</td>\n",
       "      <td>1971</td>\n",
       "      <td>Oranienbaum</td>\n",
       "    </tr>\n",
       "  </tbody>\n",
       "</table>\n",
       "</div>"
      ],
      "text/plain": [
       "              birth  death              city\n",
       "composer                                    \n",
       "Mahler         1860   1911           Kaliste\n",
       "Beethoven      1770   1827              Bonn\n",
       "Puccini        1858   1924           Lucques\n",
       "Shostakovich   1906   1975  Saint-Petersburg\n",
       "Verdi          1813   1901           Roncole\n",
       "Dvorak         1841   1904       Nelahozeves\n",
       "Schumann       1810   1856           Zwickau\n",
       "Stravinsky     1882   1971       Oranienbaum"
      ]
     },
     "execution_count": 129,
     "metadata": {},
     "output_type": "execute_result"
    }
   ],
   "source": [
    "# Then we apply directly to the data.frame -- inverted by ~\n",
    "all_composers[~all_composers.duplicated()]"
   ]
  },
  {
   "cell_type": "markdown",
   "id": "edfd6a6b",
   "metadata": {},
   "source": [
    "### Joining two tables\n",
    "Other classical case is joining two dataframes via a common index"
   ]
  },
  {
   "cell_type": "code",
   "execution_count": 131,
   "id": "66d50432",
   "metadata": {},
   "outputs": [
    {
     "data": {
      "text/html": [
       "<div>\n",
       "<style scoped>\n",
       "    .dataframe tbody tr th:only-of-type {\n",
       "        vertical-align: middle;\n",
       "    }\n",
       "\n",
       "    .dataframe tbody tr th {\n",
       "        vertical-align: top;\n",
       "    }\n",
       "\n",
       "    .dataframe thead th {\n",
       "        text-align: right;\n",
       "    }\n",
       "</style>\n",
       "<table border=\"1\" class=\"dataframe\">\n",
       "  <thead>\n",
       "    <tr style=\"text-align: right;\">\n",
       "      <th></th>\n",
       "      <th>birth</th>\n",
       "      <th>death</th>\n",
       "      <th>city</th>\n",
       "    </tr>\n",
       "    <tr>\n",
       "      <th>composer</th>\n",
       "      <th></th>\n",
       "      <th></th>\n",
       "      <th></th>\n",
       "    </tr>\n",
       "  </thead>\n",
       "  <tbody>\n",
       "    <tr>\n",
       "      <th>Mahler</th>\n",
       "      <td>1860</td>\n",
       "      <td>1911</td>\n",
       "      <td>Kaliste</td>\n",
       "    </tr>\n",
       "    <tr>\n",
       "      <th>Beethoven</th>\n",
       "      <td>1770</td>\n",
       "      <td>1827</td>\n",
       "      <td>Bonn</td>\n",
       "    </tr>\n",
       "    <tr>\n",
       "      <th>Puccini</th>\n",
       "      <td>1858</td>\n",
       "      <td>1924</td>\n",
       "      <td>Lucques</td>\n",
       "    </tr>\n",
       "    <tr>\n",
       "      <th>Shostakovich</th>\n",
       "      <td>1906</td>\n",
       "      <td>1975</td>\n",
       "      <td>Saint-Petersburg</td>\n",
       "    </tr>\n",
       "  </tbody>\n",
       "</table>\n",
       "</div>"
      ],
      "text/plain": [
       "              birth  death              city\n",
       "composer                                    \n",
       "Mahler         1860   1911           Kaliste\n",
       "Beethoven      1770   1827              Bonn\n",
       "Puccini        1858   1924           Lucques\n",
       "Shostakovich   1906   1975  Saint-Petersburg"
      ]
     },
     "execution_count": 131,
     "metadata": {},
     "output_type": "execute_result"
    }
   ],
   "source": [
    "# Let's create our first dataframes\n",
    "composers1 = pd.read_excel('Data/composers.xlsx', index_col='composer',sheet_name='Sheet1')\n",
    "composers1"
   ]
  },
  {
   "cell_type": "code",
   "execution_count": 132,
   "id": "ec8a0a09",
   "metadata": {},
   "outputs": [
    {
     "data": {
      "text/html": [
       "<div>\n",
       "<style scoped>\n",
       "    .dataframe tbody tr th:only-of-type {\n",
       "        vertical-align: middle;\n",
       "    }\n",
       "\n",
       "    .dataframe tbody tr th {\n",
       "        vertical-align: top;\n",
       "    }\n",
       "\n",
       "    .dataframe thead th {\n",
       "        text-align: right;\n",
       "    }\n",
       "</style>\n",
       "<table border=\"1\" class=\"dataframe\">\n",
       "  <thead>\n",
       "    <tr style=\"text-align: right;\">\n",
       "      <th></th>\n",
       "      <th>first name</th>\n",
       "    </tr>\n",
       "    <tr>\n",
       "      <th>composer</th>\n",
       "      <th></th>\n",
       "    </tr>\n",
       "  </thead>\n",
       "  <tbody>\n",
       "    <tr>\n",
       "      <th>Mahler</th>\n",
       "      <td>Gustav</td>\n",
       "    </tr>\n",
       "    <tr>\n",
       "      <th>Beethoven</th>\n",
       "      <td>Ludwig van</td>\n",
       "    </tr>\n",
       "    <tr>\n",
       "      <th>Puccini</th>\n",
       "      <td>Giacomo</td>\n",
       "    </tr>\n",
       "    <tr>\n",
       "      <th>Brahms</th>\n",
       "      <td>Johannes</td>\n",
       "    </tr>\n",
       "  </tbody>\n",
       "</table>\n",
       "</div>"
      ],
      "text/plain": [
       "           first name\n",
       "composer             \n",
       "Mahler         Gustav\n",
       "Beethoven  Ludwig van\n",
       "Puccini       Giacomo\n",
       "Brahms       Johannes"
      ]
     },
     "execution_count": 132,
     "metadata": {},
     "output_type": "execute_result"
    }
   ],
   "source": [
    "# And then our second dataframe\n",
    "composers2 = pd.read_excel('Data/composers.xlsx', index_col='composer',sheet_name='Sheet4')\n",
    "composers2"
   ]
  },
  {
   "cell_type": "code",
   "execution_count": 133,
   "id": "881cf7bf",
   "metadata": {},
   "outputs": [
    {
     "data": {
      "text/html": [
       "<div>\n",
       "<style scoped>\n",
       "    .dataframe tbody tr th:only-of-type {\n",
       "        vertical-align: middle;\n",
       "    }\n",
       "\n",
       "    .dataframe tbody tr th {\n",
       "        vertical-align: top;\n",
       "    }\n",
       "\n",
       "    .dataframe thead th {\n",
       "        text-align: right;\n",
       "    }\n",
       "</style>\n",
       "<table border=\"1\" class=\"dataframe\">\n",
       "  <thead>\n",
       "    <tr style=\"text-align: right;\">\n",
       "      <th></th>\n",
       "      <th>birth</th>\n",
       "      <th>death</th>\n",
       "      <th>city</th>\n",
       "      <th>first name</th>\n",
       "    </tr>\n",
       "    <tr>\n",
       "      <th>composer</th>\n",
       "      <th></th>\n",
       "      <th></th>\n",
       "      <th></th>\n",
       "      <th></th>\n",
       "    </tr>\n",
       "  </thead>\n",
       "  <tbody>\n",
       "    <tr>\n",
       "      <th>Mahler</th>\n",
       "      <td>1860.0</td>\n",
       "      <td>1911.0</td>\n",
       "      <td>Kaliste</td>\n",
       "      <td>NaN</td>\n",
       "    </tr>\n",
       "    <tr>\n",
       "      <th>Beethoven</th>\n",
       "      <td>1770.0</td>\n",
       "      <td>1827.0</td>\n",
       "      <td>Bonn</td>\n",
       "      <td>NaN</td>\n",
       "    </tr>\n",
       "    <tr>\n",
       "      <th>Puccini</th>\n",
       "      <td>1858.0</td>\n",
       "      <td>1924.0</td>\n",
       "      <td>Lucques</td>\n",
       "      <td>NaN</td>\n",
       "    </tr>\n",
       "    <tr>\n",
       "      <th>Shostakovich</th>\n",
       "      <td>1906.0</td>\n",
       "      <td>1975.0</td>\n",
       "      <td>Saint-Petersburg</td>\n",
       "      <td>NaN</td>\n",
       "    </tr>\n",
       "    <tr>\n",
       "      <th>Mahler</th>\n",
       "      <td>NaN</td>\n",
       "      <td>NaN</td>\n",
       "      <td>NaN</td>\n",
       "      <td>Gustav</td>\n",
       "    </tr>\n",
       "    <tr>\n",
       "      <th>Beethoven</th>\n",
       "      <td>NaN</td>\n",
       "      <td>NaN</td>\n",
       "      <td>NaN</td>\n",
       "      <td>Ludwig van</td>\n",
       "    </tr>\n",
       "    <tr>\n",
       "      <th>Puccini</th>\n",
       "      <td>NaN</td>\n",
       "      <td>NaN</td>\n",
       "      <td>NaN</td>\n",
       "      <td>Giacomo</td>\n",
       "    </tr>\n",
       "    <tr>\n",
       "      <th>Brahms</th>\n",
       "      <td>NaN</td>\n",
       "      <td>NaN</td>\n",
       "      <td>NaN</td>\n",
       "      <td>Johannes</td>\n",
       "    </tr>\n",
       "  </tbody>\n",
       "</table>\n",
       "</div>"
      ],
      "text/plain": [
       "               birth   death              city  first name\n",
       "composer                                                  \n",
       "Mahler        1860.0  1911.0           Kaliste         NaN\n",
       "Beethoven     1770.0  1827.0              Bonn         NaN\n",
       "Puccini       1858.0  1924.0           Lucques         NaN\n",
       "Shostakovich  1906.0  1975.0  Saint-Petersburg         NaN\n",
       "Mahler           NaN     NaN               NaN      Gustav\n",
       "Beethoven        NaN     NaN               NaN  Ludwig van\n",
       "Puccini          NaN     NaN               NaN     Giacomo\n",
       "Brahms           NaN     NaN               NaN    Johannes"
      ]
     },
     "execution_count": 133,
     "metadata": {},
     "output_type": "execute_result"
    }
   ],
   "source": [
    "# And now, what if we just use concatenation?\n",
    "pd.concat([composers1, composers2])"
   ]
  },
  {
   "cell_type": "code",
   "execution_count": null,
   "id": "1aee185b",
   "metadata": {},
   "outputs": [],
   "source": [
    "# Note we have many missing values in the areas of overlapping index"
   ]
  },
  {
   "cell_type": "code",
   "execution_count": 134,
   "id": "d6d17b01",
   "metadata": {},
   "outputs": [
    {
     "data": {
      "text/html": [
       "<div>\n",
       "<style scoped>\n",
       "    .dataframe tbody tr th:only-of-type {\n",
       "        vertical-align: middle;\n",
       "    }\n",
       "\n",
       "    .dataframe tbody tr th {\n",
       "        vertical-align: top;\n",
       "    }\n",
       "\n",
       "    .dataframe thead th {\n",
       "        text-align: right;\n",
       "    }\n",
       "</style>\n",
       "<table border=\"1\" class=\"dataframe\">\n",
       "  <thead>\n",
       "    <tr style=\"text-align: right;\">\n",
       "      <th></th>\n",
       "      <th>birth</th>\n",
       "      <th>death</th>\n",
       "      <th>city</th>\n",
       "      <th>first name</th>\n",
       "    </tr>\n",
       "    <tr>\n",
       "      <th>composer</th>\n",
       "      <th></th>\n",
       "      <th></th>\n",
       "      <th></th>\n",
       "      <th></th>\n",
       "    </tr>\n",
       "  </thead>\n",
       "  <tbody>\n",
       "    <tr>\n",
       "      <th>Mahler</th>\n",
       "      <td>1860</td>\n",
       "      <td>1911</td>\n",
       "      <td>Kaliste</td>\n",
       "      <td>Gustav</td>\n",
       "    </tr>\n",
       "    <tr>\n",
       "      <th>Beethoven</th>\n",
       "      <td>1770</td>\n",
       "      <td>1827</td>\n",
       "      <td>Bonn</td>\n",
       "      <td>Ludwig van</td>\n",
       "    </tr>\n",
       "    <tr>\n",
       "      <th>Puccini</th>\n",
       "      <td>1858</td>\n",
       "      <td>1924</td>\n",
       "      <td>Lucques</td>\n",
       "      <td>Giacomo</td>\n",
       "    </tr>\n",
       "    <tr>\n",
       "      <th>Shostakovich</th>\n",
       "      <td>1906</td>\n",
       "      <td>1975</td>\n",
       "      <td>Saint-Petersburg</td>\n",
       "      <td>NaN</td>\n",
       "    </tr>\n",
       "  </tbody>\n",
       "</table>\n",
       "</div>"
      ],
      "text/plain": [
       "              birth  death              city  first name\n",
       "composer                                                \n",
       "Mahler         1860   1911           Kaliste      Gustav\n",
       "Beethoven      1770   1827              Bonn  Ludwig van\n",
       "Puccini        1858   1924           Lucques     Giacomo\n",
       "Shostakovich   1906   1975  Saint-Petersburg         NaN"
      ]
     },
     "execution_count": 134,
     "metadata": {},
     "output_type": "execute_result"
    }
   ],
   "source": [
    "# This is resolved by using the join method; for example:\n",
    "composers1.join(composers2)"
   ]
  },
  {
   "cell_type": "code",
   "execution_count": 136,
   "id": "9236ab56",
   "metadata": {},
   "outputs": [],
   "source": [
    "# Note: Pandas automatically recognized and used the index column"
   ]
  },
  {
   "cell_type": "code",
   "execution_count": null,
   "id": "e08a0af4",
   "metadata": {},
   "outputs": [],
   "source": [
    "# However, also note that one of the columns (\"Brahms\") was dropped"
   ]
  },
  {
   "cell_type": "code",
   "execution_count": null,
   "id": "33848ad7",
   "metadata": {},
   "outputs": [],
   "source": [
    "# This is remedied by using either a left or right join"
   ]
  },
  {
   "cell_type": "markdown",
   "id": "d2893b1e",
   "metadata": {},
   "source": [
    "### Join left"
   ]
  },
  {
   "cell_type": "code",
   "execution_count": 137,
   "id": "0aaca142",
   "metadata": {},
   "outputs": [
    {
     "data": {
      "text/html": [
       "<div>\n",
       "<style scoped>\n",
       "    .dataframe tbody tr th:only-of-type {\n",
       "        vertical-align: middle;\n",
       "    }\n",
       "\n",
       "    .dataframe tbody tr th {\n",
       "        vertical-align: top;\n",
       "    }\n",
       "\n",
       "    .dataframe thead th {\n",
       "        text-align: right;\n",
       "    }\n",
       "</style>\n",
       "<table border=\"1\" class=\"dataframe\">\n",
       "  <thead>\n",
       "    <tr style=\"text-align: right;\">\n",
       "      <th></th>\n",
       "      <th>birth</th>\n",
       "      <th>death</th>\n",
       "      <th>city</th>\n",
       "      <th>first name</th>\n",
       "    </tr>\n",
       "    <tr>\n",
       "      <th>composer</th>\n",
       "      <th></th>\n",
       "      <th></th>\n",
       "      <th></th>\n",
       "      <th></th>\n",
       "    </tr>\n",
       "  </thead>\n",
       "  <tbody>\n",
       "    <tr>\n",
       "      <th>Mahler</th>\n",
       "      <td>1860</td>\n",
       "      <td>1911</td>\n",
       "      <td>Kaliste</td>\n",
       "      <td>Gustav</td>\n",
       "    </tr>\n",
       "    <tr>\n",
       "      <th>Beethoven</th>\n",
       "      <td>1770</td>\n",
       "      <td>1827</td>\n",
       "      <td>Bonn</td>\n",
       "      <td>Ludwig van</td>\n",
       "    </tr>\n",
       "    <tr>\n",
       "      <th>Puccini</th>\n",
       "      <td>1858</td>\n",
       "      <td>1924</td>\n",
       "      <td>Lucques</td>\n",
       "      <td>Giacomo</td>\n",
       "    </tr>\n",
       "    <tr>\n",
       "      <th>Shostakovich</th>\n",
       "      <td>1906</td>\n",
       "      <td>1975</td>\n",
       "      <td>Saint-Petersburg</td>\n",
       "      <td>NaN</td>\n",
       "    </tr>\n",
       "  </tbody>\n",
       "</table>\n",
       "</div>"
      ],
      "text/plain": [
       "              birth  death              city  first name\n",
       "composer                                                \n",
       "Mahler         1860   1911           Kaliste      Gustav\n",
       "Beethoven      1770   1827              Bonn  Ludwig van\n",
       "Puccini        1858   1924           Lucques     Giacomo\n",
       "Shostakovich   1906   1975  Saint-Petersburg         NaN"
      ]
     },
     "execution_count": 137,
     "metadata": {},
     "output_type": "execute_result"
    }
   ],
   "source": [
    "# Here, we specify left joing using the \"how\" option\n",
    "composers1.join(composers2, how = 'left')\n"
   ]
  },
  {
   "cell_type": "code",
   "execution_count": null,
   "id": "7c094212",
   "metadata": {},
   "outputs": [],
   "source": [
    "# But \"Brahms\" is omitted due to not being in the first/left table"
   ]
  },
  {
   "cell_type": "markdown",
   "id": "61601ec3",
   "metadata": {},
   "source": [
    "### Join right"
   ]
  },
  {
   "cell_type": "code",
   "execution_count": 138,
   "id": "5b79a71c",
   "metadata": {},
   "outputs": [
    {
     "data": {
      "text/html": [
       "<div>\n",
       "<style scoped>\n",
       "    .dataframe tbody tr th:only-of-type {\n",
       "        vertical-align: middle;\n",
       "    }\n",
       "\n",
       "    .dataframe tbody tr th {\n",
       "        vertical-align: top;\n",
       "    }\n",
       "\n",
       "    .dataframe thead th {\n",
       "        text-align: right;\n",
       "    }\n",
       "</style>\n",
       "<table border=\"1\" class=\"dataframe\">\n",
       "  <thead>\n",
       "    <tr style=\"text-align: right;\">\n",
       "      <th></th>\n",
       "      <th>birth</th>\n",
       "      <th>death</th>\n",
       "      <th>city</th>\n",
       "      <th>first name</th>\n",
       "    </tr>\n",
       "    <tr>\n",
       "      <th>composer</th>\n",
       "      <th></th>\n",
       "      <th></th>\n",
       "      <th></th>\n",
       "      <th></th>\n",
       "    </tr>\n",
       "  </thead>\n",
       "  <tbody>\n",
       "    <tr>\n",
       "      <th>Mahler</th>\n",
       "      <td>1860.0</td>\n",
       "      <td>1911.0</td>\n",
       "      <td>Kaliste</td>\n",
       "      <td>Gustav</td>\n",
       "    </tr>\n",
       "    <tr>\n",
       "      <th>Beethoven</th>\n",
       "      <td>1770.0</td>\n",
       "      <td>1827.0</td>\n",
       "      <td>Bonn</td>\n",
       "      <td>Ludwig van</td>\n",
       "    </tr>\n",
       "    <tr>\n",
       "      <th>Puccini</th>\n",
       "      <td>1858.0</td>\n",
       "      <td>1924.0</td>\n",
       "      <td>Lucques</td>\n",
       "      <td>Giacomo</td>\n",
       "    </tr>\n",
       "    <tr>\n",
       "      <th>Brahms</th>\n",
       "      <td>NaN</td>\n",
       "      <td>NaN</td>\n",
       "      <td>NaN</td>\n",
       "      <td>Johannes</td>\n",
       "    </tr>\n",
       "  </tbody>\n",
       "</table>\n",
       "</div>"
      ],
      "text/plain": [
       "            birth   death     city  first name\n",
       "composer                                      \n",
       "Mahler     1860.0  1911.0  Kaliste      Gustav\n",
       "Beethoven  1770.0  1827.0     Bonn  Ludwig van\n",
       "Puccini    1858.0  1924.0  Lucques     Giacomo\n",
       "Brahms        NaN     NaN      NaN    Johannes"
      ]
     },
     "execution_count": 138,
     "metadata": {},
     "output_type": "execute_result"
    }
   ],
   "source": [
    "# We can try the opposite, by using the right indices...\n",
    "composers1.join(composers2, how = 'right')"
   ]
  },
  {
   "cell_type": "code",
   "execution_count": null,
   "id": "4601d58a",
   "metadata": {},
   "outputs": [],
   "source": [
    "# But noww \"Shostakovich\" is dropped"
   ]
  },
  {
   "cell_type": "markdown",
   "id": "f4552ee3",
   "metadata": {},
   "source": [
    "### Inner, outer joins specify we want the intersection or union joins"
   ]
  },
  {
   "cell_type": "code",
   "execution_count": 139,
   "id": "4593bc01",
   "metadata": {},
   "outputs": [
    {
     "data": {
      "text/html": [
       "<div>\n",
       "<style scoped>\n",
       "    .dataframe tbody tr th:only-of-type {\n",
       "        vertical-align: middle;\n",
       "    }\n",
       "\n",
       "    .dataframe tbody tr th {\n",
       "        vertical-align: top;\n",
       "    }\n",
       "\n",
       "    .dataframe thead th {\n",
       "        text-align: right;\n",
       "    }\n",
       "</style>\n",
       "<table border=\"1\" class=\"dataframe\">\n",
       "  <thead>\n",
       "    <tr style=\"text-align: right;\">\n",
       "      <th></th>\n",
       "      <th>birth</th>\n",
       "      <th>death</th>\n",
       "      <th>city</th>\n",
       "      <th>first name</th>\n",
       "    </tr>\n",
       "    <tr>\n",
       "      <th>composer</th>\n",
       "      <th></th>\n",
       "      <th></th>\n",
       "      <th></th>\n",
       "      <th></th>\n",
       "    </tr>\n",
       "  </thead>\n",
       "  <tbody>\n",
       "    <tr>\n",
       "      <th>Mahler</th>\n",
       "      <td>1860</td>\n",
       "      <td>1911</td>\n",
       "      <td>Kaliste</td>\n",
       "      <td>Gustav</td>\n",
       "    </tr>\n",
       "    <tr>\n",
       "      <th>Beethoven</th>\n",
       "      <td>1770</td>\n",
       "      <td>1827</td>\n",
       "      <td>Bonn</td>\n",
       "      <td>Ludwig van</td>\n",
       "    </tr>\n",
       "    <tr>\n",
       "      <th>Puccini</th>\n",
       "      <td>1858</td>\n",
       "      <td>1924</td>\n",
       "      <td>Lucques</td>\n",
       "      <td>Giacomo</td>\n",
       "    </tr>\n",
       "  </tbody>\n",
       "</table>\n",
       "</div>"
      ],
      "text/plain": [
       "           birth  death     city  first name\n",
       "composer                                    \n",
       "Mahler      1860   1911  Kaliste      Gustav\n",
       "Beethoven   1770   1827     Bonn  Ludwig van\n",
       "Puccini     1858   1924  Lucques     Giacomo"
      ]
     },
     "execution_count": 139,
     "metadata": {},
     "output_type": "execute_result"
    }
   ],
   "source": [
    "# Inner join specifies the intersection:\n",
    "composers1.join(composers2, how = 'inner')"
   ]
  },
  {
   "cell_type": "code",
   "execution_count": 140,
   "id": "a4de8d73",
   "metadata": {},
   "outputs": [
    {
     "data": {
      "text/html": [
       "<div>\n",
       "<style scoped>\n",
       "    .dataframe tbody tr th:only-of-type {\n",
       "        vertical-align: middle;\n",
       "    }\n",
       "\n",
       "    .dataframe tbody tr th {\n",
       "        vertical-align: top;\n",
       "    }\n",
       "\n",
       "    .dataframe thead th {\n",
       "        text-align: right;\n",
       "    }\n",
       "</style>\n",
       "<table border=\"1\" class=\"dataframe\">\n",
       "  <thead>\n",
       "    <tr style=\"text-align: right;\">\n",
       "      <th></th>\n",
       "      <th>birth</th>\n",
       "      <th>death</th>\n",
       "      <th>city</th>\n",
       "      <th>first name</th>\n",
       "    </tr>\n",
       "    <tr>\n",
       "      <th>composer</th>\n",
       "      <th></th>\n",
       "      <th></th>\n",
       "      <th></th>\n",
       "      <th></th>\n",
       "    </tr>\n",
       "  </thead>\n",
       "  <tbody>\n",
       "    <tr>\n",
       "      <th>Beethoven</th>\n",
       "      <td>1770.0</td>\n",
       "      <td>1827.0</td>\n",
       "      <td>Bonn</td>\n",
       "      <td>Ludwig van</td>\n",
       "    </tr>\n",
       "    <tr>\n",
       "      <th>Brahms</th>\n",
       "      <td>NaN</td>\n",
       "      <td>NaN</td>\n",
       "      <td>NaN</td>\n",
       "      <td>Johannes</td>\n",
       "    </tr>\n",
       "    <tr>\n",
       "      <th>Mahler</th>\n",
       "      <td>1860.0</td>\n",
       "      <td>1911.0</td>\n",
       "      <td>Kaliste</td>\n",
       "      <td>Gustav</td>\n",
       "    </tr>\n",
       "    <tr>\n",
       "      <th>Puccini</th>\n",
       "      <td>1858.0</td>\n",
       "      <td>1924.0</td>\n",
       "      <td>Lucques</td>\n",
       "      <td>Giacomo</td>\n",
       "    </tr>\n",
       "    <tr>\n",
       "      <th>Shostakovich</th>\n",
       "      <td>1906.0</td>\n",
       "      <td>1975.0</td>\n",
       "      <td>Saint-Petersburg</td>\n",
       "      <td>NaN</td>\n",
       "    </tr>\n",
       "  </tbody>\n",
       "</table>\n",
       "</div>"
      ],
      "text/plain": [
       "               birth   death              city  first name\n",
       "composer                                                  \n",
       "Beethoven     1770.0  1827.0              Bonn  Ludwig van\n",
       "Brahms           NaN     NaN               NaN    Johannes\n",
       "Mahler        1860.0  1911.0           Kaliste      Gustav\n",
       "Puccini       1858.0  1924.0           Lucques     Giacomo\n",
       "Shostakovich  1906.0  1975.0  Saint-Petersburg         NaN"
      ]
     },
     "execution_count": 140,
     "metadata": {},
     "output_type": "execute_result"
    }
   ],
   "source": [
    "# Outer join specifies the union:\n",
    "composers1.join(composers2, how = 'outer')"
   ]
  },
  {
   "cell_type": "markdown",
   "id": "c736b134",
   "metadata": {},
   "source": [
    "### Joining on specified columns : merge\n",
    "Sometimes tables do not have common indices. Merge is used for such."
   ]
  },
  {
   "cell_type": "code",
   "execution_count": 142,
   "id": "5ec182d4",
   "metadata": {},
   "outputs": [],
   "source": [
    "# First, lets get our data:\n",
    "composers1 = pd.read_excel('Data/composers.xlsx', sheet_name='Sheet1')\n",
    "composers2 = pd.read_excel('Data/composers.xlsx', sheet_name='Sheet6')"
   ]
  },
  {
   "cell_type": "code",
   "execution_count": 143,
   "id": "3c296830",
   "metadata": {},
   "outputs": [
    {
     "data": {
      "text/html": [
       "<div>\n",
       "<style scoped>\n",
       "    .dataframe tbody tr th:only-of-type {\n",
       "        vertical-align: middle;\n",
       "    }\n",
       "\n",
       "    .dataframe tbody tr th {\n",
       "        vertical-align: top;\n",
       "    }\n",
       "\n",
       "    .dataframe thead th {\n",
       "        text-align: right;\n",
       "    }\n",
       "</style>\n",
       "<table border=\"1\" class=\"dataframe\">\n",
       "  <thead>\n",
       "    <tr style=\"text-align: right;\">\n",
       "      <th></th>\n",
       "      <th>composer</th>\n",
       "      <th>birth</th>\n",
       "      <th>death</th>\n",
       "      <th>city</th>\n",
       "    </tr>\n",
       "  </thead>\n",
       "  <tbody>\n",
       "    <tr>\n",
       "      <th>0</th>\n",
       "      <td>Mahler</td>\n",
       "      <td>1860</td>\n",
       "      <td>1911</td>\n",
       "      <td>Kaliste</td>\n",
       "    </tr>\n",
       "    <tr>\n",
       "      <th>1</th>\n",
       "      <td>Beethoven</td>\n",
       "      <td>1770</td>\n",
       "      <td>1827</td>\n",
       "      <td>Bonn</td>\n",
       "    </tr>\n",
       "    <tr>\n",
       "      <th>2</th>\n",
       "      <td>Puccini</td>\n",
       "      <td>1858</td>\n",
       "      <td>1924</td>\n",
       "      <td>Lucques</td>\n",
       "    </tr>\n",
       "    <tr>\n",
       "      <th>3</th>\n",
       "      <td>Shostakovich</td>\n",
       "      <td>1906</td>\n",
       "      <td>1975</td>\n",
       "      <td>Saint-Petersburg</td>\n",
       "    </tr>\n",
       "  </tbody>\n",
       "</table>\n",
       "</div>"
      ],
      "text/plain": [
       "       composer  birth  death              city\n",
       "0        Mahler   1860   1911           Kaliste\n",
       "1     Beethoven   1770   1827              Bonn\n",
       "2       Puccini   1858   1924           Lucques\n",
       "3  Shostakovich   1906   1975  Saint-Petersburg"
      ]
     },
     "execution_count": 143,
     "metadata": {},
     "output_type": "execute_result"
    }
   ],
   "source": [
    "# We check the first\n",
    "composers1"
   ]
  },
  {
   "cell_type": "code",
   "execution_count": 144,
   "id": "0fc2c172",
   "metadata": {},
   "outputs": [
    {
     "data": {
      "text/html": [
       "<div>\n",
       "<style scoped>\n",
       "    .dataframe tbody tr th:only-of-type {\n",
       "        vertical-align: middle;\n",
       "    }\n",
       "\n",
       "    .dataframe tbody tr th {\n",
       "        vertical-align: top;\n",
       "    }\n",
       "\n",
       "    .dataframe thead th {\n",
       "        text-align: right;\n",
       "    }\n",
       "</style>\n",
       "<table border=\"1\" class=\"dataframe\">\n",
       "  <thead>\n",
       "    <tr style=\"text-align: right;\">\n",
       "      <th></th>\n",
       "      <th>last name</th>\n",
       "      <th>first name</th>\n",
       "    </tr>\n",
       "  </thead>\n",
       "  <tbody>\n",
       "    <tr>\n",
       "      <th>0</th>\n",
       "      <td>Puccini</td>\n",
       "      <td>Giacomo</td>\n",
       "    </tr>\n",
       "    <tr>\n",
       "      <th>1</th>\n",
       "      <td>Beethoven</td>\n",
       "      <td>Ludwig van</td>\n",
       "    </tr>\n",
       "    <tr>\n",
       "      <th>2</th>\n",
       "      <td>Brahms</td>\n",
       "      <td>Johannes</td>\n",
       "    </tr>\n",
       "    <tr>\n",
       "      <th>3</th>\n",
       "      <td>Mahler</td>\n",
       "      <td>Gustav</td>\n",
       "    </tr>\n",
       "  </tbody>\n",
       "</table>\n",
       "</div>"
      ],
      "text/plain": [
       "   last name  first name\n",
       "0    Puccini     Giacomo\n",
       "1  Beethoven  Ludwig van\n",
       "2     Brahms    Johannes\n",
       "3     Mahler      Gustav"
      ]
     },
     "execution_count": 144,
     "metadata": {},
     "output_type": "execute_result"
    }
   ],
   "source": [
    "# Then we check the second\n",
    "composers2"
   ]
  },
  {
   "cell_type": "code",
   "execution_count": null,
   "id": "5b5cf5c0",
   "metadata": {},
   "outputs": [],
   "source": [
    "# Note that indices do not match as neither do the column names 大変"
   ]
  },
  {
   "cell_type": "code",
   "execution_count": 145,
   "id": "58f1c041",
   "metadata": {},
   "outputs": [
    {
     "data": {
      "text/html": [
       "<div>\n",
       "<style scoped>\n",
       "    .dataframe tbody tr th:only-of-type {\n",
       "        vertical-align: middle;\n",
       "    }\n",
       "\n",
       "    .dataframe tbody tr th {\n",
       "        vertical-align: top;\n",
       "    }\n",
       "\n",
       "    .dataframe thead th {\n",
       "        text-align: right;\n",
       "    }\n",
       "</style>\n",
       "<table border=\"1\" class=\"dataframe\">\n",
       "  <thead>\n",
       "    <tr style=\"text-align: right;\">\n",
       "      <th></th>\n",
       "      <th>composer</th>\n",
       "      <th>birth</th>\n",
       "      <th>death</th>\n",
       "      <th>city</th>\n",
       "      <th>last name</th>\n",
       "      <th>first name</th>\n",
       "    </tr>\n",
       "  </thead>\n",
       "  <tbody>\n",
       "    <tr>\n",
       "      <th>0</th>\n",
       "      <td>Mahler</td>\n",
       "      <td>1860</td>\n",
       "      <td>1911</td>\n",
       "      <td>Kaliste</td>\n",
       "      <td>Mahler</td>\n",
       "      <td>Gustav</td>\n",
       "    </tr>\n",
       "    <tr>\n",
       "      <th>1</th>\n",
       "      <td>Beethoven</td>\n",
       "      <td>1770</td>\n",
       "      <td>1827</td>\n",
       "      <td>Bonn</td>\n",
       "      <td>Beethoven</td>\n",
       "      <td>Ludwig van</td>\n",
       "    </tr>\n",
       "    <tr>\n",
       "      <th>2</th>\n",
       "      <td>Puccini</td>\n",
       "      <td>1858</td>\n",
       "      <td>1924</td>\n",
       "      <td>Lucques</td>\n",
       "      <td>Puccini</td>\n",
       "      <td>Giacomo</td>\n",
       "    </tr>\n",
       "  </tbody>\n",
       "</table>\n",
       "</div>"
      ],
      "text/plain": [
       "    composer  birth  death     city  last name  first name\n",
       "0     Mahler   1860   1911  Kaliste     Mahler      Gustav\n",
       "1  Beethoven   1770   1827     Bonn  Beethoven  Ludwig van\n",
       "2    Puccini   1858   1924  Lucques    Puccini     Giacomo"
      ]
     },
     "execution_count": 145,
     "metadata": {},
     "output_type": "execute_result"
    }
   ],
   "source": [
    "# Here, we can use merge to match the columns and select join type per\n",
    "pd.merge(composers1, composers2, left_on='composer', right_on='last name')\n"
   ]
  },
  {
   "cell_type": "code",
   "execution_count": 146,
   "id": "a5626251",
   "metadata": {},
   "outputs": [
    {
     "data": {
      "text/html": [
       "<div>\n",
       "<style scoped>\n",
       "    .dataframe tbody tr th:only-of-type {\n",
       "        vertical-align: middle;\n",
       "    }\n",
       "\n",
       "    .dataframe tbody tr th {\n",
       "        vertical-align: top;\n",
       "    }\n",
       "\n",
       "    .dataframe thead th {\n",
       "        text-align: right;\n",
       "    }\n",
       "</style>\n",
       "<table border=\"1\" class=\"dataframe\">\n",
       "  <thead>\n",
       "    <tr style=\"text-align: right;\">\n",
       "      <th></th>\n",
       "      <th>composer</th>\n",
       "      <th>birth</th>\n",
       "      <th>death</th>\n",
       "      <th>city</th>\n",
       "      <th>last name</th>\n",
       "      <th>first name</th>\n",
       "    </tr>\n",
       "  </thead>\n",
       "  <tbody>\n",
       "    <tr>\n",
       "      <th>0</th>\n",
       "      <td>Mahler</td>\n",
       "      <td>1860.0</td>\n",
       "      <td>1911.0</td>\n",
       "      <td>Kaliste</td>\n",
       "      <td>Mahler</td>\n",
       "      <td>Gustav</td>\n",
       "    </tr>\n",
       "    <tr>\n",
       "      <th>1</th>\n",
       "      <td>Beethoven</td>\n",
       "      <td>1770.0</td>\n",
       "      <td>1827.0</td>\n",
       "      <td>Bonn</td>\n",
       "      <td>Beethoven</td>\n",
       "      <td>Ludwig van</td>\n",
       "    </tr>\n",
       "    <tr>\n",
       "      <th>2</th>\n",
       "      <td>Puccini</td>\n",
       "      <td>1858.0</td>\n",
       "      <td>1924.0</td>\n",
       "      <td>Lucques</td>\n",
       "      <td>Puccini</td>\n",
       "      <td>Giacomo</td>\n",
       "    </tr>\n",
       "    <tr>\n",
       "      <th>3</th>\n",
       "      <td>Shostakovich</td>\n",
       "      <td>1906.0</td>\n",
       "      <td>1975.0</td>\n",
       "      <td>Saint-Petersburg</td>\n",
       "      <td>NaN</td>\n",
       "      <td>NaN</td>\n",
       "    </tr>\n",
       "    <tr>\n",
       "      <th>4</th>\n",
       "      <td>NaN</td>\n",
       "      <td>NaN</td>\n",
       "      <td>NaN</td>\n",
       "      <td>NaN</td>\n",
       "      <td>Brahms</td>\n",
       "      <td>Johannes</td>\n",
       "    </tr>\n",
       "  </tbody>\n",
       "</table>\n",
       "</div>"
      ],
      "text/plain": [
       "       composer   birth   death              city  last name  first name\n",
       "0        Mahler  1860.0  1911.0           Kaliste     Mahler      Gustav\n",
       "1     Beethoven  1770.0  1827.0              Bonn  Beethoven  Ludwig van\n",
       "2       Puccini  1858.0  1924.0           Lucques    Puccini     Giacomo\n",
       "3  Shostakovich  1906.0  1975.0  Saint-Petersburg        NaN         NaN\n",
       "4           NaN     NaN     NaN               NaN     Brahms    Johannes"
      ]
     },
     "execution_count": 146,
     "metadata": {},
     "output_type": "execute_result"
    }
   ],
   "source": [
    "# Or we can use alternatives to the default inner join; here, outer\n",
    "pd.merge(composers1, composers2, left_on='composer', right_on='last name',how = 'outer')"
   ]
  },
  {
   "cell_type": "code",
   "execution_count": null,
   "id": "72712fe5",
   "metadata": {},
   "outputs": [],
   "source": [
    "# Note that outer join creates sparsity here; this is ok in some apps"
   ]
  },
  {
   "cell_type": "markdown",
   "id": "446a05fd",
   "metadata": {},
   "source": [
    "## Analyzing Pandas dataframes\n",
    "Split dataframes into groups (groupy) for category-based analysis "
   ]
  },
  {
   "cell_type": "markdown",
   "id": "55fb2aec",
   "metadata": {},
   "source": [
    "### splitting data by groups\n",
    "One often needs to split data according to some categorical value"
   ]
  },
  {
   "cell_type": "code",
   "execution_count": 149,
   "id": "f271c169",
   "metadata": {},
   "outputs": [
    {
     "data": {
      "text/html": [
       "<div>\n",
       "<style scoped>\n",
       "    .dataframe tbody tr th:only-of-type {\n",
       "        vertical-align: middle;\n",
       "    }\n",
       "\n",
       "    .dataframe tbody tr th {\n",
       "        vertical-align: top;\n",
       "    }\n",
       "\n",
       "    .dataframe thead th {\n",
       "        text-align: right;\n",
       "    }\n",
       "</style>\n",
       "<table border=\"1\" class=\"dataframe\">\n",
       "  <thead>\n",
       "    <tr style=\"text-align: right;\">\n",
       "      <th></th>\n",
       "      <th>composer</th>\n",
       "      <th>birth</th>\n",
       "      <th>death</th>\n",
       "      <th>period</th>\n",
       "      <th>country</th>\n",
       "    </tr>\n",
       "  </thead>\n",
       "  <tbody>\n",
       "    <tr>\n",
       "      <th>0</th>\n",
       "      <td>Mahler</td>\n",
       "      <td>1860</td>\n",
       "      <td>1911.0</td>\n",
       "      <td>post-romantic</td>\n",
       "      <td>Austria</td>\n",
       "    </tr>\n",
       "    <tr>\n",
       "      <th>1</th>\n",
       "      <td>Beethoven</td>\n",
       "      <td>1770</td>\n",
       "      <td>1827.0</td>\n",
       "      <td>romantic</td>\n",
       "      <td>Germany</td>\n",
       "    </tr>\n",
       "    <tr>\n",
       "      <th>2</th>\n",
       "      <td>Puccini</td>\n",
       "      <td>1858</td>\n",
       "      <td>1924.0</td>\n",
       "      <td>post-romantic</td>\n",
       "      <td>Italy</td>\n",
       "    </tr>\n",
       "    <tr>\n",
       "      <th>3</th>\n",
       "      <td>Shostakovich</td>\n",
       "      <td>1906</td>\n",
       "      <td>1975.0</td>\n",
       "      <td>modern</td>\n",
       "      <td>Russia</td>\n",
       "    </tr>\n",
       "    <tr>\n",
       "      <th>4</th>\n",
       "      <td>Verdi</td>\n",
       "      <td>1813</td>\n",
       "      <td>1901.0</td>\n",
       "      <td>romantic</td>\n",
       "      <td>Italy</td>\n",
       "    </tr>\n",
       "  </tbody>\n",
       "</table>\n",
       "</div>"
      ],
      "text/plain": [
       "       composer  birth   death         period  country\n",
       "0        Mahler   1860  1911.0  post-romantic  Austria\n",
       "1     Beethoven   1770  1827.0       romantic  Germany\n",
       "2       Puccini   1858  1924.0  post-romantic    Italy\n",
       "3  Shostakovich   1906  1975.0         modern   Russia\n",
       "4         Verdi   1813  1901.0       romantic    Italy"
      ]
     },
     "execution_count": 149,
     "metadata": {},
     "output_type": "execute_result"
    }
   ],
   "source": [
    "# First, we load our data\n",
    "composers = pd.read_excel('Data/composers.xlsx', sheet_name='Sheet5')\n",
    "composers.head()"
   ]
  },
  {
   "cell_type": "code",
   "execution_count": null,
   "id": "90cf1c62",
   "metadata": {},
   "outputs": [],
   "source": [
    "# We now also add a column here to calculate the composers' age:\n",
    "composers['age'] = composers.death - composers.birth"
   ]
  },
  {
   "cell_type": "code",
   "execution_count": null,
   "id": "1598e0e7",
   "metadata": {},
   "outputs": [],
   "source": [
    "# Pandas has a groupby function that groups by a certain criteria; eg:"
   ]
  },
  {
   "cell_type": "code",
   "execution_count": 150,
   "id": "fb8d6929",
   "metadata": {},
   "outputs": [
    {
     "data": {
      "text/plain": [
       "<pandas.core.groupby.generic.DataFrameGroupBy object at 0x7fc610e1cf40>"
      ]
     },
     "execution_count": 150,
     "metadata": {},
     "output_type": "execute_result"
    }
   ],
   "source": [
    "# We can group composers by period\n",
    "composer_grouped = composers.groupby('period')\n",
    "composer_grouped"
   ]
  },
  {
   "cell_type": "code",
   "execution_count": 151,
   "id": "dede2596",
   "metadata": {},
   "outputs": [
    {
     "data": {
      "text/plain": [
       "{'baroque': [14, 16, 17, 20, 21, 28, 29, 30, 31, 47], 'classic': [9, 10, 32, 40, 51], 'modern': [3, 7, 11, 12, 19, 25, 45, 46, 50, 53, 54, 55, 56], 'post-romantic': [0, 2, 8, 18, 49], 'renaissance': [13, 26, 27, 36, 37, 43, 44], 'romantic': [1, 4, 5, 6, 15, 22, 23, 24, 33, 34, 35, 38, 39, 41, 42, 48, 52]}"
      ]
     },
     "execution_count": 151,
     "metadata": {},
     "output_type": "execute_result"
    }
   ],
   "source": [
    "# What we have is a new group object added to the dataframe\n",
    "# Lets explore\n",
    "composer_grouped.groups"
   ]
  },
  {
   "cell_type": "code",
   "execution_count": null,
   "id": "af14cf12",
   "metadata": {},
   "outputs": [],
   "source": [
    "# What we find is list of indices and keys; doubt they'll be used ever"
   ]
  },
  {
   "cell_type": "code",
   "execution_count": 152,
   "id": "35eb30bd",
   "metadata": {},
   "outputs": [
    {
     "data": {
      "text/html": [
       "<div>\n",
       "<style scoped>\n",
       "    .dataframe tbody tr th:only-of-type {\n",
       "        vertical-align: middle;\n",
       "    }\n",
       "\n",
       "    .dataframe tbody tr th {\n",
       "        vertical-align: top;\n",
       "    }\n",
       "\n",
       "    .dataframe thead tr th {\n",
       "        text-align: left;\n",
       "    }\n",
       "\n",
       "    .dataframe thead tr:last-of-type th {\n",
       "        text-align: right;\n",
       "    }\n",
       "</style>\n",
       "<table border=\"1\" class=\"dataframe\">\n",
       "  <thead>\n",
       "    <tr>\n",
       "      <th></th>\n",
       "      <th colspan=\"8\" halign=\"left\">birth</th>\n",
       "      <th colspan=\"8\" halign=\"left\">death</th>\n",
       "    </tr>\n",
       "    <tr>\n",
       "      <th></th>\n",
       "      <th>count</th>\n",
       "      <th>mean</th>\n",
       "      <th>std</th>\n",
       "      <th>min</th>\n",
       "      <th>25%</th>\n",
       "      <th>50%</th>\n",
       "      <th>75%</th>\n",
       "      <th>max</th>\n",
       "      <th>count</th>\n",
       "      <th>mean</th>\n",
       "      <th>std</th>\n",
       "      <th>min</th>\n",
       "      <th>25%</th>\n",
       "      <th>50%</th>\n",
       "      <th>75%</th>\n",
       "      <th>max</th>\n",
       "    </tr>\n",
       "    <tr>\n",
       "      <th>period</th>\n",
       "      <th></th>\n",
       "      <th></th>\n",
       "      <th></th>\n",
       "      <th></th>\n",
       "      <th></th>\n",
       "      <th></th>\n",
       "      <th></th>\n",
       "      <th></th>\n",
       "      <th></th>\n",
       "      <th></th>\n",
       "      <th></th>\n",
       "      <th></th>\n",
       "      <th></th>\n",
       "      <th></th>\n",
       "      <th></th>\n",
       "      <th></th>\n",
       "    </tr>\n",
       "  </thead>\n",
       "  <tbody>\n",
       "    <tr>\n",
       "      <th>baroque</th>\n",
       "      <td>10.0</td>\n",
       "      <td>1663.300000</td>\n",
       "      <td>36.009412</td>\n",
       "      <td>1587.0</td>\n",
       "      <td>1647.0</td>\n",
       "      <td>1676.5</td>\n",
       "      <td>1685.0</td>\n",
       "      <td>1710.0</td>\n",
       "      <td>10.0</td>\n",
       "      <td>1720.200000</td>\n",
       "      <td>43.460838</td>\n",
       "      <td>1640.0</td>\n",
       "      <td>1697.25</td>\n",
       "      <td>1736.0</td>\n",
       "      <td>1755.25</td>\n",
       "      <td>1764.0</td>\n",
       "    </tr>\n",
       "    <tr>\n",
       "      <th>classic</th>\n",
       "      <td>5.0</td>\n",
       "      <td>1744.400000</td>\n",
       "      <td>12.054045</td>\n",
       "      <td>1731.0</td>\n",
       "      <td>1732.0</td>\n",
       "      <td>1749.0</td>\n",
       "      <td>1754.0</td>\n",
       "      <td>1756.0</td>\n",
       "      <td>5.0</td>\n",
       "      <td>1801.200000</td>\n",
       "      <td>6.942622</td>\n",
       "      <td>1791.0</td>\n",
       "      <td>1799.00</td>\n",
       "      <td>1801.0</td>\n",
       "      <td>1806.00</td>\n",
       "      <td>1809.0</td>\n",
       "    </tr>\n",
       "    <tr>\n",
       "      <th>modern</th>\n",
       "      <td>13.0</td>\n",
       "      <td>1905.692308</td>\n",
       "      <td>28.595992</td>\n",
       "      <td>1854.0</td>\n",
       "      <td>1891.0</td>\n",
       "      <td>1902.0</td>\n",
       "      <td>1918.0</td>\n",
       "      <td>1971.0</td>\n",
       "      <td>11.0</td>\n",
       "      <td>1974.090909</td>\n",
       "      <td>26.139834</td>\n",
       "      <td>1928.0</td>\n",
       "      <td>1962.00</td>\n",
       "      <td>1982.0</td>\n",
       "      <td>1990.00</td>\n",
       "      <td>2016.0</td>\n",
       "    </tr>\n",
       "    <tr>\n",
       "      <th>post-romantic</th>\n",
       "      <td>5.0</td>\n",
       "      <td>1854.200000</td>\n",
       "      <td>17.123084</td>\n",
       "      <td>1824.0</td>\n",
       "      <td>1858.0</td>\n",
       "      <td>1860.0</td>\n",
       "      <td>1864.0</td>\n",
       "      <td>1865.0</td>\n",
       "      <td>5.0</td>\n",
       "      <td>1927.400000</td>\n",
       "      <td>25.540164</td>\n",
       "      <td>1896.0</td>\n",
       "      <td>1911.00</td>\n",
       "      <td>1924.0</td>\n",
       "      <td>1949.00</td>\n",
       "      <td>1957.0</td>\n",
       "    </tr>\n",
       "    <tr>\n",
       "      <th>renaissance</th>\n",
       "      <td>7.0</td>\n",
       "      <td>1527.142857</td>\n",
       "      <td>59.881629</td>\n",
       "      <td>1397.0</td>\n",
       "      <td>1528.5</td>\n",
       "      <td>1540.0</td>\n",
       "      <td>1564.5</td>\n",
       "      <td>1567.0</td>\n",
       "      <td>7.0</td>\n",
       "      <td>1595.285714</td>\n",
       "      <td>56.295986</td>\n",
       "      <td>1474.0</td>\n",
       "      <td>1594.00</td>\n",
       "      <td>1613.0</td>\n",
       "      <td>1624.50</td>\n",
       "      <td>1643.0</td>\n",
       "    </tr>\n",
       "    <tr>\n",
       "      <th>romantic</th>\n",
       "      <td>17.0</td>\n",
       "      <td>1824.823529</td>\n",
       "      <td>25.468695</td>\n",
       "      <td>1770.0</td>\n",
       "      <td>1810.0</td>\n",
       "      <td>1824.0</td>\n",
       "      <td>1841.0</td>\n",
       "      <td>1867.0</td>\n",
       "      <td>17.0</td>\n",
       "      <td>1883.588235</td>\n",
       "      <td>28.026904</td>\n",
       "      <td>1827.0</td>\n",
       "      <td>1869.00</td>\n",
       "      <td>1887.0</td>\n",
       "      <td>1904.00</td>\n",
       "      <td>1919.0</td>\n",
       "    </tr>\n",
       "  </tbody>\n",
       "</table>\n",
       "</div>"
      ],
      "text/plain": [
       "              birth                                                          \\\n",
       "              count         mean        std     min     25%     50%     75%   \n",
       "period                                                                        \n",
       "baroque        10.0  1663.300000  36.009412  1587.0  1647.0  1676.5  1685.0   \n",
       "classic         5.0  1744.400000  12.054045  1731.0  1732.0  1749.0  1754.0   \n",
       "modern         13.0  1905.692308  28.595992  1854.0  1891.0  1902.0  1918.0   \n",
       "post-romantic   5.0  1854.200000  17.123084  1824.0  1858.0  1860.0  1864.0   \n",
       "renaissance     7.0  1527.142857  59.881629  1397.0  1528.5  1540.0  1564.5   \n",
       "romantic       17.0  1824.823529  25.468695  1770.0  1810.0  1824.0  1841.0   \n",
       "\n",
       "                      death                                                   \\\n",
       "                  max count         mean        std     min      25%     50%   \n",
       "period                                                                         \n",
       "baroque        1710.0  10.0  1720.200000  43.460838  1640.0  1697.25  1736.0   \n",
       "classic        1756.0   5.0  1801.200000   6.942622  1791.0  1799.00  1801.0   \n",
       "modern         1971.0  11.0  1974.090909  26.139834  1928.0  1962.00  1982.0   \n",
       "post-romantic  1865.0   5.0  1927.400000  25.540164  1896.0  1911.00  1924.0   \n",
       "renaissance    1567.0   7.0  1595.285714  56.295986  1474.0  1594.00  1613.0   \n",
       "romantic       1867.0  17.0  1883.588235  28.026904  1827.0  1869.00  1887.0   \n",
       "\n",
       "                                \n",
       "                   75%     max  \n",
       "period                          \n",
       "baroque        1755.25  1764.0  \n",
       "classic        1806.00  1809.0  \n",
       "modern         1990.00  2016.0  \n",
       "post-romantic  1949.00  1957.0  \n",
       "renaissance    1624.50  1643.0  \n",
       "romantic       1904.00  1919.0  "
      ]
     },
     "execution_count": 152,
     "metadata": {},
     "output_type": "execute_result"
    }
   ],
   "source": [
    "# More interesting is application of the describe method on the groups\n",
    "composer_grouped.describe()#.loc['Austria','birth']"
   ]
  },
  {
   "cell_type": "code",
   "execution_count": null,
   "id": "98926663",
   "metadata": {},
   "outputs": [],
   "source": [
    "# Here we now have group-wise statistics"
   ]
  },
  {
   "cell_type": "code",
   "execution_count": 153,
   "id": "c3d8be47",
   "metadata": {},
   "outputs": [
    {
     "data": {
      "text/html": [
       "<div>\n",
       "<style scoped>\n",
       "    .dataframe tbody tr th:only-of-type {\n",
       "        vertical-align: middle;\n",
       "    }\n",
       "\n",
       "    .dataframe tbody tr th {\n",
       "        vertical-align: top;\n",
       "    }\n",
       "\n",
       "    .dataframe thead th {\n",
       "        text-align: right;\n",
       "    }\n",
       "</style>\n",
       "<table border=\"1\" class=\"dataframe\">\n",
       "  <thead>\n",
       "    <tr style=\"text-align: right;\">\n",
       "      <th></th>\n",
       "      <th>composer</th>\n",
       "      <th>birth</th>\n",
       "      <th>death</th>\n",
       "      <th>period</th>\n",
       "      <th>country</th>\n",
       "    </tr>\n",
       "  </thead>\n",
       "  <tbody>\n",
       "    <tr>\n",
       "      <th>9</th>\n",
       "      <td>Haydn</td>\n",
       "      <td>1732</td>\n",
       "      <td>1809.0</td>\n",
       "      <td>classic</td>\n",
       "      <td>Austria</td>\n",
       "    </tr>\n",
       "    <tr>\n",
       "      <th>10</th>\n",
       "      <td>Mozart</td>\n",
       "      <td>1756</td>\n",
       "      <td>1791.0</td>\n",
       "      <td>classic</td>\n",
       "      <td>Austria</td>\n",
       "    </tr>\n",
       "    <tr>\n",
       "      <th>32</th>\n",
       "      <td>Cimarosa</td>\n",
       "      <td>1749</td>\n",
       "      <td>1801.0</td>\n",
       "      <td>classic</td>\n",
       "      <td>Italy</td>\n",
       "    </tr>\n",
       "    <tr>\n",
       "      <th>40</th>\n",
       "      <td>Soler</td>\n",
       "      <td>1754</td>\n",
       "      <td>1806.0</td>\n",
       "      <td>classic</td>\n",
       "      <td>Spain</td>\n",
       "    </tr>\n",
       "    <tr>\n",
       "      <th>51</th>\n",
       "      <td>Dusek</td>\n",
       "      <td>1731</td>\n",
       "      <td>1799.0</td>\n",
       "      <td>classic</td>\n",
       "      <td>Czechia</td>\n",
       "    </tr>\n",
       "  </tbody>\n",
       "</table>\n",
       "</div>"
      ],
      "text/plain": [
       "    composer  birth   death   period  country\n",
       "9      Haydn   1732  1809.0  classic  Austria\n",
       "10    Mozart   1756  1791.0  classic  Austria\n",
       "32  Cimarosa   1749  1801.0  classic    Italy\n",
       "40     Soler   1754  1806.0  classic    Spain\n",
       "51     Dusek   1731  1799.0  classic  Czechia"
      ]
     },
     "execution_count": 153,
     "metadata": {},
     "output_type": "execute_result"
    }
   ],
   "source": [
    "# If we are interested in only a single group, we can use \"get_group\"\n",
    "composer_grouped.get_group('classic')"
   ]
  },
  {
   "cell_type": "code",
   "execution_count": 154,
   "id": "05cfb913",
   "metadata": {},
   "outputs": [
    {
     "data": {
      "text/html": [
       "<div>\n",
       "<style scoped>\n",
       "    .dataframe tbody tr th:only-of-type {\n",
       "        vertical-align: middle;\n",
       "    }\n",
       "\n",
       "    .dataframe tbody tr th {\n",
       "        vertical-align: top;\n",
       "    }\n",
       "\n",
       "    .dataframe thead th {\n",
       "        text-align: right;\n",
       "    }\n",
       "</style>\n",
       "<table border=\"1\" class=\"dataframe\">\n",
       "  <thead>\n",
       "    <tr style=\"text-align: right;\">\n",
       "      <th></th>\n",
       "      <th>composer</th>\n",
       "      <th>birth</th>\n",
       "      <th>death</th>\n",
       "      <th>period</th>\n",
       "      <th>country</th>\n",
       "    </tr>\n",
       "  </thead>\n",
       "  <tbody>\n",
       "    <tr>\n",
       "      <th>9</th>\n",
       "      <td>Haydn</td>\n",
       "      <td>1732</td>\n",
       "      <td>1809.0</td>\n",
       "      <td>classic</td>\n",
       "      <td>Austria</td>\n",
       "    </tr>\n",
       "    <tr>\n",
       "      <th>10</th>\n",
       "      <td>Mozart</td>\n",
       "      <td>1756</td>\n",
       "      <td>1791.0</td>\n",
       "      <td>classic</td>\n",
       "      <td>Austria</td>\n",
       "    </tr>\n",
       "    <tr>\n",
       "      <th>32</th>\n",
       "      <td>Cimarosa</td>\n",
       "      <td>1749</td>\n",
       "      <td>1801.0</td>\n",
       "      <td>classic</td>\n",
       "      <td>Italy</td>\n",
       "    </tr>\n",
       "    <tr>\n",
       "      <th>40</th>\n",
       "      <td>Soler</td>\n",
       "      <td>1754</td>\n",
       "      <td>1806.0</td>\n",
       "      <td>classic</td>\n",
       "      <td>Spain</td>\n",
       "    </tr>\n",
       "    <tr>\n",
       "      <th>51</th>\n",
       "      <td>Dusek</td>\n",
       "      <td>1731</td>\n",
       "      <td>1799.0</td>\n",
       "      <td>classic</td>\n",
       "      <td>Czechia</td>\n",
       "    </tr>\n",
       "  </tbody>\n",
       "</table>\n",
       "</div>"
      ],
      "text/plain": [
       "    composer  birth   death   period  country\n",
       "9      Haydn   1732  1809.0  classic  Austria\n",
       "10    Mozart   1756  1791.0  classic  Austria\n",
       "32  Cimarosa   1749  1801.0  classic    Italy\n",
       "40     Soler   1754  1806.0  classic    Spain\n",
       "51     Dusek   1731  1799.0  classic  Czechia"
      ]
     },
     "execution_count": 154,
     "metadata": {},
     "output_type": "execute_result"
    }
   ],
   "source": [
    "# This returns a subgroup from the original table, equivalent to:\n",
    "composers[composers.period == 'classic']\n"
   ]
  },
  {
   "cell_type": "code",
   "execution_count": null,
   "id": "6950588e",
   "metadata": {},
   "outputs": [],
   "source": [
    "# Note that the syntax above is identical to data.table usage in R"
   ]
  },
  {
   "cell_type": "markdown",
   "id": "fc6dabdd",
   "metadata": {},
   "source": [
    "### Multi-level \n",
    "With multiple groups, we can also do a grouping on several levels."
   ]
  },
  {
   "cell_type": "code",
   "execution_count": 155,
   "id": "ca3eb211",
   "metadata": {},
   "outputs": [
    {
     "data": {
      "text/html": [
       "<div>\n",
       "<style scoped>\n",
       "    .dataframe tbody tr th:only-of-type {\n",
       "        vertical-align: middle;\n",
       "    }\n",
       "\n",
       "    .dataframe tbody tr th {\n",
       "        vertical-align: top;\n",
       "    }\n",
       "\n",
       "    .dataframe thead tr th {\n",
       "        text-align: left;\n",
       "    }\n",
       "\n",
       "    .dataframe thead tr:last-of-type th {\n",
       "        text-align: right;\n",
       "    }\n",
       "</style>\n",
       "<table border=\"1\" class=\"dataframe\">\n",
       "  <thead>\n",
       "    <tr>\n",
       "      <th></th>\n",
       "      <th></th>\n",
       "      <th colspan=\"8\" halign=\"left\">birth</th>\n",
       "      <th colspan=\"8\" halign=\"left\">death</th>\n",
       "    </tr>\n",
       "    <tr>\n",
       "      <th></th>\n",
       "      <th></th>\n",
       "      <th>count</th>\n",
       "      <th>mean</th>\n",
       "      <th>std</th>\n",
       "      <th>min</th>\n",
       "      <th>25%</th>\n",
       "      <th>50%</th>\n",
       "      <th>75%</th>\n",
       "      <th>max</th>\n",
       "      <th>count</th>\n",
       "      <th>mean</th>\n",
       "      <th>std</th>\n",
       "      <th>min</th>\n",
       "      <th>25%</th>\n",
       "      <th>50%</th>\n",
       "      <th>75%</th>\n",
       "      <th>max</th>\n",
       "    </tr>\n",
       "    <tr>\n",
       "      <th>period</th>\n",
       "      <th>country</th>\n",
       "      <th></th>\n",
       "      <th></th>\n",
       "      <th></th>\n",
       "      <th></th>\n",
       "      <th></th>\n",
       "      <th></th>\n",
       "      <th></th>\n",
       "      <th></th>\n",
       "      <th></th>\n",
       "      <th></th>\n",
       "      <th></th>\n",
       "      <th></th>\n",
       "      <th></th>\n",
       "      <th></th>\n",
       "      <th></th>\n",
       "      <th></th>\n",
       "    </tr>\n",
       "  </thead>\n",
       "  <tbody>\n",
       "    <tr>\n",
       "      <th rowspan=\"4\" valign=\"top\">baroque</th>\n",
       "      <th>England</th>\n",
       "      <td>1.0</td>\n",
       "      <td>1659.000000</td>\n",
       "      <td>NaN</td>\n",
       "      <td>1659.0</td>\n",
       "      <td>1659.00</td>\n",
       "      <td>1659.0</td>\n",
       "      <td>1659.00</td>\n",
       "      <td>1659.0</td>\n",
       "      <td>1.0</td>\n",
       "      <td>1695.000000</td>\n",
       "      <td>NaN</td>\n",
       "      <td>1695.0</td>\n",
       "      <td>1695.00</td>\n",
       "      <td>1695.0</td>\n",
       "      <td>1695.00</td>\n",
       "      <td>1695.0</td>\n",
       "    </tr>\n",
       "    <tr>\n",
       "      <th>France</th>\n",
       "      <td>3.0</td>\n",
       "      <td>1650.666667</td>\n",
       "      <td>29.263174</td>\n",
       "      <td>1626.0</td>\n",
       "      <td>1634.50</td>\n",
       "      <td>1643.0</td>\n",
       "      <td>1663.00</td>\n",
       "      <td>1683.0</td>\n",
       "      <td>3.0</td>\n",
       "      <td>1709.666667</td>\n",
       "      <td>51.733290</td>\n",
       "      <td>1661.0</td>\n",
       "      <td>1682.50</td>\n",
       "      <td>1704.0</td>\n",
       "      <td>1734.00</td>\n",
       "      <td>1764.0</td>\n",
       "    </tr>\n",
       "    <tr>\n",
       "      <th>Germany</th>\n",
       "      <td>2.0</td>\n",
       "      <td>1685.000000</td>\n",
       "      <td>0.000000</td>\n",
       "      <td>1685.0</td>\n",
       "      <td>1685.00</td>\n",
       "      <td>1685.0</td>\n",
       "      <td>1685.00</td>\n",
       "      <td>1685.0</td>\n",
       "      <td>2.0</td>\n",
       "      <td>1754.500000</td>\n",
       "      <td>6.363961</td>\n",
       "      <td>1750.0</td>\n",
       "      <td>1752.25</td>\n",
       "      <td>1754.5</td>\n",
       "      <td>1756.75</td>\n",
       "      <td>1759.0</td>\n",
       "    </tr>\n",
       "    <tr>\n",
       "      <th>Italy</th>\n",
       "      <td>4.0</td>\n",
       "      <td>1663.000000</td>\n",
       "      <td>53.285395</td>\n",
       "      <td>1587.0</td>\n",
       "      <td>1649.25</td>\n",
       "      <td>1677.5</td>\n",
       "      <td>1691.25</td>\n",
       "      <td>1710.0</td>\n",
       "      <td>4.0</td>\n",
       "      <td>1717.250000</td>\n",
       "      <td>52.442826</td>\n",
       "      <td>1640.0</td>\n",
       "      <td>1712.00</td>\n",
       "      <td>1736.0</td>\n",
       "      <td>1741.25</td>\n",
       "      <td>1757.0</td>\n",
       "    </tr>\n",
       "    <tr>\n",
       "      <th rowspan=\"4\" valign=\"top\">classic</th>\n",
       "      <th>Austria</th>\n",
       "      <td>2.0</td>\n",
       "      <td>1744.000000</td>\n",
       "      <td>16.970563</td>\n",
       "      <td>1732.0</td>\n",
       "      <td>1738.00</td>\n",
       "      <td>1744.0</td>\n",
       "      <td>1750.00</td>\n",
       "      <td>1756.0</td>\n",
       "      <td>2.0</td>\n",
       "      <td>1800.000000</td>\n",
       "      <td>12.727922</td>\n",
       "      <td>1791.0</td>\n",
       "      <td>1795.50</td>\n",
       "      <td>1800.0</td>\n",
       "      <td>1804.50</td>\n",
       "      <td>1809.0</td>\n",
       "    </tr>\n",
       "    <tr>\n",
       "      <th>Czechia</th>\n",
       "      <td>1.0</td>\n",
       "      <td>1731.000000</td>\n",
       "      <td>NaN</td>\n",
       "      <td>1731.0</td>\n",
       "      <td>1731.00</td>\n",
       "      <td>1731.0</td>\n",
       "      <td>1731.00</td>\n",
       "      <td>1731.0</td>\n",
       "      <td>1.0</td>\n",
       "      <td>1799.000000</td>\n",
       "      <td>NaN</td>\n",
       "      <td>1799.0</td>\n",
       "      <td>1799.00</td>\n",
       "      <td>1799.0</td>\n",
       "      <td>1799.00</td>\n",
       "      <td>1799.0</td>\n",
       "    </tr>\n",
       "    <tr>\n",
       "      <th>Italy</th>\n",
       "      <td>1.0</td>\n",
       "      <td>1749.000000</td>\n",
       "      <td>NaN</td>\n",
       "      <td>1749.0</td>\n",
       "      <td>1749.00</td>\n",
       "      <td>1749.0</td>\n",
       "      <td>1749.00</td>\n",
       "      <td>1749.0</td>\n",
       "      <td>1.0</td>\n",
       "      <td>1801.000000</td>\n",
       "      <td>NaN</td>\n",
       "      <td>1801.0</td>\n",
       "      <td>1801.00</td>\n",
       "      <td>1801.0</td>\n",
       "      <td>1801.00</td>\n",
       "      <td>1801.0</td>\n",
       "    </tr>\n",
       "    <tr>\n",
       "      <th>Spain</th>\n",
       "      <td>1.0</td>\n",
       "      <td>1754.000000</td>\n",
       "      <td>NaN</td>\n",
       "      <td>1754.0</td>\n",
       "      <td>1754.00</td>\n",
       "      <td>1754.0</td>\n",
       "      <td>1754.00</td>\n",
       "      <td>1754.0</td>\n",
       "      <td>1.0</td>\n",
       "      <td>1806.000000</td>\n",
       "      <td>NaN</td>\n",
       "      <td>1806.0</td>\n",
       "      <td>1806.00</td>\n",
       "      <td>1806.0</td>\n",
       "      <td>1806.00</td>\n",
       "      <td>1806.0</td>\n",
       "    </tr>\n",
       "    <tr>\n",
       "      <th rowspan=\"8\" valign=\"top\">modern</th>\n",
       "      <th>Austria</th>\n",
       "      <td>1.0</td>\n",
       "      <td>1885.000000</td>\n",
       "      <td>NaN</td>\n",
       "      <td>1885.0</td>\n",
       "      <td>1885.00</td>\n",
       "      <td>1885.0</td>\n",
       "      <td>1885.00</td>\n",
       "      <td>1885.0</td>\n",
       "      <td>1.0</td>\n",
       "      <td>1935.000000</td>\n",
       "      <td>NaN</td>\n",
       "      <td>1935.0</td>\n",
       "      <td>1935.00</td>\n",
       "      <td>1935.0</td>\n",
       "      <td>1935.00</td>\n",
       "      <td>1935.0</td>\n",
       "    </tr>\n",
       "    <tr>\n",
       "      <th>Czechia</th>\n",
       "      <td>1.0</td>\n",
       "      <td>1854.000000</td>\n",
       "      <td>NaN</td>\n",
       "      <td>1854.0</td>\n",
       "      <td>1854.00</td>\n",
       "      <td>1854.0</td>\n",
       "      <td>1854.00</td>\n",
       "      <td>1854.0</td>\n",
       "      <td>1.0</td>\n",
       "      <td>1928.000000</td>\n",
       "      <td>NaN</td>\n",
       "      <td>1928.0</td>\n",
       "      <td>1928.00</td>\n",
       "      <td>1928.0</td>\n",
       "      <td>1928.00</td>\n",
       "      <td>1928.0</td>\n",
       "    </tr>\n",
       "    <tr>\n",
       "      <th>England</th>\n",
       "      <td>2.0</td>\n",
       "      <td>1936.500000</td>\n",
       "      <td>48.790368</td>\n",
       "      <td>1902.0</td>\n",
       "      <td>1919.25</td>\n",
       "      <td>1936.5</td>\n",
       "      <td>1953.75</td>\n",
       "      <td>1971.0</td>\n",
       "      <td>1.0</td>\n",
       "      <td>1983.000000</td>\n",
       "      <td>NaN</td>\n",
       "      <td>1983.0</td>\n",
       "      <td>1983.00</td>\n",
       "      <td>1983.0</td>\n",
       "      <td>1983.00</td>\n",
       "      <td>1983.0</td>\n",
       "    </tr>\n",
       "    <tr>\n",
       "      <th>France</th>\n",
       "      <td>2.0</td>\n",
       "      <td>1916.500000</td>\n",
       "      <td>12.020815</td>\n",
       "      <td>1908.0</td>\n",
       "      <td>1912.25</td>\n",
       "      <td>1916.5</td>\n",
       "      <td>1920.75</td>\n",
       "      <td>1925.0</td>\n",
       "      <td>2.0</td>\n",
       "      <td>2004.000000</td>\n",
       "      <td>16.970563</td>\n",
       "      <td>1992.0</td>\n",
       "      <td>1998.00</td>\n",
       "      <td>2004.0</td>\n",
       "      <td>2010.00</td>\n",
       "      <td>2016.0</td>\n",
       "    </tr>\n",
       "    <tr>\n",
       "      <th>Germany</th>\n",
       "      <td>1.0</td>\n",
       "      <td>1895.000000</td>\n",
       "      <td>NaN</td>\n",
       "      <td>1895.0</td>\n",
       "      <td>1895.00</td>\n",
       "      <td>1895.0</td>\n",
       "      <td>1895.00</td>\n",
       "      <td>1895.0</td>\n",
       "      <td>1.0</td>\n",
       "      <td>1982.000000</td>\n",
       "      <td>NaN</td>\n",
       "      <td>1982.0</td>\n",
       "      <td>1982.00</td>\n",
       "      <td>1982.0</td>\n",
       "      <td>1982.00</td>\n",
       "      <td>1982.0</td>\n",
       "    </tr>\n",
       "    <tr>\n",
       "      <th>RUssia</th>\n",
       "      <td>1.0</td>\n",
       "      <td>1891.000000</td>\n",
       "      <td>NaN</td>\n",
       "      <td>1891.0</td>\n",
       "      <td>1891.00</td>\n",
       "      <td>1891.0</td>\n",
       "      <td>1891.00</td>\n",
       "      <td>1891.0</td>\n",
       "      <td>1.0</td>\n",
       "      <td>1953.000000</td>\n",
       "      <td>NaN</td>\n",
       "      <td>1953.0</td>\n",
       "      <td>1953.00</td>\n",
       "      <td>1953.0</td>\n",
       "      <td>1953.00</td>\n",
       "      <td>1953.0</td>\n",
       "    </tr>\n",
       "    <tr>\n",
       "      <th>Russia</th>\n",
       "      <td>2.0</td>\n",
       "      <td>1894.000000</td>\n",
       "      <td>16.970563</td>\n",
       "      <td>1882.0</td>\n",
       "      <td>1888.00</td>\n",
       "      <td>1894.0</td>\n",
       "      <td>1900.00</td>\n",
       "      <td>1906.0</td>\n",
       "      <td>2.0</td>\n",
       "      <td>1973.000000</td>\n",
       "      <td>2.828427</td>\n",
       "      <td>1971.0</td>\n",
       "      <td>1972.00</td>\n",
       "      <td>1973.0</td>\n",
       "      <td>1974.00</td>\n",
       "      <td>1975.0</td>\n",
       "    </tr>\n",
       "    <tr>\n",
       "      <th>USA</th>\n",
       "      <td>3.0</td>\n",
       "      <td>1918.333333</td>\n",
       "      <td>18.502252</td>\n",
       "      <td>1900.0</td>\n",
       "      <td>1909.00</td>\n",
       "      <td>1918.0</td>\n",
       "      <td>1927.50</td>\n",
       "      <td>1937.0</td>\n",
       "      <td>2.0</td>\n",
       "      <td>1990.000000</td>\n",
       "      <td>0.000000</td>\n",
       "      <td>1990.0</td>\n",
       "      <td>1990.00</td>\n",
       "      <td>1990.0</td>\n",
       "      <td>1990.00</td>\n",
       "      <td>1990.0</td>\n",
       "    </tr>\n",
       "    <tr>\n",
       "      <th rowspan=\"4\" valign=\"top\">post-romantic</th>\n",
       "      <th>Austria</th>\n",
       "      <td>2.0</td>\n",
       "      <td>1842.000000</td>\n",
       "      <td>25.455844</td>\n",
       "      <td>1824.0</td>\n",
       "      <td>1833.00</td>\n",
       "      <td>1842.0</td>\n",
       "      <td>1851.00</td>\n",
       "      <td>1860.0</td>\n",
       "      <td>2.0</td>\n",
       "      <td>1903.500000</td>\n",
       "      <td>10.606602</td>\n",
       "      <td>1896.0</td>\n",
       "      <td>1899.75</td>\n",
       "      <td>1903.5</td>\n",
       "      <td>1907.25</td>\n",
       "      <td>1911.0</td>\n",
       "    </tr>\n",
       "    <tr>\n",
       "      <th>Finland</th>\n",
       "      <td>1.0</td>\n",
       "      <td>1865.000000</td>\n",
       "      <td>NaN</td>\n",
       "      <td>1865.0</td>\n",
       "      <td>1865.00</td>\n",
       "      <td>1865.0</td>\n",
       "      <td>1865.00</td>\n",
       "      <td>1865.0</td>\n",
       "      <td>1.0</td>\n",
       "      <td>1957.000000</td>\n",
       "      <td>NaN</td>\n",
       "      <td>1957.0</td>\n",
       "      <td>1957.00</td>\n",
       "      <td>1957.0</td>\n",
       "      <td>1957.00</td>\n",
       "      <td>1957.0</td>\n",
       "    </tr>\n",
       "    <tr>\n",
       "      <th>Germany</th>\n",
       "      <td>1.0</td>\n",
       "      <td>1864.000000</td>\n",
       "      <td>NaN</td>\n",
       "      <td>1864.0</td>\n",
       "      <td>1864.00</td>\n",
       "      <td>1864.0</td>\n",
       "      <td>1864.00</td>\n",
       "      <td>1864.0</td>\n",
       "      <td>1.0</td>\n",
       "      <td>1949.000000</td>\n",
       "      <td>NaN</td>\n",
       "      <td>1949.0</td>\n",
       "      <td>1949.00</td>\n",
       "      <td>1949.0</td>\n",
       "      <td>1949.00</td>\n",
       "      <td>1949.0</td>\n",
       "    </tr>\n",
       "    <tr>\n",
       "      <th>Italy</th>\n",
       "      <td>1.0</td>\n",
       "      <td>1858.000000</td>\n",
       "      <td>NaN</td>\n",
       "      <td>1858.0</td>\n",
       "      <td>1858.00</td>\n",
       "      <td>1858.0</td>\n",
       "      <td>1858.00</td>\n",
       "      <td>1858.0</td>\n",
       "      <td>1.0</td>\n",
       "      <td>1924.000000</td>\n",
       "      <td>NaN</td>\n",
       "      <td>1924.0</td>\n",
       "      <td>1924.00</td>\n",
       "      <td>1924.0</td>\n",
       "      <td>1924.00</td>\n",
       "      <td>1924.0</td>\n",
       "    </tr>\n",
       "    <tr>\n",
       "      <th rowspan=\"3\" valign=\"top\">renaissance</th>\n",
       "      <th>Belgium</th>\n",
       "      <td>2.0</td>\n",
       "      <td>1464.500000</td>\n",
       "      <td>95.459415</td>\n",
       "      <td>1397.0</td>\n",
       "      <td>1430.75</td>\n",
       "      <td>1464.5</td>\n",
       "      <td>1498.25</td>\n",
       "      <td>1532.0</td>\n",
       "      <td>2.0</td>\n",
       "      <td>1534.000000</td>\n",
       "      <td>84.852814</td>\n",
       "      <td>1474.0</td>\n",
       "      <td>1504.00</td>\n",
       "      <td>1534.0</td>\n",
       "      <td>1564.00</td>\n",
       "      <td>1594.0</td>\n",
       "    </tr>\n",
       "    <tr>\n",
       "      <th>England</th>\n",
       "      <td>2.0</td>\n",
       "      <td>1551.500000</td>\n",
       "      <td>16.263456</td>\n",
       "      <td>1540.0</td>\n",
       "      <td>1545.75</td>\n",
       "      <td>1551.5</td>\n",
       "      <td>1557.25</td>\n",
       "      <td>1563.0</td>\n",
       "      <td>2.0</td>\n",
       "      <td>1624.500000</td>\n",
       "      <td>2.121320</td>\n",
       "      <td>1623.0</td>\n",
       "      <td>1623.75</td>\n",
       "      <td>1624.5</td>\n",
       "      <td>1625.25</td>\n",
       "      <td>1626.0</td>\n",
       "    </tr>\n",
       "    <tr>\n",
       "      <th>Italy</th>\n",
       "      <td>3.0</td>\n",
       "      <td>1552.666667</td>\n",
       "      <td>23.965253</td>\n",
       "      <td>1525.0</td>\n",
       "      <td>1545.50</td>\n",
       "      <td>1566.0</td>\n",
       "      <td>1566.50</td>\n",
       "      <td>1567.0</td>\n",
       "      <td>3.0</td>\n",
       "      <td>1616.666667</td>\n",
       "      <td>24.704925</td>\n",
       "      <td>1594.0</td>\n",
       "      <td>1603.50</td>\n",
       "      <td>1613.0</td>\n",
       "      <td>1628.00</td>\n",
       "      <td>1643.0</td>\n",
       "    </tr>\n",
       "    <tr>\n",
       "      <th rowspan=\"6\" valign=\"top\">romantic</th>\n",
       "      <th>Czechia</th>\n",
       "      <td>2.0</td>\n",
       "      <td>1832.500000</td>\n",
       "      <td>12.020815</td>\n",
       "      <td>1824.0</td>\n",
       "      <td>1828.25</td>\n",
       "      <td>1832.5</td>\n",
       "      <td>1836.75</td>\n",
       "      <td>1841.0</td>\n",
       "      <td>2.0</td>\n",
       "      <td>1894.000000</td>\n",
       "      <td>14.142136</td>\n",
       "      <td>1884.0</td>\n",
       "      <td>1889.00</td>\n",
       "      <td>1894.0</td>\n",
       "      <td>1899.00</td>\n",
       "      <td>1904.0</td>\n",
       "    </tr>\n",
       "    <tr>\n",
       "      <th>France</th>\n",
       "      <td>3.0</td>\n",
       "      <td>1821.000000</td>\n",
       "      <td>19.672316</td>\n",
       "      <td>1803.0</td>\n",
       "      <td>1810.50</td>\n",
       "      <td>1818.0</td>\n",
       "      <td>1830.00</td>\n",
       "      <td>1842.0</td>\n",
       "      <td>3.0</td>\n",
       "      <td>1891.333333</td>\n",
       "      <td>21.548395</td>\n",
       "      <td>1869.0</td>\n",
       "      <td>1881.00</td>\n",
       "      <td>1893.0</td>\n",
       "      <td>1902.50</td>\n",
       "      <td>1912.0</td>\n",
       "    </tr>\n",
       "    <tr>\n",
       "      <th>Germany</th>\n",
       "      <td>4.0</td>\n",
       "      <td>1806.500000</td>\n",
       "      <td>26.388129</td>\n",
       "      <td>1770.0</td>\n",
       "      <td>1800.00</td>\n",
       "      <td>1811.5</td>\n",
       "      <td>1818.00</td>\n",
       "      <td>1833.0</td>\n",
       "      <td>4.0</td>\n",
       "      <td>1865.750000</td>\n",
       "      <td>30.934070</td>\n",
       "      <td>1827.0</td>\n",
       "      <td>1848.75</td>\n",
       "      <td>1869.5</td>\n",
       "      <td>1886.50</td>\n",
       "      <td>1897.0</td>\n",
       "    </tr>\n",
       "    <tr>\n",
       "      <th>Italy</th>\n",
       "      <td>4.0</td>\n",
       "      <td>1817.250000</td>\n",
       "      <td>28.004464</td>\n",
       "      <td>1797.0</td>\n",
       "      <td>1800.00</td>\n",
       "      <td>1807.0</td>\n",
       "      <td>1824.25</td>\n",
       "      <td>1858.0</td>\n",
       "      <td>4.0</td>\n",
       "      <td>1875.750000</td>\n",
       "      <td>40.574006</td>\n",
       "      <td>1835.0</td>\n",
       "      <td>1844.75</td>\n",
       "      <td>1874.5</td>\n",
       "      <td>1905.50</td>\n",
       "      <td>1919.0</td>\n",
       "    </tr>\n",
       "    <tr>\n",
       "      <th>Russia</th>\n",
       "      <td>2.0</td>\n",
       "      <td>1836.000000</td>\n",
       "      <td>4.242641</td>\n",
       "      <td>1833.0</td>\n",
       "      <td>1834.50</td>\n",
       "      <td>1836.0</td>\n",
       "      <td>1837.50</td>\n",
       "      <td>1839.0</td>\n",
       "      <td>2.0</td>\n",
       "      <td>1884.000000</td>\n",
       "      <td>4.242641</td>\n",
       "      <td>1881.0</td>\n",
       "      <td>1882.50</td>\n",
       "      <td>1884.0</td>\n",
       "      <td>1885.50</td>\n",
       "      <td>1887.0</td>\n",
       "    </tr>\n",
       "    <tr>\n",
       "      <th>Spain</th>\n",
       "      <td>2.0</td>\n",
       "      <td>1863.500000</td>\n",
       "      <td>4.949747</td>\n",
       "      <td>1860.0</td>\n",
       "      <td>1861.75</td>\n",
       "      <td>1863.5</td>\n",
       "      <td>1865.25</td>\n",
       "      <td>1867.0</td>\n",
       "      <td>2.0</td>\n",
       "      <td>1912.500000</td>\n",
       "      <td>4.949747</td>\n",
       "      <td>1909.0</td>\n",
       "      <td>1910.75</td>\n",
       "      <td>1912.5</td>\n",
       "      <td>1914.25</td>\n",
       "      <td>1916.0</td>\n",
       "    </tr>\n",
       "  </tbody>\n",
       "</table>\n",
       "</div>"
      ],
      "text/plain": [
       "                      birth                                                   \\\n",
       "                      count         mean        std     min      25%     50%   \n",
       "period        country                                                          \n",
       "baroque       England   1.0  1659.000000        NaN  1659.0  1659.00  1659.0   \n",
       "              France    3.0  1650.666667  29.263174  1626.0  1634.50  1643.0   \n",
       "              Germany   2.0  1685.000000   0.000000  1685.0  1685.00  1685.0   \n",
       "              Italy     4.0  1663.000000  53.285395  1587.0  1649.25  1677.5   \n",
       "classic       Austria   2.0  1744.000000  16.970563  1732.0  1738.00  1744.0   \n",
       "              Czechia   1.0  1731.000000        NaN  1731.0  1731.00  1731.0   \n",
       "              Italy     1.0  1749.000000        NaN  1749.0  1749.00  1749.0   \n",
       "              Spain     1.0  1754.000000        NaN  1754.0  1754.00  1754.0   \n",
       "modern        Austria   1.0  1885.000000        NaN  1885.0  1885.00  1885.0   \n",
       "              Czechia   1.0  1854.000000        NaN  1854.0  1854.00  1854.0   \n",
       "              England   2.0  1936.500000  48.790368  1902.0  1919.25  1936.5   \n",
       "              France    2.0  1916.500000  12.020815  1908.0  1912.25  1916.5   \n",
       "              Germany   1.0  1895.000000        NaN  1895.0  1895.00  1895.0   \n",
       "              RUssia    1.0  1891.000000        NaN  1891.0  1891.00  1891.0   \n",
       "              Russia    2.0  1894.000000  16.970563  1882.0  1888.00  1894.0   \n",
       "              USA       3.0  1918.333333  18.502252  1900.0  1909.00  1918.0   \n",
       "post-romantic Austria   2.0  1842.000000  25.455844  1824.0  1833.00  1842.0   \n",
       "              Finland   1.0  1865.000000        NaN  1865.0  1865.00  1865.0   \n",
       "              Germany   1.0  1864.000000        NaN  1864.0  1864.00  1864.0   \n",
       "              Italy     1.0  1858.000000        NaN  1858.0  1858.00  1858.0   \n",
       "renaissance   Belgium   2.0  1464.500000  95.459415  1397.0  1430.75  1464.5   \n",
       "              England   2.0  1551.500000  16.263456  1540.0  1545.75  1551.5   \n",
       "              Italy     3.0  1552.666667  23.965253  1525.0  1545.50  1566.0   \n",
       "romantic      Czechia   2.0  1832.500000  12.020815  1824.0  1828.25  1832.5   \n",
       "              France    3.0  1821.000000  19.672316  1803.0  1810.50  1818.0   \n",
       "              Germany   4.0  1806.500000  26.388129  1770.0  1800.00  1811.5   \n",
       "              Italy     4.0  1817.250000  28.004464  1797.0  1800.00  1807.0   \n",
       "              Russia    2.0  1836.000000   4.242641  1833.0  1834.50  1836.0   \n",
       "              Spain     2.0  1863.500000   4.949747  1860.0  1861.75  1863.5   \n",
       "\n",
       "                                       death                                  \\\n",
       "                           75%     max count         mean        std     min   \n",
       "period        country                                                          \n",
       "baroque       England  1659.00  1659.0   1.0  1695.000000        NaN  1695.0   \n",
       "              France   1663.00  1683.0   3.0  1709.666667  51.733290  1661.0   \n",
       "              Germany  1685.00  1685.0   2.0  1754.500000   6.363961  1750.0   \n",
       "              Italy    1691.25  1710.0   4.0  1717.250000  52.442826  1640.0   \n",
       "classic       Austria  1750.00  1756.0   2.0  1800.000000  12.727922  1791.0   \n",
       "              Czechia  1731.00  1731.0   1.0  1799.000000        NaN  1799.0   \n",
       "              Italy    1749.00  1749.0   1.0  1801.000000        NaN  1801.0   \n",
       "              Spain    1754.00  1754.0   1.0  1806.000000        NaN  1806.0   \n",
       "modern        Austria  1885.00  1885.0   1.0  1935.000000        NaN  1935.0   \n",
       "              Czechia  1854.00  1854.0   1.0  1928.000000        NaN  1928.0   \n",
       "              England  1953.75  1971.0   1.0  1983.000000        NaN  1983.0   \n",
       "              France   1920.75  1925.0   2.0  2004.000000  16.970563  1992.0   \n",
       "              Germany  1895.00  1895.0   1.0  1982.000000        NaN  1982.0   \n",
       "              RUssia   1891.00  1891.0   1.0  1953.000000        NaN  1953.0   \n",
       "              Russia   1900.00  1906.0   2.0  1973.000000   2.828427  1971.0   \n",
       "              USA      1927.50  1937.0   2.0  1990.000000   0.000000  1990.0   \n",
       "post-romantic Austria  1851.00  1860.0   2.0  1903.500000  10.606602  1896.0   \n",
       "              Finland  1865.00  1865.0   1.0  1957.000000        NaN  1957.0   \n",
       "              Germany  1864.00  1864.0   1.0  1949.000000        NaN  1949.0   \n",
       "              Italy    1858.00  1858.0   1.0  1924.000000        NaN  1924.0   \n",
       "renaissance   Belgium  1498.25  1532.0   2.0  1534.000000  84.852814  1474.0   \n",
       "              England  1557.25  1563.0   2.0  1624.500000   2.121320  1623.0   \n",
       "              Italy    1566.50  1567.0   3.0  1616.666667  24.704925  1594.0   \n",
       "romantic      Czechia  1836.75  1841.0   2.0  1894.000000  14.142136  1884.0   \n",
       "              France   1830.00  1842.0   3.0  1891.333333  21.548395  1869.0   \n",
       "              Germany  1818.00  1833.0   4.0  1865.750000  30.934070  1827.0   \n",
       "              Italy    1824.25  1858.0   4.0  1875.750000  40.574006  1835.0   \n",
       "              Russia   1837.50  1839.0   2.0  1884.000000   4.242641  1881.0   \n",
       "              Spain    1865.25  1867.0   2.0  1912.500000   4.949747  1909.0   \n",
       "\n",
       "                                                         \n",
       "                           25%     50%      75%     max  \n",
       "period        country                                    \n",
       "baroque       England  1695.00  1695.0  1695.00  1695.0  \n",
       "              France   1682.50  1704.0  1734.00  1764.0  \n",
       "              Germany  1752.25  1754.5  1756.75  1759.0  \n",
       "              Italy    1712.00  1736.0  1741.25  1757.0  \n",
       "classic       Austria  1795.50  1800.0  1804.50  1809.0  \n",
       "              Czechia  1799.00  1799.0  1799.00  1799.0  \n",
       "              Italy    1801.00  1801.0  1801.00  1801.0  \n",
       "              Spain    1806.00  1806.0  1806.00  1806.0  \n",
       "modern        Austria  1935.00  1935.0  1935.00  1935.0  \n",
       "              Czechia  1928.00  1928.0  1928.00  1928.0  \n",
       "              England  1983.00  1983.0  1983.00  1983.0  \n",
       "              France   1998.00  2004.0  2010.00  2016.0  \n",
       "              Germany  1982.00  1982.0  1982.00  1982.0  \n",
       "              RUssia   1953.00  1953.0  1953.00  1953.0  \n",
       "              Russia   1972.00  1973.0  1974.00  1975.0  \n",
       "              USA      1990.00  1990.0  1990.00  1990.0  \n",
       "post-romantic Austria  1899.75  1903.5  1907.25  1911.0  \n",
       "              Finland  1957.00  1957.0  1957.00  1957.0  \n",
       "              Germany  1949.00  1949.0  1949.00  1949.0  \n",
       "              Italy    1924.00  1924.0  1924.00  1924.0  \n",
       "renaissance   Belgium  1504.00  1534.0  1564.00  1594.0  \n",
       "              England  1623.75  1624.5  1625.25  1626.0  \n",
       "              Italy    1603.50  1613.0  1628.00  1643.0  \n",
       "romantic      Czechia  1889.00  1894.0  1899.00  1904.0  \n",
       "              France   1881.00  1893.0  1902.50  1912.0  \n",
       "              Germany  1848.75  1869.5  1886.50  1897.0  \n",
       "              Italy    1844.75  1874.5  1905.50  1919.0  \n",
       "              Russia   1882.50  1884.0  1885.50  1887.0  \n",
       "              Spain    1910.75  1912.5  1914.25  1916.0  "
      ]
     },
     "execution_count": 155,
     "metadata": {},
     "output_type": "execute_result"
    }
   ],
   "source": [
    "# For this, we just pass the two columns names to groupby() as a list\n",
    "composer_grouped = composers.groupby(['period','country'])\n",
    "composer_grouped.describe()"
   ]
  },
  {
   "cell_type": "code",
   "execution_count": 156,
   "id": "30942ac0",
   "metadata": {},
   "outputs": [
    {
     "data": {
      "text/html": [
       "<div>\n",
       "<style scoped>\n",
       "    .dataframe tbody tr th:only-of-type {\n",
       "        vertical-align: middle;\n",
       "    }\n",
       "\n",
       "    .dataframe tbody tr th {\n",
       "        vertical-align: top;\n",
       "    }\n",
       "\n",
       "    .dataframe thead th {\n",
       "        text-align: right;\n",
       "    }\n",
       "</style>\n",
       "<table border=\"1\" class=\"dataframe\">\n",
       "  <thead>\n",
       "    <tr style=\"text-align: right;\">\n",
       "      <th></th>\n",
       "      <th>composer</th>\n",
       "      <th>birth</th>\n",
       "      <th>death</th>\n",
       "      <th>period</th>\n",
       "      <th>country</th>\n",
       "    </tr>\n",
       "  </thead>\n",
       "  <tbody>\n",
       "    <tr>\n",
       "      <th>14</th>\n",
       "      <td>Haendel</td>\n",
       "      <td>1685</td>\n",
       "      <td>1759.0</td>\n",
       "      <td>baroque</td>\n",
       "      <td>Germany</td>\n",
       "    </tr>\n",
       "    <tr>\n",
       "      <th>47</th>\n",
       "      <td>Bach</td>\n",
       "      <td>1685</td>\n",
       "      <td>1750.0</td>\n",
       "      <td>baroque</td>\n",
       "      <td>Germany</td>\n",
       "    </tr>\n",
       "  </tbody>\n",
       "</table>\n",
       "</div>"
      ],
      "text/plain": [
       "   composer  birth   death   period  country\n",
       "14  Haendel   1685  1759.0  baroque  Germany\n",
       "47     Bach   1685  1750.0  baroque  Germany"
      ]
     },
     "execution_count": 156,
     "metadata": {},
     "output_type": "execute_result"
    }
   ],
   "source": [
    "# And we can do the same with get_group()\n",
    "composer_grouped.get_group(('baroque','Germany'))"
   ]
  },
  {
   "cell_type": "markdown",
   "id": "77ef8702",
   "metadata": {},
   "source": [
    "### Operations on groups\n",
    "Grouping allows us to do computations and plotting without loops"
   ]
  },
  {
   "cell_type": "code",
   "execution_count": 157,
   "id": "8a15ba90",
   "metadata": {},
   "outputs": [
    {
     "data": {
      "text/html": [
       "<div>\n",
       "<style scoped>\n",
       "    .dataframe tbody tr th:only-of-type {\n",
       "        vertical-align: middle;\n",
       "    }\n",
       "\n",
       "    .dataframe tbody tr th {\n",
       "        vertical-align: top;\n",
       "    }\n",
       "\n",
       "    .dataframe thead th {\n",
       "        text-align: right;\n",
       "    }\n",
       "</style>\n",
       "<table border=\"1\" class=\"dataframe\">\n",
       "  <thead>\n",
       "    <tr style=\"text-align: right;\">\n",
       "      <th></th>\n",
       "      <th></th>\n",
       "      <th>birth</th>\n",
       "      <th>death</th>\n",
       "    </tr>\n",
       "    <tr>\n",
       "      <th>period</th>\n",
       "      <th>country</th>\n",
       "      <th></th>\n",
       "      <th></th>\n",
       "    </tr>\n",
       "  </thead>\n",
       "  <tbody>\n",
       "    <tr>\n",
       "      <th rowspan=\"4\" valign=\"top\">baroque</th>\n",
       "      <th>England</th>\n",
       "      <td>1659.000000</td>\n",
       "      <td>1695.000000</td>\n",
       "    </tr>\n",
       "    <tr>\n",
       "      <th>France</th>\n",
       "      <td>1650.666667</td>\n",
       "      <td>1709.666667</td>\n",
       "    </tr>\n",
       "    <tr>\n",
       "      <th>Germany</th>\n",
       "      <td>1685.000000</td>\n",
       "      <td>1754.500000</td>\n",
       "    </tr>\n",
       "    <tr>\n",
       "      <th>Italy</th>\n",
       "      <td>1663.000000</td>\n",
       "      <td>1717.250000</td>\n",
       "    </tr>\n",
       "    <tr>\n",
       "      <th rowspan=\"4\" valign=\"top\">classic</th>\n",
       "      <th>Austria</th>\n",
       "      <td>1744.000000</td>\n",
       "      <td>1800.000000</td>\n",
       "    </tr>\n",
       "    <tr>\n",
       "      <th>Czechia</th>\n",
       "      <td>1731.000000</td>\n",
       "      <td>1799.000000</td>\n",
       "    </tr>\n",
       "    <tr>\n",
       "      <th>Italy</th>\n",
       "      <td>1749.000000</td>\n",
       "      <td>1801.000000</td>\n",
       "    </tr>\n",
       "    <tr>\n",
       "      <th>Spain</th>\n",
       "      <td>1754.000000</td>\n",
       "      <td>1806.000000</td>\n",
       "    </tr>\n",
       "    <tr>\n",
       "      <th rowspan=\"8\" valign=\"top\">modern</th>\n",
       "      <th>Austria</th>\n",
       "      <td>1885.000000</td>\n",
       "      <td>1935.000000</td>\n",
       "    </tr>\n",
       "    <tr>\n",
       "      <th>Czechia</th>\n",
       "      <td>1854.000000</td>\n",
       "      <td>1928.000000</td>\n",
       "    </tr>\n",
       "    <tr>\n",
       "      <th>England</th>\n",
       "      <td>1936.500000</td>\n",
       "      <td>1983.000000</td>\n",
       "    </tr>\n",
       "    <tr>\n",
       "      <th>France</th>\n",
       "      <td>1916.500000</td>\n",
       "      <td>2004.000000</td>\n",
       "    </tr>\n",
       "    <tr>\n",
       "      <th>Germany</th>\n",
       "      <td>1895.000000</td>\n",
       "      <td>1982.000000</td>\n",
       "    </tr>\n",
       "    <tr>\n",
       "      <th>RUssia</th>\n",
       "      <td>1891.000000</td>\n",
       "      <td>1953.000000</td>\n",
       "    </tr>\n",
       "    <tr>\n",
       "      <th>Russia</th>\n",
       "      <td>1894.000000</td>\n",
       "      <td>1973.000000</td>\n",
       "    </tr>\n",
       "    <tr>\n",
       "      <th>USA</th>\n",
       "      <td>1918.333333</td>\n",
       "      <td>1990.000000</td>\n",
       "    </tr>\n",
       "    <tr>\n",
       "      <th rowspan=\"4\" valign=\"top\">post-romantic</th>\n",
       "      <th>Austria</th>\n",
       "      <td>1842.000000</td>\n",
       "      <td>1903.500000</td>\n",
       "    </tr>\n",
       "    <tr>\n",
       "      <th>Finland</th>\n",
       "      <td>1865.000000</td>\n",
       "      <td>1957.000000</td>\n",
       "    </tr>\n",
       "    <tr>\n",
       "      <th>Germany</th>\n",
       "      <td>1864.000000</td>\n",
       "      <td>1949.000000</td>\n",
       "    </tr>\n",
       "    <tr>\n",
       "      <th>Italy</th>\n",
       "      <td>1858.000000</td>\n",
       "      <td>1924.000000</td>\n",
       "    </tr>\n",
       "    <tr>\n",
       "      <th rowspan=\"3\" valign=\"top\">renaissance</th>\n",
       "      <th>Belgium</th>\n",
       "      <td>1464.500000</td>\n",
       "      <td>1534.000000</td>\n",
       "    </tr>\n",
       "    <tr>\n",
       "      <th>England</th>\n",
       "      <td>1551.500000</td>\n",
       "      <td>1624.500000</td>\n",
       "    </tr>\n",
       "    <tr>\n",
       "      <th>Italy</th>\n",
       "      <td>1552.666667</td>\n",
       "      <td>1616.666667</td>\n",
       "    </tr>\n",
       "    <tr>\n",
       "      <th rowspan=\"6\" valign=\"top\">romantic</th>\n",
       "      <th>Czechia</th>\n",
       "      <td>1832.500000</td>\n",
       "      <td>1894.000000</td>\n",
       "    </tr>\n",
       "    <tr>\n",
       "      <th>France</th>\n",
       "      <td>1821.000000</td>\n",
       "      <td>1891.333333</td>\n",
       "    </tr>\n",
       "    <tr>\n",
       "      <th>Germany</th>\n",
       "      <td>1806.500000</td>\n",
       "      <td>1865.750000</td>\n",
       "    </tr>\n",
       "    <tr>\n",
       "      <th>Italy</th>\n",
       "      <td>1817.250000</td>\n",
       "      <td>1875.750000</td>\n",
       "    </tr>\n",
       "    <tr>\n",
       "      <th>Russia</th>\n",
       "      <td>1836.000000</td>\n",
       "      <td>1884.000000</td>\n",
       "    </tr>\n",
       "    <tr>\n",
       "      <th>Spain</th>\n",
       "      <td>1863.500000</td>\n",
       "      <td>1912.500000</td>\n",
       "    </tr>\n",
       "  </tbody>\n",
       "</table>\n",
       "</div>"
      ],
      "text/plain": [
       "                             birth        death\n",
       "period        country                          \n",
       "baroque       England  1659.000000  1695.000000\n",
       "              France   1650.666667  1709.666667\n",
       "              Germany  1685.000000  1754.500000\n",
       "              Italy    1663.000000  1717.250000\n",
       "classic       Austria  1744.000000  1800.000000\n",
       "              Czechia  1731.000000  1799.000000\n",
       "              Italy    1749.000000  1801.000000\n",
       "              Spain    1754.000000  1806.000000\n",
       "modern        Austria  1885.000000  1935.000000\n",
       "              Czechia  1854.000000  1928.000000\n",
       "              England  1936.500000  1983.000000\n",
       "              France   1916.500000  2004.000000\n",
       "              Germany  1895.000000  1982.000000\n",
       "              RUssia   1891.000000  1953.000000\n",
       "              Russia   1894.000000  1973.000000\n",
       "              USA      1918.333333  1990.000000\n",
       "post-romantic Austria  1842.000000  1903.500000\n",
       "              Finland  1865.000000  1957.000000\n",
       "              Germany  1864.000000  1949.000000\n",
       "              Italy    1858.000000  1924.000000\n",
       "renaissance   Belgium  1464.500000  1534.000000\n",
       "              England  1551.500000  1624.500000\n",
       "              Italy    1552.666667  1616.666667\n",
       "romantic      Czechia  1832.500000  1894.000000\n",
       "              France   1821.000000  1891.333333\n",
       "              Germany  1806.500000  1865.750000\n",
       "              Italy    1817.250000  1875.750000\n",
       "              Russia   1836.000000  1884.000000\n",
       "              Spain    1863.500000  1912.500000"
      ]
     },
     "execution_count": 157,
     "metadata": {},
     "output_type": "execute_result"
    }
   ],
   "source": [
    "# For example, we can apply most dataframe functions to groups; eg:\n",
    "composer_grouped.mean()\n"
   ]
  },
  {
   "cell_type": "code",
   "execution_count": null,
   "id": "ce4183ec",
   "metadata": {},
   "outputs": [],
   "source": [
    "# Here, we see that Pandas inteligently nests the outputs"
   ]
  },
  {
   "cell_type": "code",
   "execution_count": 158,
   "id": "e7fcb70b",
   "metadata": {},
   "outputs": [
    {
     "data": {
      "text/html": [
       "<div>\n",
       "<style scoped>\n",
       "    .dataframe tbody tr th:only-of-type {\n",
       "        vertical-align: middle;\n",
       "    }\n",
       "\n",
       "    .dataframe tbody tr th {\n",
       "        vertical-align: top;\n",
       "    }\n",
       "\n",
       "    .dataframe thead th {\n",
       "        text-align: right;\n",
       "    }\n",
       "</style>\n",
       "<table border=\"1\" class=\"dataframe\">\n",
       "  <thead>\n",
       "    <tr style=\"text-align: right;\">\n",
       "      <th></th>\n",
       "      <th></th>\n",
       "      <th>composer</th>\n",
       "      <th>birth</th>\n",
       "      <th>death</th>\n",
       "    </tr>\n",
       "    <tr>\n",
       "      <th>period</th>\n",
       "      <th>country</th>\n",
       "      <th></th>\n",
       "      <th></th>\n",
       "      <th></th>\n",
       "    </tr>\n",
       "  </thead>\n",
       "  <tbody>\n",
       "    <tr>\n",
       "      <th rowspan=\"4\" valign=\"top\">baroque</th>\n",
       "      <th>England</th>\n",
       "      <td>1</td>\n",
       "      <td>1</td>\n",
       "      <td>1</td>\n",
       "    </tr>\n",
       "    <tr>\n",
       "      <th>France</th>\n",
       "      <td>3</td>\n",
       "      <td>3</td>\n",
       "      <td>3</td>\n",
       "    </tr>\n",
       "    <tr>\n",
       "      <th>Germany</th>\n",
       "      <td>2</td>\n",
       "      <td>2</td>\n",
       "      <td>2</td>\n",
       "    </tr>\n",
       "    <tr>\n",
       "      <th>Italy</th>\n",
       "      <td>4</td>\n",
       "      <td>4</td>\n",
       "      <td>4</td>\n",
       "    </tr>\n",
       "    <tr>\n",
       "      <th rowspan=\"4\" valign=\"top\">classic</th>\n",
       "      <th>Austria</th>\n",
       "      <td>2</td>\n",
       "      <td>2</td>\n",
       "      <td>2</td>\n",
       "    </tr>\n",
       "    <tr>\n",
       "      <th>Czechia</th>\n",
       "      <td>1</td>\n",
       "      <td>1</td>\n",
       "      <td>1</td>\n",
       "    </tr>\n",
       "    <tr>\n",
       "      <th>Italy</th>\n",
       "      <td>1</td>\n",
       "      <td>1</td>\n",
       "      <td>1</td>\n",
       "    </tr>\n",
       "    <tr>\n",
       "      <th>Spain</th>\n",
       "      <td>1</td>\n",
       "      <td>1</td>\n",
       "      <td>1</td>\n",
       "    </tr>\n",
       "    <tr>\n",
       "      <th rowspan=\"8\" valign=\"top\">modern</th>\n",
       "      <th>Austria</th>\n",
       "      <td>1</td>\n",
       "      <td>1</td>\n",
       "      <td>1</td>\n",
       "    </tr>\n",
       "    <tr>\n",
       "      <th>Czechia</th>\n",
       "      <td>1</td>\n",
       "      <td>1</td>\n",
       "      <td>1</td>\n",
       "    </tr>\n",
       "    <tr>\n",
       "      <th>England</th>\n",
       "      <td>2</td>\n",
       "      <td>2</td>\n",
       "      <td>1</td>\n",
       "    </tr>\n",
       "    <tr>\n",
       "      <th>France</th>\n",
       "      <td>2</td>\n",
       "      <td>2</td>\n",
       "      <td>2</td>\n",
       "    </tr>\n",
       "    <tr>\n",
       "      <th>Germany</th>\n",
       "      <td>1</td>\n",
       "      <td>1</td>\n",
       "      <td>1</td>\n",
       "    </tr>\n",
       "    <tr>\n",
       "      <th>RUssia</th>\n",
       "      <td>1</td>\n",
       "      <td>1</td>\n",
       "      <td>1</td>\n",
       "    </tr>\n",
       "    <tr>\n",
       "      <th>Russia</th>\n",
       "      <td>2</td>\n",
       "      <td>2</td>\n",
       "      <td>2</td>\n",
       "    </tr>\n",
       "    <tr>\n",
       "      <th>USA</th>\n",
       "      <td>3</td>\n",
       "      <td>3</td>\n",
       "      <td>2</td>\n",
       "    </tr>\n",
       "    <tr>\n",
       "      <th rowspan=\"4\" valign=\"top\">post-romantic</th>\n",
       "      <th>Austria</th>\n",
       "      <td>2</td>\n",
       "      <td>2</td>\n",
       "      <td>2</td>\n",
       "    </tr>\n",
       "    <tr>\n",
       "      <th>Finland</th>\n",
       "      <td>1</td>\n",
       "      <td>1</td>\n",
       "      <td>1</td>\n",
       "    </tr>\n",
       "    <tr>\n",
       "      <th>Germany</th>\n",
       "      <td>1</td>\n",
       "      <td>1</td>\n",
       "      <td>1</td>\n",
       "    </tr>\n",
       "    <tr>\n",
       "      <th>Italy</th>\n",
       "      <td>1</td>\n",
       "      <td>1</td>\n",
       "      <td>1</td>\n",
       "    </tr>\n",
       "    <tr>\n",
       "      <th rowspan=\"3\" valign=\"top\">renaissance</th>\n",
       "      <th>Belgium</th>\n",
       "      <td>2</td>\n",
       "      <td>2</td>\n",
       "      <td>2</td>\n",
       "    </tr>\n",
       "    <tr>\n",
       "      <th>England</th>\n",
       "      <td>2</td>\n",
       "      <td>2</td>\n",
       "      <td>2</td>\n",
       "    </tr>\n",
       "    <tr>\n",
       "      <th>Italy</th>\n",
       "      <td>3</td>\n",
       "      <td>3</td>\n",
       "      <td>3</td>\n",
       "    </tr>\n",
       "    <tr>\n",
       "      <th rowspan=\"6\" valign=\"top\">romantic</th>\n",
       "      <th>Czechia</th>\n",
       "      <td>2</td>\n",
       "      <td>2</td>\n",
       "      <td>2</td>\n",
       "    </tr>\n",
       "    <tr>\n",
       "      <th>France</th>\n",
       "      <td>3</td>\n",
       "      <td>3</td>\n",
       "      <td>3</td>\n",
       "    </tr>\n",
       "    <tr>\n",
       "      <th>Germany</th>\n",
       "      <td>4</td>\n",
       "      <td>4</td>\n",
       "      <td>4</td>\n",
       "    </tr>\n",
       "    <tr>\n",
       "      <th>Italy</th>\n",
       "      <td>4</td>\n",
       "      <td>4</td>\n",
       "      <td>4</td>\n",
       "    </tr>\n",
       "    <tr>\n",
       "      <th>Russia</th>\n",
       "      <td>2</td>\n",
       "      <td>2</td>\n",
       "      <td>2</td>\n",
       "    </tr>\n",
       "    <tr>\n",
       "      <th>Spain</th>\n",
       "      <td>2</td>\n",
       "      <td>2</td>\n",
       "      <td>2</td>\n",
       "    </tr>\n",
       "  </tbody>\n",
       "</table>\n",
       "</div>"
      ],
      "text/plain": [
       "                       composer  birth  death\n",
       "period        country                        \n",
       "baroque       England         1      1      1\n",
       "              France          3      3      3\n",
       "              Germany         2      2      2\n",
       "              Italy           4      4      4\n",
       "classic       Austria         2      2      2\n",
       "              Czechia         1      1      1\n",
       "              Italy           1      1      1\n",
       "              Spain           1      1      1\n",
       "modern        Austria         1      1      1\n",
       "              Czechia         1      1      1\n",
       "              England         2      2      1\n",
       "              France          2      2      2\n",
       "              Germany         1      1      1\n",
       "              RUssia          1      1      1\n",
       "              Russia          2      2      2\n",
       "              USA             3      3      2\n",
       "post-romantic Austria         2      2      2\n",
       "              Finland         1      1      1\n",
       "              Germany         1      1      1\n",
       "              Italy           1      1      1\n",
       "renaissance   Belgium         2      2      2\n",
       "              England         2      2      2\n",
       "              Italy           3      3      3\n",
       "romantic      Czechia         2      2      2\n",
       "              France          3      3      3\n",
       "              Germany         4      4      4\n",
       "              Italy           4      4      4\n",
       "              Russia          2      2      2\n",
       "              Spain           2      2      2"
      ]
     },
     "execution_count": 158,
     "metadata": {},
     "output_type": "execute_result"
    }
   ],
   "source": [
    "# And another example with counts\n",
    "composer_grouped.count()"
   ]
  },
  {
   "cell_type": "code",
   "execution_count": null,
   "id": "3731b137",
   "metadata": {},
   "outputs": [],
   "source": [
    "# Functions can also be applied on a group-wise basis"
   ]
  },
  {
   "cell_type": "code",
   "execution_count": 159,
   "id": "3d336b05",
   "metadata": {},
   "outputs": [],
   "source": [
    "# For example, lets do simple function to multiply max values * 3\n",
    "def mult(myseries):\n",
    "    return myseries.max() * 3"
   ]
  },
  {
   "cell_type": "code",
   "execution_count": 160,
   "id": "fee5ed35",
   "metadata": {},
   "outputs": [
    {
     "data": {
      "text/html": [
       "<div>\n",
       "<style scoped>\n",
       "    .dataframe tbody tr th:only-of-type {\n",
       "        vertical-align: middle;\n",
       "    }\n",
       "\n",
       "    .dataframe tbody tr th {\n",
       "        vertical-align: top;\n",
       "    }\n",
       "\n",
       "    .dataframe thead th {\n",
       "        text-align: right;\n",
       "    }\n",
       "</style>\n",
       "<table border=\"1\" class=\"dataframe\">\n",
       "  <thead>\n",
       "    <tr style=\"text-align: right;\">\n",
       "      <th></th>\n",
       "      <th></th>\n",
       "      <th>composer</th>\n",
       "      <th>birth</th>\n",
       "      <th>death</th>\n",
       "      <th>period</th>\n",
       "      <th>country</th>\n",
       "    </tr>\n",
       "    <tr>\n",
       "      <th>period</th>\n",
       "      <th>country</th>\n",
       "      <th></th>\n",
       "      <th></th>\n",
       "      <th></th>\n",
       "      <th></th>\n",
       "      <th></th>\n",
       "    </tr>\n",
       "  </thead>\n",
       "  <tbody>\n",
       "    <tr>\n",
       "      <th rowspan=\"4\" valign=\"top\">baroque</th>\n",
       "      <th>England</th>\n",
       "      <td>PurcellPurcellPurcell</td>\n",
       "      <td>4977</td>\n",
       "      <td>5085.0</td>\n",
       "      <td>baroquebaroquebaroque</td>\n",
       "      <td>EnglandEnglandEngland</td>\n",
       "    </tr>\n",
       "    <tr>\n",
       "      <th>France</th>\n",
       "      <td>RameauRameauRameau</td>\n",
       "      <td>5049</td>\n",
       "      <td>5292.0</td>\n",
       "      <td>baroquebaroquebaroque</td>\n",
       "      <td>FranceFranceFrance</td>\n",
       "    </tr>\n",
       "    <tr>\n",
       "      <th>Germany</th>\n",
       "      <td>HaendelHaendelHaendel</td>\n",
       "      <td>5055</td>\n",
       "      <td>5277.0</td>\n",
       "      <td>baroquebaroquebaroque</td>\n",
       "      <td>GermanyGermanyGermany</td>\n",
       "    </tr>\n",
       "    <tr>\n",
       "      <th>Italy</th>\n",
       "      <td>ScarlattiScarlattiScarlatti</td>\n",
       "      <td>5130</td>\n",
       "      <td>5271.0</td>\n",
       "      <td>baroquebaroquebaroque</td>\n",
       "      <td>ItalyItalyItaly</td>\n",
       "    </tr>\n",
       "    <tr>\n",
       "      <th rowspan=\"4\" valign=\"top\">classic</th>\n",
       "      <th>Austria</th>\n",
       "      <td>MozartMozartMozart</td>\n",
       "      <td>5268</td>\n",
       "      <td>5427.0</td>\n",
       "      <td>classicclassicclassic</td>\n",
       "      <td>AustriaAustriaAustria</td>\n",
       "    </tr>\n",
       "    <tr>\n",
       "      <th>Czechia</th>\n",
       "      <td>DusekDusekDusek</td>\n",
       "      <td>5193</td>\n",
       "      <td>5397.0</td>\n",
       "      <td>classicclassicclassic</td>\n",
       "      <td>CzechiaCzechiaCzechia</td>\n",
       "    </tr>\n",
       "    <tr>\n",
       "      <th>Italy</th>\n",
       "      <td>CimarosaCimarosaCimarosa</td>\n",
       "      <td>5247</td>\n",
       "      <td>5403.0</td>\n",
       "      <td>classicclassicclassic</td>\n",
       "      <td>ItalyItalyItaly</td>\n",
       "    </tr>\n",
       "    <tr>\n",
       "      <th>Spain</th>\n",
       "      <td>SolerSolerSoler</td>\n",
       "      <td>5262</td>\n",
       "      <td>5418.0</td>\n",
       "      <td>classicclassicclassic</td>\n",
       "      <td>SpainSpainSpain</td>\n",
       "    </tr>\n",
       "    <tr>\n",
       "      <th rowspan=\"8\" valign=\"top\">modern</th>\n",
       "      <th>Austria</th>\n",
       "      <td>BergBergBerg</td>\n",
       "      <td>5655</td>\n",
       "      <td>5805.0</td>\n",
       "      <td>modernmodernmodern</td>\n",
       "      <td>AustriaAustriaAustria</td>\n",
       "    </tr>\n",
       "    <tr>\n",
       "      <th>Czechia</th>\n",
       "      <td>JanacekJanacekJanacek</td>\n",
       "      <td>5562</td>\n",
       "      <td>5784.0</td>\n",
       "      <td>modernmodernmodern</td>\n",
       "      <td>CzechiaCzechiaCzechia</td>\n",
       "    </tr>\n",
       "    <tr>\n",
       "      <th>England</th>\n",
       "      <td>WaltonWaltonWalton</td>\n",
       "      <td>5913</td>\n",
       "      <td>5949.0</td>\n",
       "      <td>modernmodernmodern</td>\n",
       "      <td>EnglandEnglandEngland</td>\n",
       "    </tr>\n",
       "    <tr>\n",
       "      <th>France</th>\n",
       "      <td>MessiaenMessiaenMessiaen</td>\n",
       "      <td>5775</td>\n",
       "      <td>6048.0</td>\n",
       "      <td>modernmodernmodern</td>\n",
       "      <td>FranceFranceFrance</td>\n",
       "    </tr>\n",
       "    <tr>\n",
       "      <th>Germany</th>\n",
       "      <td>OrffOrffOrff</td>\n",
       "      <td>5685</td>\n",
       "      <td>5946.0</td>\n",
       "      <td>modernmodernmodern</td>\n",
       "      <td>GermanyGermanyGermany</td>\n",
       "    </tr>\n",
       "    <tr>\n",
       "      <th>RUssia</th>\n",
       "      <td>ProkofievProkofievProkofiev</td>\n",
       "      <td>5673</td>\n",
       "      <td>5859.0</td>\n",
       "      <td>modernmodernmodern</td>\n",
       "      <td>RUssiaRUssiaRUssia</td>\n",
       "    </tr>\n",
       "    <tr>\n",
       "      <th>Russia</th>\n",
       "      <td>StravinskyStravinskyStravinsky</td>\n",
       "      <td>5718</td>\n",
       "      <td>5925.0</td>\n",
       "      <td>modernmodernmodern</td>\n",
       "      <td>RussiaRussiaRussia</td>\n",
       "    </tr>\n",
       "    <tr>\n",
       "      <th>USA</th>\n",
       "      <td>GlassGlassGlass</td>\n",
       "      <td>5811</td>\n",
       "      <td>5970.0</td>\n",
       "      <td>modernmodernmodern</td>\n",
       "      <td>USAUSAUSA</td>\n",
       "    </tr>\n",
       "    <tr>\n",
       "      <th rowspan=\"4\" valign=\"top\">post-romantic</th>\n",
       "      <th>Austria</th>\n",
       "      <td>MahlerMahlerMahler</td>\n",
       "      <td>5580</td>\n",
       "      <td>5733.0</td>\n",
       "      <td>post-romanticpost-romanticpost-romantic</td>\n",
       "      <td>AustriaAustriaAustria</td>\n",
       "    </tr>\n",
       "    <tr>\n",
       "      <th>Finland</th>\n",
       "      <td>SibeliusSibeliusSibelius</td>\n",
       "      <td>5595</td>\n",
       "      <td>5871.0</td>\n",
       "      <td>post-romanticpost-romanticpost-romantic</td>\n",
       "      <td>FinlandFinlandFinland</td>\n",
       "    </tr>\n",
       "    <tr>\n",
       "      <th>Germany</th>\n",
       "      <td>StraussStraussStrauss</td>\n",
       "      <td>5592</td>\n",
       "      <td>5847.0</td>\n",
       "      <td>post-romanticpost-romanticpost-romantic</td>\n",
       "      <td>GermanyGermanyGermany</td>\n",
       "    </tr>\n",
       "    <tr>\n",
       "      <th>Italy</th>\n",
       "      <td>PucciniPucciniPuccini</td>\n",
       "      <td>5574</td>\n",
       "      <td>5772.0</td>\n",
       "      <td>post-romanticpost-romanticpost-romantic</td>\n",
       "      <td>ItalyItalyItaly</td>\n",
       "    </tr>\n",
       "    <tr>\n",
       "      <th rowspan=\"3\" valign=\"top\">renaissance</th>\n",
       "      <th>Belgium</th>\n",
       "      <td>LassusLassusLassus</td>\n",
       "      <td>4596</td>\n",
       "      <td>4782.0</td>\n",
       "      <td>renaissancerenaissancerenaissance</td>\n",
       "      <td>BelgiumBelgiumBelgium</td>\n",
       "    </tr>\n",
       "    <tr>\n",
       "      <th>England</th>\n",
       "      <td>DowlandDowlandDowland</td>\n",
       "      <td>4689</td>\n",
       "      <td>4878.0</td>\n",
       "      <td>renaissancerenaissancerenaissance</td>\n",
       "      <td>EnglandEnglandEngland</td>\n",
       "    </tr>\n",
       "    <tr>\n",
       "      <th>Italy</th>\n",
       "      <td>PalestrinaPalestrinaPalestrina</td>\n",
       "      <td>4701</td>\n",
       "      <td>4929.0</td>\n",
       "      <td>renaissancerenaissancerenaissance</td>\n",
       "      <td>ItalyItalyItaly</td>\n",
       "    </tr>\n",
       "    <tr>\n",
       "      <th rowspan=\"6\" valign=\"top\">romantic</th>\n",
       "      <th>Czechia</th>\n",
       "      <td>SmetanaSmetanaSmetana</td>\n",
       "      <td>5523</td>\n",
       "      <td>5712.0</td>\n",
       "      <td>romanticromanticromantic</td>\n",
       "      <td>CzechiaCzechiaCzechia</td>\n",
       "    </tr>\n",
       "    <tr>\n",
       "      <th>France</th>\n",
       "      <td>MassenetMassenetMassenet</td>\n",
       "      <td>5526</td>\n",
       "      <td>5736.0</td>\n",
       "      <td>romanticromanticromantic</td>\n",
       "      <td>FranceFranceFrance</td>\n",
       "    </tr>\n",
       "    <tr>\n",
       "      <th>Germany</th>\n",
       "      <td>WagnerWagnerWagner</td>\n",
       "      <td>5499</td>\n",
       "      <td>5691.0</td>\n",
       "      <td>romanticromanticromantic</td>\n",
       "      <td>GermanyGermanyGermany</td>\n",
       "    </tr>\n",
       "    <tr>\n",
       "      <th>Italy</th>\n",
       "      <td>VerdiVerdiVerdi</td>\n",
       "      <td>5574</td>\n",
       "      <td>5757.0</td>\n",
       "      <td>romanticromanticromantic</td>\n",
       "      <td>ItalyItalyItaly</td>\n",
       "    </tr>\n",
       "    <tr>\n",
       "      <th>Russia</th>\n",
       "      <td>MussorsgskyMussorsgskyMussorsgsky</td>\n",
       "      <td>5517</td>\n",
       "      <td>5661.0</td>\n",
       "      <td>romanticromanticromantic</td>\n",
       "      <td>RussiaRussiaRussia</td>\n",
       "    </tr>\n",
       "    <tr>\n",
       "      <th>Spain</th>\n",
       "      <td>GranadosGranadosGranados</td>\n",
       "      <td>5601</td>\n",
       "      <td>5748.0</td>\n",
       "      <td>romanticromanticromantic</td>\n",
       "      <td>SpainSpainSpain</td>\n",
       "    </tr>\n",
       "  </tbody>\n",
       "</table>\n",
       "</div>"
      ],
      "text/plain": [
       "                                                composer  birth   death  \\\n",
       "period        country                                                     \n",
       "baroque       England              PurcellPurcellPurcell   4977  5085.0   \n",
       "              France                  RameauRameauRameau   5049  5292.0   \n",
       "              Germany              HaendelHaendelHaendel   5055  5277.0   \n",
       "              Italy          ScarlattiScarlattiScarlatti   5130  5271.0   \n",
       "classic       Austria                 MozartMozartMozart   5268  5427.0   \n",
       "              Czechia                    DusekDusekDusek   5193  5397.0   \n",
       "              Italy             CimarosaCimarosaCimarosa   5247  5403.0   \n",
       "              Spain                      SolerSolerSoler   5262  5418.0   \n",
       "modern        Austria                       BergBergBerg   5655  5805.0   \n",
       "              Czechia              JanacekJanacekJanacek   5562  5784.0   \n",
       "              England                 WaltonWaltonWalton   5913  5949.0   \n",
       "              France            MessiaenMessiaenMessiaen   5775  6048.0   \n",
       "              Germany                       OrffOrffOrff   5685  5946.0   \n",
       "              RUssia         ProkofievProkofievProkofiev   5673  5859.0   \n",
       "              Russia      StravinskyStravinskyStravinsky   5718  5925.0   \n",
       "              USA                        GlassGlassGlass   5811  5970.0   \n",
       "post-romantic Austria                 MahlerMahlerMahler   5580  5733.0   \n",
       "              Finland           SibeliusSibeliusSibelius   5595  5871.0   \n",
       "              Germany              StraussStraussStrauss   5592  5847.0   \n",
       "              Italy                PucciniPucciniPuccini   5574  5772.0   \n",
       "renaissance   Belgium                 LassusLassusLassus   4596  4782.0   \n",
       "              England              DowlandDowlandDowland   4689  4878.0   \n",
       "              Italy       PalestrinaPalestrinaPalestrina   4701  4929.0   \n",
       "romantic      Czechia              SmetanaSmetanaSmetana   5523  5712.0   \n",
       "              France            MassenetMassenetMassenet   5526  5736.0   \n",
       "              Germany                 WagnerWagnerWagner   5499  5691.0   \n",
       "              Italy                      VerdiVerdiVerdi   5574  5757.0   \n",
       "              Russia   MussorsgskyMussorsgskyMussorsgsky   5517  5661.0   \n",
       "              Spain             GranadosGranadosGranados   5601  5748.0   \n",
       "\n",
       "                                                        period  \\\n",
       "period        country                                            \n",
       "baroque       England                    baroquebaroquebaroque   \n",
       "              France                     baroquebaroquebaroque   \n",
       "              Germany                    baroquebaroquebaroque   \n",
       "              Italy                      baroquebaroquebaroque   \n",
       "classic       Austria                    classicclassicclassic   \n",
       "              Czechia                    classicclassicclassic   \n",
       "              Italy                      classicclassicclassic   \n",
       "              Spain                      classicclassicclassic   \n",
       "modern        Austria                       modernmodernmodern   \n",
       "              Czechia                       modernmodernmodern   \n",
       "              England                       modernmodernmodern   \n",
       "              France                        modernmodernmodern   \n",
       "              Germany                       modernmodernmodern   \n",
       "              RUssia                        modernmodernmodern   \n",
       "              Russia                        modernmodernmodern   \n",
       "              USA                           modernmodernmodern   \n",
       "post-romantic Austria  post-romanticpost-romanticpost-romantic   \n",
       "              Finland  post-romanticpost-romanticpost-romantic   \n",
       "              Germany  post-romanticpost-romanticpost-romantic   \n",
       "              Italy    post-romanticpost-romanticpost-romantic   \n",
       "renaissance   Belgium        renaissancerenaissancerenaissance   \n",
       "              England        renaissancerenaissancerenaissance   \n",
       "              Italy          renaissancerenaissancerenaissance   \n",
       "romantic      Czechia                 romanticromanticromantic   \n",
       "              France                  romanticromanticromantic   \n",
       "              Germany                 romanticromanticromantic   \n",
       "              Italy                   romanticromanticromantic   \n",
       "              Russia                  romanticromanticromantic   \n",
       "              Spain                   romanticromanticromantic   \n",
       "\n",
       "                                     country  \n",
       "period        country                         \n",
       "baroque       England  EnglandEnglandEngland  \n",
       "              France      FranceFranceFrance  \n",
       "              Germany  GermanyGermanyGermany  \n",
       "              Italy          ItalyItalyItaly  \n",
       "classic       Austria  AustriaAustriaAustria  \n",
       "              Czechia  CzechiaCzechiaCzechia  \n",
       "              Italy          ItalyItalyItaly  \n",
       "              Spain          SpainSpainSpain  \n",
       "modern        Austria  AustriaAustriaAustria  \n",
       "              Czechia  CzechiaCzechiaCzechia  \n",
       "              England  EnglandEnglandEngland  \n",
       "              France      FranceFranceFrance  \n",
       "              Germany  GermanyGermanyGermany  \n",
       "              RUssia      RUssiaRUssiaRUssia  \n",
       "              Russia      RussiaRussiaRussia  \n",
       "              USA                  USAUSAUSA  \n",
       "post-romantic Austria  AustriaAustriaAustria  \n",
       "              Finland  FinlandFinlandFinland  \n",
       "              Germany  GermanyGermanyGermany  \n",
       "              Italy          ItalyItalyItaly  \n",
       "renaissance   Belgium  BelgiumBelgiumBelgium  \n",
       "              England  EnglandEnglandEngland  \n",
       "              Italy          ItalyItalyItaly  \n",
       "romantic      Czechia  CzechiaCzechiaCzechia  \n",
       "              France      FranceFranceFrance  \n",
       "              Germany  GermanyGermanyGermany  \n",
       "              Italy          ItalyItalyItaly  \n",
       "              Russia      RussiaRussiaRussia  \n",
       "              Spain          SpainSpainSpain  "
      ]
     },
     "execution_count": 160,
     "metadata": {},
     "output_type": "execute_result"
    }
   ],
   "source": [
    "# And lets look at the results\n",
    "composer_grouped.apply(mult)"
   ]
  },
  {
   "cell_type": "markdown",
   "id": "08e0db99",
   "metadata": {},
   "source": [
    "## Reshaping dataframes\n",
    "We often want to reshape data to make more useable, eg, in plotting\n",
    "Here, we look at a few use case and the methods provided by Pandas"
   ]
  },
  {
   "cell_type": "markdown",
   "id": "4489988e",
   "metadata": {},
   "source": [
    "### re-indexing, unstacking\n",
    "One common use case of reshaping is making one row one observating.\n",
    "In cases of groups with multiple indices, each is recasts as a column."
   ]
  },
  {
   "cell_type": "code",
   "execution_count": 161,
   "id": "92a9f27d",
   "metadata": {},
   "outputs": [
    {
     "data": {
      "text/html": [
       "<div>\n",
       "<style scoped>\n",
       "    .dataframe tbody tr th:only-of-type {\n",
       "        vertical-align: middle;\n",
       "    }\n",
       "\n",
       "    .dataframe tbody tr th {\n",
       "        vertical-align: top;\n",
       "    }\n",
       "\n",
       "    .dataframe thead th {\n",
       "        text-align: right;\n",
       "    }\n",
       "</style>\n",
       "<table border=\"1\" class=\"dataframe\">\n",
       "  <thead>\n",
       "    <tr style=\"text-align: right;\">\n",
       "      <th></th>\n",
       "      <th></th>\n",
       "      <th>birth</th>\n",
       "      <th>death</th>\n",
       "    </tr>\n",
       "    <tr>\n",
       "      <th>period</th>\n",
       "      <th>country</th>\n",
       "      <th></th>\n",
       "      <th></th>\n",
       "    </tr>\n",
       "  </thead>\n",
       "  <tbody>\n",
       "    <tr>\n",
       "      <th rowspan=\"4\" valign=\"top\">baroque</th>\n",
       "      <th>England</th>\n",
       "      <td>1659.000000</td>\n",
       "      <td>1695.000000</td>\n",
       "    </tr>\n",
       "    <tr>\n",
       "      <th>France</th>\n",
       "      <td>1650.666667</td>\n",
       "      <td>1709.666667</td>\n",
       "    </tr>\n",
       "    <tr>\n",
       "      <th>Germany</th>\n",
       "      <td>1685.000000</td>\n",
       "      <td>1754.500000</td>\n",
       "    </tr>\n",
       "    <tr>\n",
       "      <th>Italy</th>\n",
       "      <td>1663.000000</td>\n",
       "      <td>1717.250000</td>\n",
       "    </tr>\n",
       "    <tr>\n",
       "      <th rowspan=\"4\" valign=\"top\">classic</th>\n",
       "      <th>Austria</th>\n",
       "      <td>1744.000000</td>\n",
       "      <td>1800.000000</td>\n",
       "    </tr>\n",
       "    <tr>\n",
       "      <th>Czechia</th>\n",
       "      <td>1731.000000</td>\n",
       "      <td>1799.000000</td>\n",
       "    </tr>\n",
       "    <tr>\n",
       "      <th>Italy</th>\n",
       "      <td>1749.000000</td>\n",
       "      <td>1801.000000</td>\n",
       "    </tr>\n",
       "    <tr>\n",
       "      <th>Spain</th>\n",
       "      <td>1754.000000</td>\n",
       "      <td>1806.000000</td>\n",
       "    </tr>\n",
       "    <tr>\n",
       "      <th rowspan=\"2\" valign=\"top\">modern</th>\n",
       "      <th>Austria</th>\n",
       "      <td>1885.000000</td>\n",
       "      <td>1935.000000</td>\n",
       "    </tr>\n",
       "    <tr>\n",
       "      <th>Czechia</th>\n",
       "      <td>1854.000000</td>\n",
       "      <td>1928.000000</td>\n",
       "    </tr>\n",
       "  </tbody>\n",
       "</table>\n",
       "</div>"
      ],
      "text/plain": [
       "                       birth        death\n",
       "period  country                          \n",
       "baroque England  1659.000000  1695.000000\n",
       "        France   1650.666667  1709.666667\n",
       "        Germany  1685.000000  1754.500000\n",
       "        Italy    1663.000000  1717.250000\n",
       "classic Austria  1744.000000  1800.000000\n",
       "        Czechia  1731.000000  1799.000000\n",
       "        Italy    1749.000000  1801.000000\n",
       "        Spain    1754.000000  1806.000000\n",
       "modern  Austria  1885.000000  1935.000000\n",
       "        Czechia  1854.000000  1928.000000"
      ]
     },
     "execution_count": 161,
     "metadata": {},
     "output_type": "execute_result"
    }
   ],
   "source": [
    "# For example, lets look at grouped means\n",
    "composer_grouped = composers.groupby(['period','country']).mean()\n",
    "composer_grouped.head(10)"
   ]
  },
  {
   "cell_type": "code",
   "execution_count": 162,
   "id": "c72d2686",
   "metadata": {},
   "outputs": [
    {
     "data": {
      "text/html": [
       "<div>\n",
       "<style scoped>\n",
       "    .dataframe tbody tr th:only-of-type {\n",
       "        vertical-align: middle;\n",
       "    }\n",
       "\n",
       "    .dataframe tbody tr th {\n",
       "        vertical-align: top;\n",
       "    }\n",
       "\n",
       "    .dataframe thead th {\n",
       "        text-align: right;\n",
       "    }\n",
       "</style>\n",
       "<table border=\"1\" class=\"dataframe\">\n",
       "  <thead>\n",
       "    <tr style=\"text-align: right;\">\n",
       "      <th></th>\n",
       "      <th>period</th>\n",
       "      <th>country</th>\n",
       "      <th>birth</th>\n",
       "      <th>death</th>\n",
       "    </tr>\n",
       "  </thead>\n",
       "  <tbody>\n",
       "    <tr>\n",
       "      <th>0</th>\n",
       "      <td>baroque</td>\n",
       "      <td>England</td>\n",
       "      <td>1659.000000</td>\n",
       "      <td>1695.000000</td>\n",
       "    </tr>\n",
       "    <tr>\n",
       "      <th>1</th>\n",
       "      <td>baroque</td>\n",
       "      <td>France</td>\n",
       "      <td>1650.666667</td>\n",
       "      <td>1709.666667</td>\n",
       "    </tr>\n",
       "    <tr>\n",
       "      <th>2</th>\n",
       "      <td>baroque</td>\n",
       "      <td>Germany</td>\n",
       "      <td>1685.000000</td>\n",
       "      <td>1754.500000</td>\n",
       "    </tr>\n",
       "    <tr>\n",
       "      <th>3</th>\n",
       "      <td>baroque</td>\n",
       "      <td>Italy</td>\n",
       "      <td>1663.000000</td>\n",
       "      <td>1717.250000</td>\n",
       "    </tr>\n",
       "    <tr>\n",
       "      <th>4</th>\n",
       "      <td>classic</td>\n",
       "      <td>Austria</td>\n",
       "      <td>1744.000000</td>\n",
       "      <td>1800.000000</td>\n",
       "    </tr>\n",
       "  </tbody>\n",
       "</table>\n",
       "</div>"
      ],
      "text/plain": [
       "    period  country        birth        death\n",
       "0  baroque  England  1659.000000  1695.000000\n",
       "1  baroque   France  1650.666667  1709.666667\n",
       "2  baroque  Germany  1685.000000  1754.500000\n",
       "3  baroque    Italy  1663.000000  1717.250000\n",
       "4  classic  Austria  1744.000000  1800.000000"
      ]
     },
     "execution_count": 162,
     "metadata": {},
     "output_type": "execute_result"
    }
   ],
   "source": [
    "# And now lets call the method reset_index()\n",
    "composer_grouped.reset_index().head(5)"
   ]
  },
  {
   "cell_type": "code",
   "execution_count": null,
   "id": "4f9f7558",
   "metadata": {},
   "outputs": [],
   "source": [
    "# Once can be more specific and limit the number of indices reset"
   ]
  },
  {
   "cell_type": "code",
   "execution_count": 163,
   "id": "214673c9",
   "metadata": {},
   "outputs": [
    {
     "data": {
      "text/html": [
       "<div>\n",
       "<style scoped>\n",
       "    .dataframe tbody tr th:only-of-type {\n",
       "        vertical-align: middle;\n",
       "    }\n",
       "\n",
       "    .dataframe tbody tr th {\n",
       "        vertical-align: top;\n",
       "    }\n",
       "\n",
       "    .dataframe thead th {\n",
       "        text-align: right;\n",
       "    }\n",
       "</style>\n",
       "<table border=\"1\" class=\"dataframe\">\n",
       "  <thead>\n",
       "    <tr style=\"text-align: right;\">\n",
       "      <th></th>\n",
       "      <th>country</th>\n",
       "      <th>birth</th>\n",
       "      <th>death</th>\n",
       "    </tr>\n",
       "    <tr>\n",
       "      <th>period</th>\n",
       "      <th></th>\n",
       "      <th></th>\n",
       "      <th></th>\n",
       "    </tr>\n",
       "  </thead>\n",
       "  <tbody>\n",
       "    <tr>\n",
       "      <th>baroque</th>\n",
       "      <td>England</td>\n",
       "      <td>1659.000000</td>\n",
       "      <td>1695.000000</td>\n",
       "    </tr>\n",
       "    <tr>\n",
       "      <th>baroque</th>\n",
       "      <td>France</td>\n",
       "      <td>1650.666667</td>\n",
       "      <td>1709.666667</td>\n",
       "    </tr>\n",
       "    <tr>\n",
       "      <th>baroque</th>\n",
       "      <td>Germany</td>\n",
       "      <td>1685.000000</td>\n",
       "      <td>1754.500000</td>\n",
       "    </tr>\n",
       "    <tr>\n",
       "      <th>baroque</th>\n",
       "      <td>Italy</td>\n",
       "      <td>1663.000000</td>\n",
       "      <td>1717.250000</td>\n",
       "    </tr>\n",
       "    <tr>\n",
       "      <th>classic</th>\n",
       "      <td>Austria</td>\n",
       "      <td>1744.000000</td>\n",
       "      <td>1800.000000</td>\n",
       "    </tr>\n",
       "  </tbody>\n",
       "</table>\n",
       "</div>"
      ],
      "text/plain": [
       "         country        birth        death\n",
       "period                                    \n",
       "baroque  England  1659.000000  1695.000000\n",
       "baroque   France  1650.666667  1709.666667\n",
       "baroque  Germany  1685.000000  1754.500000\n",
       "baroque    Italy  1663.000000  1717.250000\n",
       "classic  Austria  1744.000000  1800.000000"
      ]
     },
     "execution_count": 163,
     "metadata": {},
     "output_type": "execute_result"
    }
   ],
   "source": [
    "# Here, we do this by specifying a level one index\n",
    "composer_grouped.reset_index(level=1).head(5)"
   ]
  },
  {
   "cell_type": "code",
   "execution_count": null,
   "id": "feaa7157",
   "metadata": {},
   "outputs": [],
   "source": [
    "# Note, prior example created a new index column; here we use level 1"
   ]
  },
  {
   "cell_type": "markdown",
   "id": "de380018",
   "metadata": {},
   "source": [
    "### unstacking\n",
    "Another way to move indices to columns is to pivot some to columns"
   ]
  },
  {
   "cell_type": "code",
   "execution_count": 164,
   "id": "6c046467",
   "metadata": {},
   "outputs": [
    {
     "data": {
      "text/html": [
       "<div>\n",
       "<style scoped>\n",
       "    .dataframe tbody tr th:only-of-type {\n",
       "        vertical-align: middle;\n",
       "    }\n",
       "\n",
       "    .dataframe tbody tr th {\n",
       "        vertical-align: top;\n",
       "    }\n",
       "\n",
       "    .dataframe thead tr th {\n",
       "        text-align: left;\n",
       "    }\n",
       "\n",
       "    .dataframe thead tr:last-of-type th {\n",
       "        text-align: right;\n",
       "    }\n",
       "</style>\n",
       "<table border=\"1\" class=\"dataframe\">\n",
       "  <thead>\n",
       "    <tr>\n",
       "      <th></th>\n",
       "      <th colspan=\"10\" halign=\"left\">birth</th>\n",
       "      <th>...</th>\n",
       "      <th colspan=\"10\" halign=\"left\">death</th>\n",
       "    </tr>\n",
       "    <tr>\n",
       "      <th>country</th>\n",
       "      <th>Austria</th>\n",
       "      <th>Belgium</th>\n",
       "      <th>Czechia</th>\n",
       "      <th>England</th>\n",
       "      <th>Finland</th>\n",
       "      <th>France</th>\n",
       "      <th>Germany</th>\n",
       "      <th>Italy</th>\n",
       "      <th>RUssia</th>\n",
       "      <th>Russia</th>\n",
       "      <th>...</th>\n",
       "      <th>Czechia</th>\n",
       "      <th>England</th>\n",
       "      <th>Finland</th>\n",
       "      <th>France</th>\n",
       "      <th>Germany</th>\n",
       "      <th>Italy</th>\n",
       "      <th>RUssia</th>\n",
       "      <th>Russia</th>\n",
       "      <th>Spain</th>\n",
       "      <th>USA</th>\n",
       "    </tr>\n",
       "    <tr>\n",
       "      <th>period</th>\n",
       "      <th></th>\n",
       "      <th></th>\n",
       "      <th></th>\n",
       "      <th></th>\n",
       "      <th></th>\n",
       "      <th></th>\n",
       "      <th></th>\n",
       "      <th></th>\n",
       "      <th></th>\n",
       "      <th></th>\n",
       "      <th></th>\n",
       "      <th></th>\n",
       "      <th></th>\n",
       "      <th></th>\n",
       "      <th></th>\n",
       "      <th></th>\n",
       "      <th></th>\n",
       "      <th></th>\n",
       "      <th></th>\n",
       "      <th></th>\n",
       "      <th></th>\n",
       "    </tr>\n",
       "  </thead>\n",
       "  <tbody>\n",
       "    <tr>\n",
       "      <th>baroque</th>\n",
       "      <td>NaN</td>\n",
       "      <td>NaN</td>\n",
       "      <td>NaN</td>\n",
       "      <td>1659.0</td>\n",
       "      <td>NaN</td>\n",
       "      <td>1650.666667</td>\n",
       "      <td>1685.0</td>\n",
       "      <td>1663.000000</td>\n",
       "      <td>NaN</td>\n",
       "      <td>NaN</td>\n",
       "      <td>...</td>\n",
       "      <td>NaN</td>\n",
       "      <td>1695.0</td>\n",
       "      <td>NaN</td>\n",
       "      <td>1709.666667</td>\n",
       "      <td>1754.50</td>\n",
       "      <td>1717.250000</td>\n",
       "      <td>NaN</td>\n",
       "      <td>NaN</td>\n",
       "      <td>NaN</td>\n",
       "      <td>NaN</td>\n",
       "    </tr>\n",
       "    <tr>\n",
       "      <th>classic</th>\n",
       "      <td>1744.0</td>\n",
       "      <td>NaN</td>\n",
       "      <td>1731.0</td>\n",
       "      <td>NaN</td>\n",
       "      <td>NaN</td>\n",
       "      <td>NaN</td>\n",
       "      <td>NaN</td>\n",
       "      <td>1749.000000</td>\n",
       "      <td>NaN</td>\n",
       "      <td>NaN</td>\n",
       "      <td>...</td>\n",
       "      <td>1799.0</td>\n",
       "      <td>NaN</td>\n",
       "      <td>NaN</td>\n",
       "      <td>NaN</td>\n",
       "      <td>NaN</td>\n",
       "      <td>1801.000000</td>\n",
       "      <td>NaN</td>\n",
       "      <td>NaN</td>\n",
       "      <td>1806.0</td>\n",
       "      <td>NaN</td>\n",
       "    </tr>\n",
       "    <tr>\n",
       "      <th>modern</th>\n",
       "      <td>1885.0</td>\n",
       "      <td>NaN</td>\n",
       "      <td>1854.0</td>\n",
       "      <td>1936.5</td>\n",
       "      <td>NaN</td>\n",
       "      <td>1916.500000</td>\n",
       "      <td>1895.0</td>\n",
       "      <td>NaN</td>\n",
       "      <td>1891.0</td>\n",
       "      <td>1894.0</td>\n",
       "      <td>...</td>\n",
       "      <td>1928.0</td>\n",
       "      <td>1983.0</td>\n",
       "      <td>NaN</td>\n",
       "      <td>2004.000000</td>\n",
       "      <td>1982.00</td>\n",
       "      <td>NaN</td>\n",
       "      <td>1953.0</td>\n",
       "      <td>1973.0</td>\n",
       "      <td>NaN</td>\n",
       "      <td>1990.0</td>\n",
       "    </tr>\n",
       "    <tr>\n",
       "      <th>post-romantic</th>\n",
       "      <td>1842.0</td>\n",
       "      <td>NaN</td>\n",
       "      <td>NaN</td>\n",
       "      <td>NaN</td>\n",
       "      <td>1865.0</td>\n",
       "      <td>NaN</td>\n",
       "      <td>1864.0</td>\n",
       "      <td>1858.000000</td>\n",
       "      <td>NaN</td>\n",
       "      <td>NaN</td>\n",
       "      <td>...</td>\n",
       "      <td>NaN</td>\n",
       "      <td>NaN</td>\n",
       "      <td>1957.0</td>\n",
       "      <td>NaN</td>\n",
       "      <td>1949.00</td>\n",
       "      <td>1924.000000</td>\n",
       "      <td>NaN</td>\n",
       "      <td>NaN</td>\n",
       "      <td>NaN</td>\n",
       "      <td>NaN</td>\n",
       "    </tr>\n",
       "    <tr>\n",
       "      <th>renaissance</th>\n",
       "      <td>NaN</td>\n",
       "      <td>1464.5</td>\n",
       "      <td>NaN</td>\n",
       "      <td>1551.5</td>\n",
       "      <td>NaN</td>\n",
       "      <td>NaN</td>\n",
       "      <td>NaN</td>\n",
       "      <td>1552.666667</td>\n",
       "      <td>NaN</td>\n",
       "      <td>NaN</td>\n",
       "      <td>...</td>\n",
       "      <td>NaN</td>\n",
       "      <td>1624.5</td>\n",
       "      <td>NaN</td>\n",
       "      <td>NaN</td>\n",
       "      <td>NaN</td>\n",
       "      <td>1616.666667</td>\n",
       "      <td>NaN</td>\n",
       "      <td>NaN</td>\n",
       "      <td>NaN</td>\n",
       "      <td>NaN</td>\n",
       "    </tr>\n",
       "    <tr>\n",
       "      <th>romantic</th>\n",
       "      <td>NaN</td>\n",
       "      <td>NaN</td>\n",
       "      <td>1832.5</td>\n",
       "      <td>NaN</td>\n",
       "      <td>NaN</td>\n",
       "      <td>1821.000000</td>\n",
       "      <td>1806.5</td>\n",
       "      <td>1817.250000</td>\n",
       "      <td>NaN</td>\n",
       "      <td>1836.0</td>\n",
       "      <td>...</td>\n",
       "      <td>1894.0</td>\n",
       "      <td>NaN</td>\n",
       "      <td>NaN</td>\n",
       "      <td>1891.333333</td>\n",
       "      <td>1865.75</td>\n",
       "      <td>1875.750000</td>\n",
       "      <td>NaN</td>\n",
       "      <td>1884.0</td>\n",
       "      <td>1912.5</td>\n",
       "      <td>NaN</td>\n",
       "    </tr>\n",
       "  </tbody>\n",
       "</table>\n",
       "<p>6 rows × 24 columns</p>\n",
       "</div>"
      ],
      "text/plain": [
       "                birth                                                       \\\n",
       "country       Austria Belgium Czechia England Finland       France Germany   \n",
       "period                                                                       \n",
       "baroque           NaN     NaN     NaN  1659.0     NaN  1650.666667  1685.0   \n",
       "classic        1744.0     NaN  1731.0     NaN     NaN          NaN     NaN   \n",
       "modern         1885.0     NaN  1854.0  1936.5     NaN  1916.500000  1895.0   \n",
       "post-romantic  1842.0     NaN     NaN     NaN  1865.0          NaN  1864.0   \n",
       "renaissance       NaN  1464.5     NaN  1551.5     NaN          NaN     NaN   \n",
       "romantic          NaN     NaN  1832.5     NaN     NaN  1821.000000  1806.5   \n",
       "\n",
       "                                            ...   death                  \\\n",
       "country              Italy  RUssia  Russia  ... Czechia England Finland   \n",
       "period                                      ...                           \n",
       "baroque        1663.000000     NaN     NaN  ...     NaN  1695.0     NaN   \n",
       "classic        1749.000000     NaN     NaN  ...  1799.0     NaN     NaN   \n",
       "modern                 NaN  1891.0  1894.0  ...  1928.0  1983.0     NaN   \n",
       "post-romantic  1858.000000     NaN     NaN  ...     NaN     NaN  1957.0   \n",
       "renaissance    1552.666667     NaN     NaN  ...     NaN  1624.5     NaN   \n",
       "romantic       1817.250000     NaN  1836.0  ...  1894.0     NaN     NaN   \n",
       "\n",
       "                                                                          \\\n",
       "country             France  Germany        Italy  RUssia  Russia   Spain   \n",
       "period                                                                     \n",
       "baroque        1709.666667  1754.50  1717.250000     NaN     NaN     NaN   \n",
       "classic                NaN      NaN  1801.000000     NaN     NaN  1806.0   \n",
       "modern         2004.000000  1982.00          NaN  1953.0  1973.0     NaN   \n",
       "post-romantic          NaN  1949.00  1924.000000     NaN     NaN     NaN   \n",
       "renaissance            NaN      NaN  1616.666667     NaN     NaN     NaN   \n",
       "romantic       1891.333333  1865.75  1875.750000     NaN  1884.0  1912.5   \n",
       "\n",
       "                       \n",
       "country           USA  \n",
       "period                 \n",
       "baroque           NaN  \n",
       "classic           NaN  \n",
       "modern         1990.0  \n",
       "post-romantic     NaN  \n",
       "renaissance       NaN  \n",
       "romantic          NaN  \n",
       "\n",
       "[6 rows x 24 columns]"
      ]
     },
     "execution_count": 164,
     "metadata": {},
     "output_type": "execute_result"
    }
   ],
   "source": [
    "# For example,\n",
    "composer_grouped.unstack()"
   ]
  },
  {
   "cell_type": "code",
   "execution_count": null,
   "id": "2bd2f404",
   "metadata": {},
   "outputs": [],
   "source": [
    "# This creates a multi-level column indexing, unstacking the grouping"
   ]
  },
  {
   "cell_type": "markdown",
   "id": "c278fba4",
   "metadata": {},
   "source": [
    "### Wide to long: melt\n",
    "Used to consolodate date-types indexed by categorical values.\n",
    "For that, we need to specify id_vars (categories) and value_vars."
   ]
  },
  {
   "cell_type": "code",
   "execution_count": 165,
   "id": "4617cbf5",
   "metadata": {},
   "outputs": [
    {
     "data": {
      "text/html": [
       "<div>\n",
       "<style scoped>\n",
       "    .dataframe tbody tr th:only-of-type {\n",
       "        vertical-align: middle;\n",
       "    }\n",
       "\n",
       "    .dataframe tbody tr th {\n",
       "        vertical-align: top;\n",
       "    }\n",
       "\n",
       "    .dataframe thead th {\n",
       "        text-align: right;\n",
       "    }\n",
       "</style>\n",
       "<table border=\"1\" class=\"dataframe\">\n",
       "  <thead>\n",
       "    <tr style=\"text-align: right;\">\n",
       "      <th></th>\n",
       "      <th>composer</th>\n",
       "      <th>birth</th>\n",
       "      <th>death</th>\n",
       "      <th>period</th>\n",
       "      <th>country</th>\n",
       "    </tr>\n",
       "  </thead>\n",
       "  <tbody>\n",
       "    <tr>\n",
       "      <th>0</th>\n",
       "      <td>Mahler</td>\n",
       "      <td>1860</td>\n",
       "      <td>1911.0</td>\n",
       "      <td>post-romantic</td>\n",
       "      <td>Austria</td>\n",
       "    </tr>\n",
       "    <tr>\n",
       "      <th>1</th>\n",
       "      <td>Beethoven</td>\n",
       "      <td>1770</td>\n",
       "      <td>1827.0</td>\n",
       "      <td>romantic</td>\n",
       "      <td>Germany</td>\n",
       "    </tr>\n",
       "    <tr>\n",
       "      <th>2</th>\n",
       "      <td>Puccini</td>\n",
       "      <td>1858</td>\n",
       "      <td>1924.0</td>\n",
       "      <td>post-romantic</td>\n",
       "      <td>Italy</td>\n",
       "    </tr>\n",
       "    <tr>\n",
       "      <th>3</th>\n",
       "      <td>Shostakovich</td>\n",
       "      <td>1906</td>\n",
       "      <td>1975.0</td>\n",
       "      <td>modern</td>\n",
       "      <td>Russia</td>\n",
       "    </tr>\n",
       "    <tr>\n",
       "      <th>4</th>\n",
       "      <td>Verdi</td>\n",
       "      <td>1813</td>\n",
       "      <td>1901.0</td>\n",
       "      <td>romantic</td>\n",
       "      <td>Italy</td>\n",
       "    </tr>\n",
       "  </tbody>\n",
       "</table>\n",
       "</div>"
      ],
      "text/plain": [
       "       composer  birth   death         period  country\n",
       "0        Mahler   1860  1911.0  post-romantic  Austria\n",
       "1     Beethoven   1770  1827.0       romantic  Germany\n",
       "2       Puccini   1858  1924.0  post-romantic    Italy\n",
       "3  Shostakovich   1906  1975.0         modern   Russia\n",
       "4         Verdi   1813  1901.0       romantic    Italy"
      ]
     },
     "execution_count": 165,
     "metadata": {},
     "output_type": "execute_result"
    }
   ],
   "source": [
    "# Recall the composer data\n",
    "composers.head(5)"
   ]
  },
  {
   "cell_type": "code",
   "execution_count": 166,
   "id": "1c91a3b8",
   "metadata": {},
   "outputs": [
    {
     "data": {
      "text/html": [
       "<div>\n",
       "<style scoped>\n",
       "    .dataframe tbody tr th:only-of-type {\n",
       "        vertical-align: middle;\n",
       "    }\n",
       "\n",
       "    .dataframe tbody tr th {\n",
       "        vertical-align: top;\n",
       "    }\n",
       "\n",
       "    .dataframe thead th {\n",
       "        text-align: right;\n",
       "    }\n",
       "</style>\n",
       "<table border=\"1\" class=\"dataframe\">\n",
       "  <thead>\n",
       "    <tr style=\"text-align: right;\">\n",
       "      <th></th>\n",
       "      <th>composer</th>\n",
       "      <th>variable</th>\n",
       "      <th>value</th>\n",
       "    </tr>\n",
       "  </thead>\n",
       "  <tbody>\n",
       "    <tr>\n",
       "      <th>0</th>\n",
       "      <td>Mahler</td>\n",
       "      <td>birth</td>\n",
       "      <td>1860.0</td>\n",
       "    </tr>\n",
       "    <tr>\n",
       "      <th>1</th>\n",
       "      <td>Beethoven</td>\n",
       "      <td>birth</td>\n",
       "      <td>1770.0</td>\n",
       "    </tr>\n",
       "    <tr>\n",
       "      <th>2</th>\n",
       "      <td>Puccini</td>\n",
       "      <td>birth</td>\n",
       "      <td>1858.0</td>\n",
       "    </tr>\n",
       "    <tr>\n",
       "      <th>3</th>\n",
       "      <td>Shostakovich</td>\n",
       "      <td>birth</td>\n",
       "      <td>1906.0</td>\n",
       "    </tr>\n",
       "    <tr>\n",
       "      <th>4</th>\n",
       "      <td>Verdi</td>\n",
       "      <td>birth</td>\n",
       "      <td>1813.0</td>\n",
       "    </tr>\n",
       "    <tr>\n",
       "      <th>...</th>\n",
       "      <td>...</td>\n",
       "      <td>...</td>\n",
       "      <td>...</td>\n",
       "    </tr>\n",
       "    <tr>\n",
       "      <th>109</th>\n",
       "      <td>Smetana</td>\n",
       "      <td>death</td>\n",
       "      <td>1884.0</td>\n",
       "    </tr>\n",
       "    <tr>\n",
       "      <th>110</th>\n",
       "      <td>Janacek</td>\n",
       "      <td>death</td>\n",
       "      <td>1928.0</td>\n",
       "    </tr>\n",
       "    <tr>\n",
       "      <th>111</th>\n",
       "      <td>Copland</td>\n",
       "      <td>death</td>\n",
       "      <td>1990.0</td>\n",
       "    </tr>\n",
       "    <tr>\n",
       "      <th>112</th>\n",
       "      <td>Bernstein</td>\n",
       "      <td>death</td>\n",
       "      <td>1990.0</td>\n",
       "    </tr>\n",
       "    <tr>\n",
       "      <th>113</th>\n",
       "      <td>Glass</td>\n",
       "      <td>death</td>\n",
       "      <td>NaN</td>\n",
       "    </tr>\n",
       "  </tbody>\n",
       "</table>\n",
       "<p>114 rows × 3 columns</p>\n",
       "</div>"
      ],
      "text/plain": [
       "         composer variable   value\n",
       "0          Mahler    birth  1860.0\n",
       "1       Beethoven    birth  1770.0\n",
       "2         Puccini    birth  1858.0\n",
       "3    Shostakovich    birth  1906.0\n",
       "4           Verdi    birth  1813.0\n",
       "..            ...      ...     ...\n",
       "109       Smetana    death  1884.0\n",
       "110       Janacek    death  1928.0\n",
       "111       Copland    death  1990.0\n",
       "112     Bernstein    death  1990.0\n",
       "113         Glass    death     NaN\n",
       "\n",
       "[114 rows x 3 columns]"
      ]
     },
     "execution_count": 166,
     "metadata": {},
     "output_type": "execute_result"
    }
   ],
   "source": [
    "# Let's call the melt method, specifying id_vars and value_vars.\n",
    "pd.melt(composers, id_vars=['composer'], value_vars=['birth', 'death'])"
   ]
  },
  {
   "cell_type": "markdown",
   "id": "8d06d0e2",
   "metadata": {},
   "source": [
    "## A real-world example\n",
    "Here, we are going to perform an analysis with all our Pandas tools"
   ]
  },
  {
   "cell_type": "code",
   "execution_count": null,
   "id": "bf65c166",
   "metadata": {},
   "outputs": [],
   "source": []
  }
 ],
 "metadata": {
  "kernelspec": {
   "display_name": "Python 3 (ipykernel)",
   "language": "python",
   "name": "python3"
  },
  "language_info": {
   "codemirror_mode": {
    "name": "ipython",
    "version": 3
   },
   "file_extension": ".py",
   "mimetype": "text/x-python",
   "name": "python",
   "nbconvert_exporter": "python",
   "pygments_lexer": "ipython3",
   "version": "3.9.7"
  }
 },
 "nbformat": 4,
 "nbformat_minor": 5
}
